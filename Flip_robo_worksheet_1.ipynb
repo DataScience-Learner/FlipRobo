{
 "cells": [
  {
   "cell_type": "markdown",
   "metadata": {},
   "source": [
    "## Statisctic worksheet 1"
   ]
  },
  {
   "cell_type": "markdown",
   "metadata": {},
   "source": [
    "Q1: A) True\n",
    "\n",
    "Q2: B) Central mean theorem\n",
    "\n",
    "Q3: C) Modeling contingency tables\n",
    "\n",
    "Q4: D) All of the above\n",
    "\n",
    "Q5: C) Poisson\n",
    "\n",
    "Q6: A) True\n",
    "\n",
    "Q7: B) Hypothesis\n",
    "\n",
    "Q8: A) 0\n",
    "\n",
    "Q9: C) Outliers cannot conform to the regression relationship\n",
    "\n",
    "Q10: Normal distribution is a bell curve in which the average of the data lies in the centre and is the most populus. Almost all of the data follows this type of distribution. (with outliers being an exception)\n",
    "\n",
    "Q11: To handle missing data we can take average of all other data and we can put the average/mean insted of the missing values, alternatively depending on the situation we can also delete all the missing data, i.e. remove it and all other variables associated with it. \n",
    "\n",
    "Q12: A/B testing is a type of testing hypothesis which is used in statistics, it consists of random testing with two variants namely A & B.\n",
    "\n",
    "Q13: It is a topic of debate, on the one hand mean iimputation preserves the overall mean of the data. On the other hand it lowers the variance which makes the standars error too low - but the algorithms which we use treat it as a real data. It could be harmful in some studies and give bad results.\n",
    "\n",
    "Q14: When we try to predict the results from a data set using a straight line, it is called liniear regression. It is the most common technique used in statistics and is used when data is usually clustered in a straight line.\n",
    "\n",
    "Q15: The main analysis branches of statistics are descriptive statistics and inferential statistics. But data collection may also be considered as a branch of statistics."
   ]
  },
  {
   "cell_type": "markdown",
   "metadata": {},
   "source": [
    "## Machine Learning worksheet 1"
   ]
  },
  {
   "cell_type": "markdown",
   "metadata": {},
   "source": [
    "Q1: C) O(n^2)\n",
    "\n",
    "Q2: C) Polynomial regression\n",
    "\n",
    "Q3: C) Pasting\n",
    "\n",
    "Q4: D) Elastic nets\n",
    "\n",
    "Q5: D) All of the above\n",
    "\n",
    "Q6: B) False\n",
    "\n",
    "Q7: D) None of the above\n",
    "\n",
    "Q8: B) Corelation\n",
    "\n",
    "Q9: A) We don’t have to choose the learning rate.\n",
    "    B) It becomes slow when number of features are very large.\n",
    "\n",
    "Q10: A) Linear Regression will have high bias and low variance.\n",
    "     C) Polynomial with degree 5 will have low bias and high variance.\n",
    "\n",
    "Q11: A) It relates inputs to outputs.\n",
    "     D) No inference can be made from regression line.\n",
    "     \n",
    "\n",
    "\n",
    "\n"
   ]
  },
  {
   "cell_type": "markdown",
   "metadata": {},
   "source": [
    "## Python work sheet 1"
   ]
  },
  {
   "cell_type": "markdown",
   "metadata": {},
   "source": [
    "Q1: C) %\n",
    "\n",
    "Q2: D) 0.67\n",
    "\n",
    "Q3: A) 36\n",
    "\n",
    "Q4: A) 2\n",
    "\n",
    "Q5: D) 6\n",
    "\n",
    "Q6: C) the finally block will be executed no matter if the try block raises an error or not.\n",
    "\n",
    "Q7: A) It is used to raise an exception.\n",
    "\n",
    "Q8: B) While defining a lambda function\n",
    "\n",
    "Q9: C) abc2\n",
    "\n",
    "Q10: A) yield B) raise\n"
   ]
  },
  {
   "cell_type": "markdown",
   "metadata": {},
   "source": [
    "#### Python program: Factorial of a number"
   ]
  },
  {
   "cell_type": "code",
   "execution_count": 1,
   "metadata": {},
   "outputs": [
    {
     "name": "stdout",
     "output_type": "stream",
     "text": [
      "Please enter a positive whole number: 31\n",
      "8222838654177922817725562880000000\n"
     ]
    }
   ],
   "source": [
    "num = input('Please enter a positive whole number: ')\n",
    "num = float(num)\n",
    "import math\n",
    "if num > 0:\n",
    "    \n",
    "    num = math.floor(num)\n",
    "    prod = 1\n",
    "    while num > 0:\n",
    "        prod = prod*num\n",
    "        num = num - 1\n",
    "else:\n",
    "    print('Enter a positive number please.')\n",
    "    \n",
    "print(prod)\n",
    "    \n",
    "        "
   ]
  },
  {
   "cell_type": "markdown",
   "metadata": {},
   "source": [
    "#### Python prgoram: Prime or composite"
   ]
  },
  {
   "cell_type": "code",
   "execution_count": 2,
   "metadata": {},
   "outputs": [
    {
     "name": "stdout",
     "output_type": "stream",
     "text": [
      "Please enter a positive whole number: 31\n",
      "31 is a prime number\n"
     ]
    }
   ],
   "source": [
    "num = int(input('Please enter a positive whole number: '))\n",
    "if num > 1:\n",
    "  \n",
    "    \n",
    "    for i in range(2, int(num/2)+1):\n",
    "        if (num % i) == 0:\n",
    "            print(num, \"is a composite number\")\n",
    "            break\n",
    "    else:\n",
    "        print(num, \"is a prime number\")"
   ]
  },
  {
   "cell_type": "markdown",
   "metadata": {},
   "source": [
    "#### Python pragram: Check palindrome or not\n"
   ]
  },
  {
   "cell_type": "code",
   "execution_count": 3,
   "metadata": {},
   "outputs": [
    {
     "name": "stdout",
     "output_type": "stream",
     "text": [
      "enter some text: ololo\n",
      "It is a palindrome.\n"
     ]
    }
   ],
   "source": [
    "inp_str = input('enter some text: ')\n",
    "\n",
    "opp_str = inp_str[::-1]\n",
    "\n",
    "if inp_str == opp_str:\n",
    "    print('It is a palindrome.')\n",
    "else: \n",
    "    print('It is not a palindrome')"
   ]
  },
  {
   "cell_type": "markdown",
   "metadata": {},
   "source": [
    "#### Python pragram: third side of triangle\n"
   ]
  },
  {
   "cell_type": "code",
   "execution_count": 4,
   "metadata": {},
   "outputs": [
    {
     "name": "stdout",
     "output_type": "stream",
     "text": [
      "Enter side 1: 3\n",
      "Enter side 2: 4\n",
      "The hypothenus is:  5.0\n"
     ]
    }
   ],
   "source": [
    "inp_a = int(input('Enter side 1: '))\n",
    "inp_b = int(input('Enter side 2: '))\n",
    "\n",
    "c = (inp_a**2 + inp_b**2)\n",
    "\n",
    "hypo = math.sqrt(c)\n",
    "print('The hypothenus is: ', hypo)"
   ]
  },
  {
   "cell_type": "markdown",
   "metadata": {},
   "source": [
    "#### Python pragram: frequency of character"
   ]
  },
  {
   "cell_type": "code",
   "execution_count": 5,
   "metadata": {},
   "outputs": [
    {
     "name": "stdout",
     "output_type": "stream",
     "text": [
      "enter a string to test hello how many are there, iiiiiiii\n",
      "Count of all characters is as follows: \n",
      " {'h': 3, 'e': 4, 'l': 2, 'o': 2, ' ': 5, 'w': 1, 'm': 1, 'a': 2, 'n': 1, 'y': 1, 'r': 2, 't': 1, ',': 1, 'i': 8}\n"
     ]
    }
   ],
   "source": [
    "inp = input('enter a string to test ')\n",
    "  \n",
    "# using naive method to get count \n",
    "# of each element in string \n",
    "all_freq = {}\n",
    "  \n",
    "for i in inp:\n",
    "    if i in all_freq:\n",
    "        all_freq[i] += 1\n",
    "    else:\n",
    "        all_freq[i] = 1\n",
    "\n",
    "\n",
    "print('Count of all characters is as follows: \\n ' +  str(all_freq))"
   ]
  },
  {
   "cell_type": "markdown",
   "metadata": {},
   "source": [
    "### End of worksheet 1"
   ]
  }
 ],
 "metadata": {
  "kernelspec": {
   "display_name": "Python 3",
   "language": "python",
   "name": "python3"
  },
  "language_info": {
   "codemirror_mode": {
    "name": "ipython",
    "version": 3
   },
   "file_extension": ".py",
   "mimetype": "text/x-python",
   "name": "python",
   "nbconvert_exporter": "python",
   "pygments_lexer": "ipython3",
   "version": "3.8.5"
  }
 },
 "nbformat": 4,
 "nbformat_minor": 4
}
