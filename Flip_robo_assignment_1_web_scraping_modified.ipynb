{
 "cells": [
  {
   "cell_type": "markdown",
   "metadata": {},
   "source": [
    "# Assignment-1 web scraping\n",
    "\n",
    "### I have commented out the contents, otherwise it was taking huge space on github display."
   ]
  },
  {
   "cell_type": "markdown",
   "metadata": {},
   "source": [
    "## Beginning of question 1"
   ]
  },
  {
   "cell_type": "code",
   "execution_count": 1,
   "metadata": {},
   "outputs": [],
   "source": [
    "from bs4 import BeautifulSoup\n",
    "import requests\n",
    "import pandas as pd"
   ]
  },
  {
   "cell_type": "code",
   "execution_count": 2,
   "metadata": {},
   "outputs": [
    {
     "data": {
      "text/plain": [
       "<Response [200]>"
      ]
     },
     "execution_count": 2,
     "metadata": {},
     "output_type": "execute_result"
    }
   ],
   "source": [
    "page_wiki = requests.get('https://en.wikipedia.org/wiki/Main_Page')\n",
    "page_wiki"
   ]
  },
  {
   "cell_type": "code",
   "execution_count": 3,
   "metadata": {},
   "outputs": [],
   "source": [
    "# page_wiki.content"
   ]
  },
  {
   "cell_type": "code",
   "execution_count": 4,
   "metadata": {},
   "outputs": [],
   "source": [
    "soup_wiki = BeautifulSoup(page_wiki.content)\n",
    "# soup_wiki"
   ]
  },
  {
   "cell_type": "code",
   "execution_count": 5,
   "metadata": {},
   "outputs": [],
   "source": [
    "# print(soup_wiki.prettify())"
   ]
  },
  {
   "cell_type": "code",
   "execution_count": 6,
   "metadata": {},
   "outputs": [],
   "source": [
    "all_text = soup_wiki.find_all('div',class_= 'mw-parser-output')\n",
    "# all_text"
   ]
  },
  {
   "cell_type": "code",
   "execution_count": 7,
   "metadata": {},
   "outputs": [
    {
     "data": {
      "text/plain": [
       "[\"From today's featured article\",\n",
       " 'Did you know\\xa0...',\n",
       " 'In the news',\n",
       " 'On this day',\n",
       " \"Today's featured picture\",\n",
       " 'Other areas of Wikipedia',\n",
       " \"Wikipedia's sister projects\",\n",
       " 'Wikipedia languages']"
      ]
     },
     "execution_count": 7,
     "metadata": {},
     "output_type": "execute_result"
    }
   ],
   "source": [
    "headers = []\n",
    "\n",
    "for i in all_text:\n",
    "    for j in i.find_all(\"h2\"):\n",
    "        headers.append(j.text)\n",
    "    \n",
    "        \n",
    "headers\n",
    "    "
   ]
  },
  {
   "cell_type": "code",
   "execution_count": 8,
   "metadata": {},
   "outputs": [
    {
     "data": {
      "text/html": [
       "<div>\n",
       "<style scoped>\n",
       "    .dataframe tbody tr th:only-of-type {\n",
       "        vertical-align: middle;\n",
       "    }\n",
       "\n",
       "    .dataframe tbody tr th {\n",
       "        vertical-align: top;\n",
       "    }\n",
       "\n",
       "    .dataframe thead th {\n",
       "        text-align: right;\n",
       "    }\n",
       "</style>\n",
       "<table border=\"1\" class=\"dataframe\">\n",
       "  <thead>\n",
       "    <tr style=\"text-align: right;\">\n",
       "      <th></th>\n",
       "      <th>Headers</th>\n",
       "    </tr>\n",
       "  </thead>\n",
       "  <tbody>\n",
       "    <tr>\n",
       "      <th>0</th>\n",
       "      <td>From today's featured article</td>\n",
       "    </tr>\n",
       "    <tr>\n",
       "      <th>1</th>\n",
       "      <td>Did you know ...</td>\n",
       "    </tr>\n",
       "    <tr>\n",
       "      <th>2</th>\n",
       "      <td>In the news</td>\n",
       "    </tr>\n",
       "    <tr>\n",
       "      <th>3</th>\n",
       "      <td>On this day</td>\n",
       "    </tr>\n",
       "    <tr>\n",
       "      <th>4</th>\n",
       "      <td>Today's featured picture</td>\n",
       "    </tr>\n",
       "    <tr>\n",
       "      <th>5</th>\n",
       "      <td>Other areas of Wikipedia</td>\n",
       "    </tr>\n",
       "    <tr>\n",
       "      <th>6</th>\n",
       "      <td>Wikipedia's sister projects</td>\n",
       "    </tr>\n",
       "    <tr>\n",
       "      <th>7</th>\n",
       "      <td>Wikipedia languages</td>\n",
       "    </tr>\n",
       "  </tbody>\n",
       "</table>\n",
       "</div>"
      ],
      "text/plain": [
       "                         Headers\n",
       "0  From today's featured article\n",
       "1               Did you know ...\n",
       "2                    In the news\n",
       "3                    On this day\n",
       "4       Today's featured picture\n",
       "5       Other areas of Wikipedia\n",
       "6    Wikipedia's sister projects\n",
       "7            Wikipedia languages"
      ]
     },
     "execution_count": 8,
     "metadata": {},
     "output_type": "execute_result"
    }
   ],
   "source": [
    "header_df = pd.DataFrame({})\n",
    "header_df['Headers']=headers\n",
    "\n",
    "header_df\n"
   ]
  },
  {
   "cell_type": "markdown",
   "metadata": {},
   "source": [
    "### Final answer for question 1"
   ]
  },
  {
   "cell_type": "markdown",
   "metadata": {},
   "source": [
    "## Beginning of question 2"
   ]
  },
  {
   "cell_type": "code",
   "execution_count": 9,
   "metadata": {},
   "outputs": [
    {
     "data": {
      "text/plain": [
       "<Response [200]>"
      ]
     },
     "execution_count": 9,
     "metadata": {},
     "output_type": "execute_result"
    }
   ],
   "source": [
    "page_imdb_top = requests.get('https://www.imdb.com/chart/top/')\n",
    "page_imdb_top"
   ]
  },
  {
   "cell_type": "code",
   "execution_count": 10,
   "metadata": {},
   "outputs": [],
   "source": [
    "soup_imdb_top = BeautifulSoup(page_imdb_top.content)"
   ]
  },
  {
   "cell_type": "code",
   "execution_count": 11,
   "metadata": {},
   "outputs": [],
   "source": [
    "# print(soup_imdb_top.prettify())"
   ]
  },
  {
   "cell_type": "code",
   "execution_count": 12,
   "metadata": {},
   "outputs": [],
   "source": [
    "all_text = soup_imdb_top.find_all('div',class_='lister')\n",
    "# all_text"
   ]
  },
  {
   "cell_type": "code",
   "execution_count": 13,
   "metadata": {},
   "outputs": [],
   "source": [
    "titles_two = []\n",
    "\n",
    "for i in all_text:\n",
    "    for j in i.find_all(\"a\"):\n",
    "        titles_two.append(j.text)\n",
    "    "
   ]
  },
  {
   "cell_type": "code",
   "execution_count": 14,
   "metadata": {},
   "outputs": [],
   "source": [
    "# titles_two"
   ]
  },
  {
   "cell_type": "code",
   "execution_count": 15,
   "metadata": {},
   "outputs": [],
   "source": [
    "titles = []\n",
    "for i in range(1,len(titles_two),2):\n",
    "    titles.append(titles_two[i])\n",
    "# titles"
   ]
  },
  {
   "cell_type": "code",
   "execution_count": 16,
   "metadata": {},
   "outputs": [],
   "source": [
    "imdb_rating = []\n",
    "\n",
    "for i in all_text:\n",
    "    for j in i.find_all(\"strong\"):\n",
    "        imdb_rating.append(j.text)\n",
    "    "
   ]
  },
  {
   "cell_type": "code",
   "execution_count": 17,
   "metadata": {},
   "outputs": [
    {
     "data": {
      "text/plain": [
       "250"
      ]
     },
     "execution_count": 17,
     "metadata": {},
     "output_type": "execute_result"
    }
   ],
   "source": [
    "len(imdb_rating)"
   ]
  },
  {
   "cell_type": "code",
   "execution_count": 18,
   "metadata": {},
   "outputs": [],
   "source": [
    "short_text = soup_imdb_top.find_all('td', class_='titleColumn')\n",
    "# short_text"
   ]
  },
  {
   "cell_type": "code",
   "execution_count": 19,
   "metadata": {},
   "outputs": [],
   "source": [
    "year_release = []\n",
    "for i in short_text:\n",
    "    for j in i.find_all(\"span\"):\n",
    "        year_release.append(j.text)\n"
   ]
  },
  {
   "cell_type": "code",
   "execution_count": 20,
   "metadata": {},
   "outputs": [],
   "source": [
    "# year_release"
   ]
  },
  {
   "cell_type": "code",
   "execution_count": 21,
   "metadata": {},
   "outputs": [],
   "source": [
    "IMDB_top_chart = pd.DataFrame({})\n",
    "IMDB_top_chart['Name'] = titles\n",
    "IMDB_top_chart['Rating'] = imdb_rating\n",
    "IMDB_top_chart['Year'] = year_release\n"
   ]
  },
  {
   "cell_type": "code",
   "execution_count": 22,
   "metadata": {},
   "outputs": [
    {
     "data": {
      "text/html": [
       "<div>\n",
       "<style scoped>\n",
       "    .dataframe tbody tr th:only-of-type {\n",
       "        vertical-align: middle;\n",
       "    }\n",
       "\n",
       "    .dataframe tbody tr th {\n",
       "        vertical-align: top;\n",
       "    }\n",
       "\n",
       "    .dataframe thead th {\n",
       "        text-align: right;\n",
       "    }\n",
       "</style>\n",
       "<table border=\"1\" class=\"dataframe\">\n",
       "  <thead>\n",
       "    <tr style=\"text-align: right;\">\n",
       "      <th></th>\n",
       "      <th>Name</th>\n",
       "      <th>Rating</th>\n",
       "      <th>Year</th>\n",
       "    </tr>\n",
       "  </thead>\n",
       "  <tbody>\n",
       "    <tr>\n",
       "      <th>0</th>\n",
       "      <td>The Shawshank Redemption</td>\n",
       "      <td>9.2</td>\n",
       "      <td>(1994)</td>\n",
       "    </tr>\n",
       "    <tr>\n",
       "      <th>1</th>\n",
       "      <td>The Godfather</td>\n",
       "      <td>9.1</td>\n",
       "      <td>(1972)</td>\n",
       "    </tr>\n",
       "    <tr>\n",
       "      <th>2</th>\n",
       "      <td>The Godfather: Part II</td>\n",
       "      <td>9.0</td>\n",
       "      <td>(1974)</td>\n",
       "    </tr>\n",
       "    <tr>\n",
       "      <th>3</th>\n",
       "      <td>The Dark Knight</td>\n",
       "      <td>9.0</td>\n",
       "      <td>(2008)</td>\n",
       "    </tr>\n",
       "    <tr>\n",
       "      <th>4</th>\n",
       "      <td>12 Angry Men</td>\n",
       "      <td>8.9</td>\n",
       "      <td>(1957)</td>\n",
       "    </tr>\n",
       "    <tr>\n",
       "      <th>...</th>\n",
       "      <td>...</td>\n",
       "      <td>...</td>\n",
       "      <td>...</td>\n",
       "    </tr>\n",
       "    <tr>\n",
       "      <th>245</th>\n",
       "      <td>Kimetsu no Yaiba: Mugen Ressha-Hen</td>\n",
       "      <td>8.0</td>\n",
       "      <td>(2020)</td>\n",
       "    </tr>\n",
       "    <tr>\n",
       "      <th>246</th>\n",
       "      <td>Sunrise: A Song of Two Humans</td>\n",
       "      <td>8.0</td>\n",
       "      <td>(1927)</td>\n",
       "    </tr>\n",
       "    <tr>\n",
       "      <th>247</th>\n",
       "      <td>Hera Pheri</td>\n",
       "      <td>8.0</td>\n",
       "      <td>(2000)</td>\n",
       "    </tr>\n",
       "    <tr>\n",
       "      <th>248</th>\n",
       "      <td>Drishyam</td>\n",
       "      <td>8.0</td>\n",
       "      <td>(2013)</td>\n",
       "    </tr>\n",
       "    <tr>\n",
       "      <th>249</th>\n",
       "      <td>Paris, Texas</td>\n",
       "      <td>8.0</td>\n",
       "      <td>(1984)</td>\n",
       "    </tr>\n",
       "  </tbody>\n",
       "</table>\n",
       "<p>250 rows × 3 columns</p>\n",
       "</div>"
      ],
      "text/plain": [
       "                                   Name Rating    Year\n",
       "0              The Shawshank Redemption    9.2  (1994)\n",
       "1                         The Godfather    9.1  (1972)\n",
       "2                The Godfather: Part II    9.0  (1974)\n",
       "3                       The Dark Knight    9.0  (2008)\n",
       "4                          12 Angry Men    8.9  (1957)\n",
       "..                                  ...    ...     ...\n",
       "245  Kimetsu no Yaiba: Mugen Ressha-Hen    8.0  (2020)\n",
       "246       Sunrise: A Song of Two Humans    8.0  (1927)\n",
       "247                          Hera Pheri    8.0  (2000)\n",
       "248                            Drishyam    8.0  (2013)\n",
       "249                        Paris, Texas    8.0  (1984)\n",
       "\n",
       "[250 rows x 3 columns]"
      ]
     },
     "execution_count": 22,
     "metadata": {},
     "output_type": "execute_result"
    }
   ],
   "source": [
    "IMDB_top_chart"
   ]
  },
  {
   "cell_type": "markdown",
   "metadata": {},
   "source": [
    "### Final answer for question 2"
   ]
  },
  {
   "cell_type": "markdown",
   "metadata": {},
   "source": [
    "## Beginning of question 3"
   ]
  },
  {
   "cell_type": "code",
   "execution_count": 23,
   "metadata": {},
   "outputs": [
    {
     "data": {
      "text/plain": [
       "<Response [200]>"
      ]
     },
     "execution_count": 23,
     "metadata": {},
     "output_type": "execute_result"
    }
   ],
   "source": [
    "page_imdb_top_IN = requests.get('https://www.imdb.com/india/top-rated-indian-movies/?pf_rd_m=A2FGELUUNOQJNL&pf_rd_p=2e9dfa9b-3e4d-4d39-acd2-8af11f252a59&pf_rd_r=T71CQQ659ST137A3VF22&pf_rd_s=right-5&pf_rd_t=15506&pf_rd_i=top&ref_=chttp_india_tr_rhs_1')\n",
    "page_imdb_top_IN"
   ]
  },
  {
   "cell_type": "code",
   "execution_count": 24,
   "metadata": {},
   "outputs": [],
   "source": [
    "soup_imdb_top_IN = BeautifulSoup(page_imdb_top_IN.content)"
   ]
  },
  {
   "cell_type": "code",
   "execution_count": 25,
   "metadata": {},
   "outputs": [],
   "source": [
    "# print(soup_imdb_top_IN.prettify())"
   ]
  },
  {
   "cell_type": "code",
   "execution_count": 26,
   "metadata": {},
   "outputs": [],
   "source": [
    "all_text_IN = soup_imdb_top_IN.find_all('div',class_='lister')\n",
    "# all_text_IN"
   ]
  },
  {
   "cell_type": "code",
   "execution_count": 27,
   "metadata": {},
   "outputs": [],
   "source": [
    "short_text_IN = soup_imdb_top_IN.find_all('td', class_='titleColumn')\n",
    "# short_text_IN"
   ]
  },
  {
   "cell_type": "code",
   "execution_count": 28,
   "metadata": {},
   "outputs": [],
   "source": [
    "titles_two_IN = []\n",
    "\n",
    "for i in all_text_IN:\n",
    "    for j in i.find_all(\"a\"):\n",
    "        titles_two_IN.append(j.text)\n",
    "    "
   ]
  },
  {
   "cell_type": "code",
   "execution_count": 29,
   "metadata": {},
   "outputs": [],
   "source": [
    "# titles_two_IN"
   ]
  },
  {
   "cell_type": "code",
   "execution_count": 30,
   "metadata": {},
   "outputs": [],
   "source": [
    "titles_IN = []\n",
    "for i in range(1,len(titles_two_IN),2):\n",
    "    titles_IN.append(titles_two_IN[i])\n",
    "# titles_IN"
   ]
  },
  {
   "cell_type": "code",
   "execution_count": 31,
   "metadata": {},
   "outputs": [],
   "source": [
    "imdb_rating_IN = []\n",
    "\n",
    "for i in all_text_IN:\n",
    "    for j in i.find_all(\"strong\"):\n",
    "        imdb_rating_IN.append(j.text)"
   ]
  },
  {
   "cell_type": "code",
   "execution_count": 32,
   "metadata": {},
   "outputs": [],
   "source": [
    "# imdb_rating_IN"
   ]
  },
  {
   "cell_type": "code",
   "execution_count": 33,
   "metadata": {},
   "outputs": [],
   "source": [
    "year_release_IN = []\n",
    "for i in short_text_IN:\n",
    "    for j in i.find_all(\"span\"):\n",
    "        year_release_IN.append(j.text)\n"
   ]
  },
  {
   "cell_type": "code",
   "execution_count": 34,
   "metadata": {},
   "outputs": [],
   "source": [
    "# year_release_IN"
   ]
  },
  {
   "cell_type": "code",
   "execution_count": 35,
   "metadata": {},
   "outputs": [],
   "source": [
    "IMDB_top_chart_IN = pd.DataFrame({})\n",
    "IMDB_top_chart_IN['Name'] = titles_IN\n",
    "IMDB_top_chart_IN['Rating'] = imdb_rating_IN\n",
    "IMDB_top_chart_IN['Year'] = year_release_IN\n"
   ]
  },
  {
   "cell_type": "code",
   "execution_count": 36,
   "metadata": {},
   "outputs": [
    {
     "data": {
      "text/html": [
       "<div>\n",
       "<style scoped>\n",
       "    .dataframe tbody tr th:only-of-type {\n",
       "        vertical-align: middle;\n",
       "    }\n",
       "\n",
       "    .dataframe tbody tr th {\n",
       "        vertical-align: top;\n",
       "    }\n",
       "\n",
       "    .dataframe thead th {\n",
       "        text-align: right;\n",
       "    }\n",
       "</style>\n",
       "<table border=\"1\" class=\"dataframe\">\n",
       "  <thead>\n",
       "    <tr style=\"text-align: right;\">\n",
       "      <th></th>\n",
       "      <th>Name</th>\n",
       "      <th>Rating</th>\n",
       "      <th>Year</th>\n",
       "    </tr>\n",
       "  </thead>\n",
       "  <tbody>\n",
       "    <tr>\n",
       "      <th>0</th>\n",
       "      <td>Nayakan</td>\n",
       "      <td>8.5</td>\n",
       "      <td>(1987)</td>\n",
       "    </tr>\n",
       "    <tr>\n",
       "      <th>1</th>\n",
       "      <td>Pariyerum Perumal</td>\n",
       "      <td>8.5</td>\n",
       "      <td>(2018)</td>\n",
       "    </tr>\n",
       "    <tr>\n",
       "      <th>2</th>\n",
       "      <td>Anbe Sivam</td>\n",
       "      <td>8.5</td>\n",
       "      <td>(2003)</td>\n",
       "    </tr>\n",
       "    <tr>\n",
       "      <th>3</th>\n",
       "      <td>C/o Kancharapalem</td>\n",
       "      <td>8.5</td>\n",
       "      <td>(2018)</td>\n",
       "    </tr>\n",
       "    <tr>\n",
       "      <th>4</th>\n",
       "      <td>Golmaal</td>\n",
       "      <td>8.5</td>\n",
       "      <td>(1979)</td>\n",
       "    </tr>\n",
       "    <tr>\n",
       "      <th>...</th>\n",
       "      <td>...</td>\n",
       "      <td>...</td>\n",
       "      <td>...</td>\n",
       "    </tr>\n",
       "    <tr>\n",
       "      <th>245</th>\n",
       "      <td>Saala Khadoos</td>\n",
       "      <td>7.6</td>\n",
       "      <td>(2016)</td>\n",
       "    </tr>\n",
       "    <tr>\n",
       "      <th>246</th>\n",
       "      <td>Piku</td>\n",
       "      <td>7.6</td>\n",
       "      <td>(2015)</td>\n",
       "    </tr>\n",
       "    <tr>\n",
       "      <th>247</th>\n",
       "      <td>Wake Up Sid</td>\n",
       "      <td>7.6</td>\n",
       "      <td>(2009)</td>\n",
       "    </tr>\n",
       "    <tr>\n",
       "      <th>248</th>\n",
       "      <td>Ludo</td>\n",
       "      <td>7.6</td>\n",
       "      <td>(2020)</td>\n",
       "    </tr>\n",
       "    <tr>\n",
       "      <th>249</th>\n",
       "      <td>Dhruva</td>\n",
       "      <td>7.6</td>\n",
       "      <td>(2016)</td>\n",
       "    </tr>\n",
       "  </tbody>\n",
       "</table>\n",
       "<p>250 rows × 3 columns</p>\n",
       "</div>"
      ],
      "text/plain": [
       "                  Name Rating    Year\n",
       "0              Nayakan    8.5  (1987)\n",
       "1    Pariyerum Perumal    8.5  (2018)\n",
       "2           Anbe Sivam    8.5  (2003)\n",
       "3    C/o Kancharapalem    8.5  (2018)\n",
       "4              Golmaal    8.5  (1979)\n",
       "..                 ...    ...     ...\n",
       "245      Saala Khadoos    7.6  (2016)\n",
       "246               Piku    7.6  (2015)\n",
       "247        Wake Up Sid    7.6  (2009)\n",
       "248               Ludo    7.6  (2020)\n",
       "249             Dhruva    7.6  (2016)\n",
       "\n",
       "[250 rows x 3 columns]"
      ]
     },
     "execution_count": 36,
     "metadata": {},
     "output_type": "execute_result"
    }
   ],
   "source": [
    "IMDB_top_chart_IN"
   ]
  },
  {
   "cell_type": "markdown",
   "metadata": {},
   "source": [
    "### Final answer for question 3"
   ]
  },
  {
   "cell_type": "markdown",
   "metadata": {},
   "source": [
    "## Beginning of question 4"
   ]
  },
  {
   "cell_type": "code",
   "execution_count": 37,
   "metadata": {},
   "outputs": [
    {
     "data": {
      "text/plain": [
       "<Response [200]>"
      ]
     },
     "execution_count": 37,
     "metadata": {},
     "output_type": "execute_result"
    }
   ],
   "source": [
    "page_bp = requests.get('https://bookpage.com/reviews?book_genre=nonfiction&page=1')\n",
    "page_bp"
   ]
  },
  {
   "cell_type": "code",
   "execution_count": 38,
   "metadata": {},
   "outputs": [],
   "source": [
    "soup_bp = BeautifulSoup(page_bp.content)"
   ]
  },
  {
   "cell_type": "code",
   "execution_count": 39,
   "metadata": {},
   "outputs": [],
   "source": [
    "books_text = soup_bp.find_all('div',class_= 'bp-well')"
   ]
  },
  {
   "cell_type": "code",
   "execution_count": 40,
   "metadata": {},
   "outputs": [],
   "source": [
    "# books_text"
   ]
  },
  {
   "cell_type": "code",
   "execution_count": 41,
   "metadata": {},
   "outputs": [],
   "source": [
    "books_short_text = soup_bp.find_all('h4',class_= 'italic')"
   ]
  },
  {
   "cell_type": "code",
   "execution_count": 42,
   "metadata": {},
   "outputs": [],
   "source": [
    "book_name = []\n",
    "\n",
    "for i in books_short_text:\n",
    "    for j in i.find_all(\"a\"):\n",
    "        book_name.append(j.text.replace('★',''))"
   ]
  },
  {
   "cell_type": "code",
   "execution_count": 43,
   "metadata": {},
   "outputs": [
    {
     "data": {
      "text/plain": [
       "['  A Farewell to Gabo and Mercedes',\n",
       " 'We Are Each Other’s Harvest',\n",
       " 'The Wreckage of My Presence',\n",
       " 'New Women in the Old West',\n",
       " 'How Y’all Doing?',\n",
       " 'Believers',\n",
       " 'What Is a Dog?',\n",
       " 'Carry On',\n",
       " \"  Don't Let It Get You Down\",\n",
       " '  The Joy of Sweat']"
      ]
     },
     "execution_count": 43,
     "metadata": {},
     "output_type": "execute_result"
    }
   ],
   "source": [
    "book_name"
   ]
  },
  {
   "cell_type": "code",
   "execution_count": 44,
   "metadata": {},
   "outputs": [],
   "source": [
    "book_info = soup_bp.find_all('div',class_= 'flex-article-content')\n",
    "# book_info"
   ]
  },
  {
   "cell_type": "code",
   "execution_count": 45,
   "metadata": {
    "scrolled": true
   },
   "outputs": [],
   "source": [
    "author_name_de = []\n",
    "\n",
    "for i in book_info:\n",
    "    for j in i.find_all('p'):\n",
    "        author_name_de.append(j.text.replace('\\n',''))\n",
    "        \n",
    "# author_name_de"
   ]
  },
  {
   "cell_type": "code",
   "execution_count": 46,
   "metadata": {},
   "outputs": [
    {
     "data": {
      "text/plain": [
       "['Rodrigo García',\n",
       " 'Natalie Baszile, Tina Lifford',\n",
       " 'Casey Wilson',\n",
       " 'Winifred Gallagher',\n",
       " 'Leslie Jordan',\n",
       " 'Lisa Wells',\n",
       " 'Chloe Shaw',\n",
       " 'John Lewis',\n",
       " 'Savala Nolan',\n",
       " 'Sarah Everts']"
      ]
     },
     "execution_count": 46,
     "metadata": {},
     "output_type": "execute_result"
    }
   ],
   "source": [
    "author_name = []\n",
    "for i in range(0,len(author_name_de),3):\n",
    "    author_name.append(author_name_de[i])\n",
    "author_name"
   ]
  },
  {
   "cell_type": "code",
   "execution_count": 47,
   "metadata": {},
   "outputs": [
    {
     "data": {
      "text/plain": [
       "['Nonfiction / Memoir / Family & Relationships',\n",
       " 'Audio / Nonfiction / African American History',\n",
       " 'Audio / Nonfiction / Essays',\n",
       " \"Nonfiction / History / Women's History\",\n",
       " 'Audio / Nonfiction / Memoir',\n",
       " 'Nonfiction / Environment / Nature',\n",
       " 'Nonfiction / Memoir / Pets',\n",
       " 'Nonfiction / Essays / African American History',\n",
       " 'Nonfiction / Essays / Memoir',\n",
       " 'Nonfiction / Science / Anatomy']"
      ]
     },
     "execution_count": 47,
     "metadata": {},
     "output_type": "execute_result"
    }
   ],
   "source": [
    "genere = []\n",
    "for i in range(1,len(author_name_de),3):\n",
    "    genere.append(author_name_de[i])\n",
    "genere"
   ]
  },
  {
   "cell_type": "code",
   "execution_count": 48,
   "metadata": {},
   "outputs": [],
   "source": [
    "bp_df = pd.DataFrame({})\n",
    "bp_df['Book title'] = book_name\n",
    "bp_df['Author'] = author_name\n",
    "bp_df['Category'] = genere"
   ]
  },
  {
   "cell_type": "code",
   "execution_count": 49,
   "metadata": {},
   "outputs": [
    {
     "data": {
      "text/html": [
       "<div>\n",
       "<style scoped>\n",
       "    .dataframe tbody tr th:only-of-type {\n",
       "        vertical-align: middle;\n",
       "    }\n",
       "\n",
       "    .dataframe tbody tr th {\n",
       "        vertical-align: top;\n",
       "    }\n",
       "\n",
       "    .dataframe thead th {\n",
       "        text-align: right;\n",
       "    }\n",
       "</style>\n",
       "<table border=\"1\" class=\"dataframe\">\n",
       "  <thead>\n",
       "    <tr style=\"text-align: right;\">\n",
       "      <th></th>\n",
       "      <th>Book title</th>\n",
       "      <th>Author</th>\n",
       "      <th>Category</th>\n",
       "    </tr>\n",
       "  </thead>\n",
       "  <tbody>\n",
       "    <tr>\n",
       "      <th>0</th>\n",
       "      <td>A Farewell to Gabo and Mercedes</td>\n",
       "      <td>Rodrigo García</td>\n",
       "      <td>Nonfiction / Memoir / Family &amp; Relationships</td>\n",
       "    </tr>\n",
       "    <tr>\n",
       "      <th>1</th>\n",
       "      <td>We Are Each Other’s Harvest</td>\n",
       "      <td>Natalie Baszile, Tina Lifford</td>\n",
       "      <td>Audio / Nonfiction / African American History</td>\n",
       "    </tr>\n",
       "    <tr>\n",
       "      <th>2</th>\n",
       "      <td>The Wreckage of My Presence</td>\n",
       "      <td>Casey Wilson</td>\n",
       "      <td>Audio / Nonfiction / Essays</td>\n",
       "    </tr>\n",
       "    <tr>\n",
       "      <th>3</th>\n",
       "      <td>New Women in the Old West</td>\n",
       "      <td>Winifred Gallagher</td>\n",
       "      <td>Nonfiction / History / Women's History</td>\n",
       "    </tr>\n",
       "    <tr>\n",
       "      <th>4</th>\n",
       "      <td>How Y’all Doing?</td>\n",
       "      <td>Leslie Jordan</td>\n",
       "      <td>Audio / Nonfiction / Memoir</td>\n",
       "    </tr>\n",
       "    <tr>\n",
       "      <th>5</th>\n",
       "      <td>Believers</td>\n",
       "      <td>Lisa Wells</td>\n",
       "      <td>Nonfiction / Environment / Nature</td>\n",
       "    </tr>\n",
       "    <tr>\n",
       "      <th>6</th>\n",
       "      <td>What Is a Dog?</td>\n",
       "      <td>Chloe Shaw</td>\n",
       "      <td>Nonfiction / Memoir / Pets</td>\n",
       "    </tr>\n",
       "    <tr>\n",
       "      <th>7</th>\n",
       "      <td>Carry On</td>\n",
       "      <td>John Lewis</td>\n",
       "      <td>Nonfiction / Essays / African American History</td>\n",
       "    </tr>\n",
       "    <tr>\n",
       "      <th>8</th>\n",
       "      <td>Don't Let It Get You Down</td>\n",
       "      <td>Savala Nolan</td>\n",
       "      <td>Nonfiction / Essays / Memoir</td>\n",
       "    </tr>\n",
       "    <tr>\n",
       "      <th>9</th>\n",
       "      <td>The Joy of Sweat</td>\n",
       "      <td>Sarah Everts</td>\n",
       "      <td>Nonfiction / Science / Anatomy</td>\n",
       "    </tr>\n",
       "  </tbody>\n",
       "</table>\n",
       "</div>"
      ],
      "text/plain": [
       "                          Book title                         Author  \\\n",
       "0    A Farewell to Gabo and Mercedes                 Rodrigo García   \n",
       "1        We Are Each Other’s Harvest  Natalie Baszile, Tina Lifford   \n",
       "2        The Wreckage of My Presence                   Casey Wilson   \n",
       "3          New Women in the Old West             Winifred Gallagher   \n",
       "4                   How Y’all Doing?                  Leslie Jordan   \n",
       "5                          Believers                     Lisa Wells   \n",
       "6                     What Is a Dog?                     Chloe Shaw   \n",
       "7                           Carry On                     John Lewis   \n",
       "8          Don't Let It Get You Down                   Savala Nolan   \n",
       "9                   The Joy of Sweat                   Sarah Everts   \n",
       "\n",
       "                                         Category  \n",
       "0    Nonfiction / Memoir / Family & Relationships  \n",
       "1   Audio / Nonfiction / African American History  \n",
       "2                     Audio / Nonfiction / Essays  \n",
       "3          Nonfiction / History / Women's History  \n",
       "4                     Audio / Nonfiction / Memoir  \n",
       "5               Nonfiction / Environment / Nature  \n",
       "6                      Nonfiction / Memoir / Pets  \n",
       "7  Nonfiction / Essays / African American History  \n",
       "8                    Nonfiction / Essays / Memoir  \n",
       "9                  Nonfiction / Science / Anatomy  "
      ]
     },
     "execution_count": 49,
     "metadata": {},
     "output_type": "execute_result"
    }
   ],
   "source": [
    "bp_df"
   ]
  },
  {
   "cell_type": "markdown",
   "metadata": {},
   "source": [
    "### Final answer for question 4"
   ]
  },
  {
   "cell_type": "markdown",
   "metadata": {},
   "source": [
    "## Beginning of question 5"
   ]
  },
  {
   "cell_type": "code",
   "execution_count": 50,
   "metadata": {},
   "outputs": [
    {
     "data": {
      "text/plain": [
       "<Response [200]>"
      ]
     },
     "execution_count": 50,
     "metadata": {},
     "output_type": "execute_result"
    }
   ],
   "source": [
    "link_5i = requests.get('https://www.icc-cricket.com/rankings/mens/team-rankings/odi')\n",
    "link_5i"
   ]
  },
  {
   "cell_type": "code",
   "execution_count": 51,
   "metadata": {},
   "outputs": [],
   "source": [
    "soup_5i = BeautifulSoup(link_5i.content)\n",
    "# print(soup_5i.prettify())"
   ]
  },
  {
   "cell_type": "code",
   "execution_count": 52,
   "metadata": {},
   "outputs": [],
   "source": [
    "text_5i = soup_5i.find_all('section',class_='widget rankings-widget')"
   ]
  },
  {
   "cell_type": "code",
   "execution_count": 53,
   "metadata": {},
   "outputs": [],
   "source": [
    "# text_5i"
   ]
  },
  {
   "cell_type": "code",
   "execution_count": 54,
   "metadata": {},
   "outputs": [
    {
     "data": {
      "text/plain": [
       "bs4.element.ResultSet"
      ]
     },
     "execution_count": 54,
     "metadata": {},
     "output_type": "execute_result"
    }
   ],
   "source": [
    "type(text_5i)"
   ]
  },
  {
   "cell_type": "code",
   "execution_count": 55,
   "metadata": {},
   "outputs": [
    {
     "data": {
      "text/plain": [
       "['New Zealand',\n",
       " 'England',\n",
       " 'Australia',\n",
       " 'India',\n",
       " 'South Africa',\n",
       " 'Pakistan',\n",
       " 'Bangladesh',\n",
       " 'West Indies',\n",
       " 'Sri Lanka',\n",
       " 'Afghanistan',\n",
       " 'Netherlands',\n",
       " 'Ireland',\n",
       " 'Zimbabwe',\n",
       " 'Scotland',\n",
       " 'Oman',\n",
       " 'Nepal',\n",
       " 'UAE',\n",
       " 'Namibia',\n",
       " 'United States',\n",
       " 'Papua New Guinea']"
      ]
     },
     "execution_count": 55,
     "metadata": {},
     "output_type": "execute_result"
    }
   ],
   "source": [
    "team_5i = []\n",
    "\n",
    "for i in text_5i:\n",
    "    for j in i.find_all('span',class_=\"u-hide-phablet\"):\n",
    "        team_5i.append(j.text.replace('\\n',''))\n",
    "        \n",
    "team_5i"
   ]
  },
  {
   "cell_type": "code",
   "execution_count": 56,
   "metadata": {},
   "outputs": [
    {
     "data": {
      "text/plain": [
       "['17']"
      ]
     },
     "execution_count": 56,
     "metadata": {},
     "output_type": "execute_result"
    }
   ],
   "source": [
    "match_5i_ban = []\n",
    "\n",
    "for i in text_5i:\n",
    "    for j in i.find_all('td',class_=\"rankings-block__banner--matches\"):\n",
    "        match_5i_ban.append(j.text.replace('\\n',''))\n",
    "        \n",
    "match_5i_ban"
   ]
  },
  {
   "cell_type": "code",
   "execution_count": 57,
   "metadata": {},
   "outputs": [
    {
     "data": {
      "text/plain": [
       "['32',\n",
       " '3,793',\n",
       " '27',\n",
       " '3,109',\n",
       " '32',\n",
       " '3,624',\n",
       " '22',\n",
       " '2,267',\n",
       " '27',\n",
       " '2,524',\n",
       " '29',\n",
       " '2,639',\n",
       " '29',\n",
       " '2,458',\n",
       " '29',\n",
       " '2,303',\n",
       " '17',\n",
       " '1,054',\n",
       " '7',\n",
       " '336',\n",
       " '23',\n",
       " '1,067',\n",
       " '17',\n",
       " '646',\n",
       " '7',\n",
       " '258',\n",
       " '7',\n",
       " '240',\n",
       " '5',\n",
       " '119',\n",
       " '9',\n",
       " '190',\n",
       " '6',\n",
       " '97',\n",
       " '8',\n",
       " '93',\n",
       " '5',\n",
       " '0']"
      ]
     },
     "execution_count": 57,
     "metadata": {},
     "output_type": "execute_result"
    }
   ],
   "source": [
    "match_5i_bod = []\n",
    "\n",
    "for i in text_5i:\n",
    "    for j in i.find_all('td',class_=\"table-body__cell u-center-text\"):\n",
    "        match_5i_bod.append(j.text.replace('\\n',''))\n",
    "        \n",
    "match_5i_bod"
   ]
  },
  {
   "cell_type": "code",
   "execution_count": 58,
   "metadata": {},
   "outputs": [
    {
     "data": {
      "text/plain": [
       "['119',\n",
       " '115',\n",
       " '113',\n",
       " '103',\n",
       " '93',\n",
       " '91',\n",
       " '85',\n",
       " '79',\n",
       " '62',\n",
       " '48',\n",
       " '46',\n",
       " '38',\n",
       " '37',\n",
       " '34',\n",
       " '24',\n",
       " '21',\n",
       " '16',\n",
       " '12',\n",
       " '0']"
      ]
     },
     "execution_count": 58,
     "metadata": {},
     "output_type": "execute_result"
    }
   ],
   "source": [
    "rating_5i_bod = []\n",
    "\n",
    "for i in text_5i:\n",
    "    for j in i.find_all('td',class_=\"table-body__cell u-text-right rating\"):\n",
    "        rating_5i_bod.append(j.text.replace('\\n',''))\n",
    "        \n",
    "rating_5i_bod"
   ]
  },
  {
   "cell_type": "code",
   "execution_count": 59,
   "metadata": {},
   "outputs": [
    {
     "data": {
      "text/plain": [
       "['2,054']"
      ]
     },
     "execution_count": 59,
     "metadata": {},
     "output_type": "execute_result"
    }
   ],
   "source": [
    "point_5i_ban = []\n",
    "\n",
    "for i in text_5i:\n",
    "    for j in i.find_all('td',class_=\"rankings-block__banner--points\"):\n",
    "        point_5i_ban.append(j.text.replace('\\n',''))\n",
    "        \n",
    "point_5i_ban"
   ]
  },
  {
   "cell_type": "code",
   "execution_count": 60,
   "metadata": {},
   "outputs": [
    {
     "data": {
      "text/plain": [
       "['121']"
      ]
     },
     "execution_count": 60,
     "metadata": {},
     "output_type": "execute_result"
    }
   ],
   "source": [
    "rating_5i_ban = []\n",
    "\n",
    "for i in text_5i:\n",
    "    for j in i.find_all('td',class_=\"rankings-block__banner--rating u-text-right\"):\n",
    "        rating_5i_ban.append(j.text.strip())\n",
    "        \n",
    "rating_5i_ban"
   ]
  },
  {
   "cell_type": "code",
   "execution_count": 61,
   "metadata": {},
   "outputs": [],
   "source": [
    "ratings = rating_5i_ban + rating_5i_bod"
   ]
  },
  {
   "cell_type": "code",
   "execution_count": 62,
   "metadata": {},
   "outputs": [
    {
     "data": {
      "text/plain": [
       "['121',\n",
       " '119',\n",
       " '115',\n",
       " '113',\n",
       " '103',\n",
       " '93',\n",
       " '91',\n",
       " '85',\n",
       " '79',\n",
       " '62',\n",
       " '48',\n",
       " '46',\n",
       " '38',\n",
       " '37',\n",
       " '34',\n",
       " '24',\n",
       " '21',\n",
       " '16',\n",
       " '12',\n",
       " '0']"
      ]
     },
     "execution_count": 62,
     "metadata": {},
     "output_type": "execute_result"
    }
   ],
   "source": [
    "ratings"
   ]
  },
  {
   "cell_type": "code",
   "execution_count": 63,
   "metadata": {},
   "outputs": [
    {
     "data": {
      "text/plain": [
       "['17', '2,054']"
      ]
     },
     "execution_count": 63,
     "metadata": {},
     "output_type": "execute_result"
    }
   ],
   "source": [
    "ban_mp = match_5i_ban + point_5i_ban\n",
    "ban_mp"
   ]
  },
  {
   "cell_type": "code",
   "execution_count": 64,
   "metadata": {},
   "outputs": [],
   "source": [
    "mp = ban_mp + match_5i_bod"
   ]
  },
  {
   "cell_type": "code",
   "execution_count": 65,
   "metadata": {},
   "outputs": [
    {
     "data": {
      "text/plain": [
       "['17',\n",
       " '2,054',\n",
       " '32',\n",
       " '3,793',\n",
       " '27',\n",
       " '3,109',\n",
       " '32',\n",
       " '3,624',\n",
       " '22',\n",
       " '2,267',\n",
       " '27',\n",
       " '2,524',\n",
       " '29',\n",
       " '2,639',\n",
       " '29',\n",
       " '2,458',\n",
       " '29',\n",
       " '2,303',\n",
       " '17',\n",
       " '1,054',\n",
       " '7',\n",
       " '336',\n",
       " '23',\n",
       " '1,067',\n",
       " '17',\n",
       " '646',\n",
       " '7',\n",
       " '258',\n",
       " '7',\n",
       " '240',\n",
       " '5',\n",
       " '119',\n",
       " '9',\n",
       " '190',\n",
       " '6',\n",
       " '97',\n",
       " '8',\n",
       " '93',\n",
       " '5',\n",
       " '0']"
      ]
     },
     "execution_count": 65,
     "metadata": {},
     "output_type": "execute_result"
    }
   ],
   "source": [
    "mp"
   ]
  },
  {
   "cell_type": "code",
   "execution_count": 66,
   "metadata": {},
   "outputs": [
    {
     "data": {
      "text/plain": [
       "['17',\n",
       " '32',\n",
       " '27',\n",
       " '32',\n",
       " '22',\n",
       " '27',\n",
       " '29',\n",
       " '29',\n",
       " '29',\n",
       " '17',\n",
       " '7',\n",
       " '23',\n",
       " '17',\n",
       " '7',\n",
       " '7',\n",
       " '5',\n",
       " '9',\n",
       " '6',\n",
       " '8',\n",
       " '5']"
      ]
     },
     "execution_count": 66,
     "metadata": {},
     "output_type": "execute_result"
    }
   ],
   "source": [
    "matches = []\n",
    "for i in range(0,len(mp),2):\n",
    "    matches.append(mp[i])\n",
    "matches"
   ]
  },
  {
   "cell_type": "code",
   "execution_count": 67,
   "metadata": {},
   "outputs": [
    {
     "data": {
      "text/plain": [
       "['2,054',\n",
       " '3,793',\n",
       " '3,109',\n",
       " '3,624',\n",
       " '2,267',\n",
       " '2,524',\n",
       " '2,639',\n",
       " '2,458',\n",
       " '2,303',\n",
       " '1,054',\n",
       " '336',\n",
       " '1,067',\n",
       " '646',\n",
       " '258',\n",
       " '240',\n",
       " '119',\n",
       " '190',\n",
       " '97',\n",
       " '93',\n",
       " '0']"
      ]
     },
     "execution_count": 67,
     "metadata": {},
     "output_type": "execute_result"
    }
   ],
   "source": [
    "points = []\n",
    "for i in range(1,len(mp),2):\n",
    "    points.append(mp[i])\n",
    "points"
   ]
  },
  {
   "cell_type": "code",
   "execution_count": 68,
   "metadata": {},
   "outputs": [
    {
     "name": "stdout",
     "output_type": "stream",
     "text": [
      "20 20 20 20\n"
     ]
    }
   ],
   "source": [
    "print(len(team_5i),len(matches),len(points),len(ratings))"
   ]
  },
  {
   "cell_type": "code",
   "execution_count": 69,
   "metadata": {},
   "outputs": [],
   "source": [
    "bad_df = pd.DataFrame({})\n",
    "bad_df['Team Name'] = team_5i\n",
    "bad_df['Match'] = matches\n",
    "bad_df['Point']= points\n",
    "bad_df['Rating']=ratings\n"
   ]
  },
  {
   "cell_type": "code",
   "execution_count": 70,
   "metadata": {},
   "outputs": [
    {
     "data": {
      "text/html": [
       "<div>\n",
       "<style scoped>\n",
       "    .dataframe tbody tr th:only-of-type {\n",
       "        vertical-align: middle;\n",
       "    }\n",
       "\n",
       "    .dataframe tbody tr th {\n",
       "        vertical-align: top;\n",
       "    }\n",
       "\n",
       "    .dataframe thead th {\n",
       "        text-align: right;\n",
       "    }\n",
       "</style>\n",
       "<table border=\"1\" class=\"dataframe\">\n",
       "  <thead>\n",
       "    <tr style=\"text-align: right;\">\n",
       "      <th></th>\n",
       "      <th>Team Name</th>\n",
       "      <th>Match</th>\n",
       "      <th>Point</th>\n",
       "      <th>Rating</th>\n",
       "    </tr>\n",
       "  </thead>\n",
       "  <tbody>\n",
       "    <tr>\n",
       "      <th>0</th>\n",
       "      <td>New Zealand</td>\n",
       "      <td>17</td>\n",
       "      <td>2,054</td>\n",
       "      <td>121</td>\n",
       "    </tr>\n",
       "    <tr>\n",
       "      <th>1</th>\n",
       "      <td>England</td>\n",
       "      <td>32</td>\n",
       "      <td>3,793</td>\n",
       "      <td>119</td>\n",
       "    </tr>\n",
       "    <tr>\n",
       "      <th>2</th>\n",
       "      <td>Australia</td>\n",
       "      <td>27</td>\n",
       "      <td>3,109</td>\n",
       "      <td>115</td>\n",
       "    </tr>\n",
       "    <tr>\n",
       "      <th>3</th>\n",
       "      <td>India</td>\n",
       "      <td>32</td>\n",
       "      <td>3,624</td>\n",
       "      <td>113</td>\n",
       "    </tr>\n",
       "    <tr>\n",
       "      <th>4</th>\n",
       "      <td>South Africa</td>\n",
       "      <td>22</td>\n",
       "      <td>2,267</td>\n",
       "      <td>103</td>\n",
       "    </tr>\n",
       "    <tr>\n",
       "      <th>5</th>\n",
       "      <td>Pakistan</td>\n",
       "      <td>27</td>\n",
       "      <td>2,524</td>\n",
       "      <td>93</td>\n",
       "    </tr>\n",
       "    <tr>\n",
       "      <th>6</th>\n",
       "      <td>Bangladesh</td>\n",
       "      <td>29</td>\n",
       "      <td>2,639</td>\n",
       "      <td>91</td>\n",
       "    </tr>\n",
       "    <tr>\n",
       "      <th>7</th>\n",
       "      <td>West Indies</td>\n",
       "      <td>29</td>\n",
       "      <td>2,458</td>\n",
       "      <td>85</td>\n",
       "    </tr>\n",
       "    <tr>\n",
       "      <th>8</th>\n",
       "      <td>Sri Lanka</td>\n",
       "      <td>29</td>\n",
       "      <td>2,303</td>\n",
       "      <td>79</td>\n",
       "    </tr>\n",
       "    <tr>\n",
       "      <th>9</th>\n",
       "      <td>Afghanistan</td>\n",
       "      <td>17</td>\n",
       "      <td>1,054</td>\n",
       "      <td>62</td>\n",
       "    </tr>\n",
       "    <tr>\n",
       "      <th>10</th>\n",
       "      <td>Netherlands</td>\n",
       "      <td>7</td>\n",
       "      <td>336</td>\n",
       "      <td>48</td>\n",
       "    </tr>\n",
       "    <tr>\n",
       "      <th>11</th>\n",
       "      <td>Ireland</td>\n",
       "      <td>23</td>\n",
       "      <td>1,067</td>\n",
       "      <td>46</td>\n",
       "    </tr>\n",
       "    <tr>\n",
       "      <th>12</th>\n",
       "      <td>Zimbabwe</td>\n",
       "      <td>17</td>\n",
       "      <td>646</td>\n",
       "      <td>38</td>\n",
       "    </tr>\n",
       "    <tr>\n",
       "      <th>13</th>\n",
       "      <td>Scotland</td>\n",
       "      <td>7</td>\n",
       "      <td>258</td>\n",
       "      <td>37</td>\n",
       "    </tr>\n",
       "    <tr>\n",
       "      <th>14</th>\n",
       "      <td>Oman</td>\n",
       "      <td>7</td>\n",
       "      <td>240</td>\n",
       "      <td>34</td>\n",
       "    </tr>\n",
       "    <tr>\n",
       "      <th>15</th>\n",
       "      <td>Nepal</td>\n",
       "      <td>5</td>\n",
       "      <td>119</td>\n",
       "      <td>24</td>\n",
       "    </tr>\n",
       "    <tr>\n",
       "      <th>16</th>\n",
       "      <td>UAE</td>\n",
       "      <td>9</td>\n",
       "      <td>190</td>\n",
       "      <td>21</td>\n",
       "    </tr>\n",
       "    <tr>\n",
       "      <th>17</th>\n",
       "      <td>Namibia</td>\n",
       "      <td>6</td>\n",
       "      <td>97</td>\n",
       "      <td>16</td>\n",
       "    </tr>\n",
       "    <tr>\n",
       "      <th>18</th>\n",
       "      <td>United States</td>\n",
       "      <td>8</td>\n",
       "      <td>93</td>\n",
       "      <td>12</td>\n",
       "    </tr>\n",
       "    <tr>\n",
       "      <th>19</th>\n",
       "      <td>Papua New Guinea</td>\n",
       "      <td>5</td>\n",
       "      <td>0</td>\n",
       "      <td>0</td>\n",
       "    </tr>\n",
       "  </tbody>\n",
       "</table>\n",
       "</div>"
      ],
      "text/plain": [
       "           Team Name Match  Point Rating\n",
       "0        New Zealand    17  2,054    121\n",
       "1            England    32  3,793    119\n",
       "2          Australia    27  3,109    115\n",
       "3              India    32  3,624    113\n",
       "4       South Africa    22  2,267    103\n",
       "5           Pakistan    27  2,524     93\n",
       "6         Bangladesh    29  2,639     91\n",
       "7        West Indies    29  2,458     85\n",
       "8          Sri Lanka    29  2,303     79\n",
       "9        Afghanistan    17  1,054     62\n",
       "10       Netherlands     7    336     48\n",
       "11           Ireland    23  1,067     46\n",
       "12          Zimbabwe    17    646     38\n",
       "13          Scotland     7    258     37\n",
       "14              Oman     7    240     34\n",
       "15             Nepal     5    119     24\n",
       "16               UAE     9    190     21\n",
       "17           Namibia     6     97     16\n",
       "18     United States     8     93     12\n",
       "19  Papua New Guinea     5      0      0"
      ]
     },
     "execution_count": 70,
     "metadata": {},
     "output_type": "execute_result"
    }
   ],
   "source": [
    "bad_df"
   ]
  },
  {
   "cell_type": "markdown",
   "metadata": {},
   "source": [
    "Similarly can be performed for Question 5(ii), 5(iii), 6(i), 6(ii), 6(iii). we only need to change the link which we submit. and make changes in variable names. \n",
    "\n",
    "for 5(ii): https://www.icc-cricket.com/rankings/mens/player-rankings/odi/batting\n",
    "\n",
    "for 5(iii): https://www.icc-cricket.com/rankings/mens/player-rankings/odi/bowling\n",
    "\n",
    "for 6(i): https://www.icc-cricket.com/rankings/womens/team-rankings/odi\n",
    "\n",
    "for 6(ii): https://www.icc-cricket.com/rankings/womens/player-rankings/odi \n",
    "\n",
    "for 6(iii): https://www.icc-cricket.com/rankings/womens/player-rankings/odi/all-rounder\n"
   ]
  },
  {
   "cell_type": "markdown",
   "metadata": {},
   "source": [
    "### End of question 5 & 6"
   ]
  },
  {
   "cell_type": "markdown",
   "metadata": {},
   "source": [
    "## Beginning of question 7\n"
   ]
  },
  {
   "cell_type": "code",
   "execution_count": 71,
   "metadata": {},
   "outputs": [
    {
     "data": {
      "text/plain": [
       "<Response [200]>"
      ]
     },
     "execution_count": 71,
     "metadata": {},
     "output_type": "execute_result"
    }
   ],
   "source": [
    "link_ama = requests.get('https://www.amazon.in/s?k=mobile+phone+under+rs+20000&ref=nb_sb_noss_2')\n",
    "link_ama"
   ]
  },
  {
   "cell_type": "code",
   "execution_count": 72,
   "metadata": {},
   "outputs": [],
   "source": [
    "# link_ama.content"
   ]
  },
  {
   "cell_type": "code",
   "execution_count": 73,
   "metadata": {},
   "outputs": [],
   "source": [
    "soup_ama =  BeautifulSoup(link_ama.content)\n",
    "# soup_ama"
   ]
  },
  {
   "cell_type": "markdown",
   "metadata": {},
   "source": [
    "## We are getting a response 503, which means scraping could be illegal. I'm skipping this question for now as it may be harmful to go forward.\n",
    "\n",
    "## Also regarding the same link above there is not enough data to complete the question. \n",
    "\n",
    "### End of question 7"
   ]
  },
  {
   "cell_type": "markdown",
   "metadata": {},
   "source": [
    "## Beginning of question 8\n"
   ]
  },
  {
   "cell_type": "code",
   "execution_count": 74,
   "metadata": {},
   "outputs": [
    {
     "data": {
      "text/plain": [
       "<Response [200]>"
      ]
     },
     "execution_count": 74,
     "metadata": {},
     "output_type": "execute_result"
    }
   ],
   "source": [
    "weather = requests.get('https://forecast.weather.gov/MapClick.php?lat=37.7771&lon=-122.4196')\n",
    "weather"
   ]
  },
  {
   "cell_type": "code",
   "execution_count": 75,
   "metadata": {},
   "outputs": [],
   "source": [
    "weather_soup = BeautifulSoup(weather.content)\n",
    "# print(weather_soup.prettify())"
   ]
  },
  {
   "cell_type": "code",
   "execution_count": 76,
   "metadata": {},
   "outputs": [],
   "source": [
    "panel_body = weather_soup.find_all('div',class_= 'panel-body')\n",
    "# panel_body"
   ]
  },
  {
   "cell_type": "code",
   "execution_count": 77,
   "metadata": {},
   "outputs": [
    {
     "data": {
      "text/plain": [
       "['Today',\n",
       " 'Tonight',\n",
       " 'Thursday',\n",
       " 'Thursday Night',\n",
       " 'Friday',\n",
       " 'Friday Night',\n",
       " 'Saturday',\n",
       " 'Saturday Night',\n",
       " 'Sunday',\n",
       " 'Sunday Night',\n",
       " 'Monday',\n",
       " 'Monday Night',\n",
       " 'Tuesday']"
      ]
     },
     "execution_count": 77,
     "metadata": {},
     "output_type": "execute_result"
    }
   ],
   "source": [
    "days = []\n",
    "\n",
    "for i in panel_body:\n",
    "    for j in i.find_all('div',class_=\"col-sm-2 forecast-label\"):\n",
    "        days.append(j.text.replace('\\n',''))\n",
    "        \n",
    "days"
   ]
  },
  {
   "cell_type": "code",
   "execution_count": 78,
   "metadata": {},
   "outputs": [
    {
     "data": {
      "text/plain": [
       "['Partly Sunnythen MostlySunny andBreezy',\n",
       " 'Mostly Cloudyand Breezythen MostlyCloudy',\n",
       " 'Partly Sunnythen MostlySunny andBreezy',\n",
       " 'Partly Cloudyand Breezythen MostlyCloudy',\n",
       " 'Mostly Sunnythen Sunnyand Breezy',\n",
       " 'Mostly Cloudy',\n",
       " 'Partly Sunny',\n",
       " 'Mostly Cloudy',\n",
       " 'Mostly Sunny']"
      ]
     },
     "execution_count": 78,
     "metadata": {},
     "output_type": "execute_result"
    }
   ],
   "source": [
    "short_desc = []\n",
    "\n",
    "for i in panel_body:\n",
    "    for j in i.find_all('p',class_=\"short-desc\"):\n",
    "        short_desc.append(j.text.replace('\\n',''))\n",
    "        \n",
    "short_desc"
   ]
  },
  {
   "cell_type": "code",
   "execution_count": 79,
   "metadata": {},
   "outputs": [
    {
     "data": {
      "text/plain": [
       "['High: 71 °F', 'High: 70 °F', 'High: 69 °F', 'High: 67 °F', 'High: 68 °F']"
      ]
     },
     "execution_count": 79,
     "metadata": {},
     "output_type": "execute_result"
    }
   ],
   "source": [
    "temp_h = []\n",
    "\n",
    "for i in panel_body:\n",
    "    for j in i.find_all('p',class_=\"temp temp-high\"):\n",
    "        temp_h.append(j.text.replace('\\n',''))\n",
    "        \n",
    "temp_h"
   ]
  },
  {
   "cell_type": "code",
   "execution_count": 80,
   "metadata": {},
   "outputs": [
    {
     "data": {
      "text/plain": [
       "['Low: 57 °F', 'Low: 56 °F', 'Low: 56 °F', 'Low: 56 °F']"
      ]
     },
     "execution_count": 80,
     "metadata": {},
     "output_type": "execute_result"
    }
   ],
   "source": [
    "temp_l = []\n",
    "\n",
    "for i in panel_body:\n",
    "    for j in i.find_all('p',class_=\"temp temp-low\"):\n",
    "        temp_l.append(j.text.replace('\\n',''))\n",
    "        \n",
    "temp_l"
   ]
  },
  {
   "cell_type": "code",
   "execution_count": 81,
   "metadata": {},
   "outputs": [
    {
     "data": {
      "text/plain": [
       "['Low: 57 °F', 'Low: 56 °F', 'Low: 56 °F', 'Low: 56 °F', '-']"
      ]
     },
     "execution_count": 81,
     "metadata": {},
     "output_type": "execute_result"
    }
   ],
   "source": [
    "temp_l.append('-')\n",
    "temp_l"
   ]
  },
  {
   "cell_type": "code",
   "execution_count": 82,
   "metadata": {},
   "outputs": [],
   "source": [
    "temps = []\n",
    "i = 0\n",
    "while i < len(temp_h):\n",
    "    temps.append(temp_h[i])\n",
    "    temps.append(temp_l[i])\n",
    "    i += 1\n"
   ]
  },
  {
   "cell_type": "code",
   "execution_count": 83,
   "metadata": {},
   "outputs": [
    {
     "data": {
      "text/plain": [
       "['High: 71 °F',\n",
       " 'Low: 57 °F',\n",
       " 'High: 70 °F',\n",
       " 'Low: 56 °F',\n",
       " 'High: 69 °F',\n",
       " 'Low: 56 °F',\n",
       " 'High: 67 °F',\n",
       " 'Low: 56 °F',\n",
       " 'High: 68 °F',\n",
       " '-']"
      ]
     },
     "execution_count": 83,
     "metadata": {},
     "output_type": "execute_result"
    }
   ],
   "source": [
    "temps"
   ]
  },
  {
   "cell_type": "code",
   "execution_count": 84,
   "metadata": {},
   "outputs": [
    {
     "data": {
      "text/plain": [
       "['Mostly cloudy, then gradually becoming sunny, with a high near 71. Breezy, with a west wind 10 to 15 mph increasing to 20 to 25 mph in the afternoon. Winds could gust as high as 33 mph. ',\n",
       " 'Mostly cloudy, with a low around 57. Breezy, with a west wind 13 to 23 mph, with gusts as high as 29 mph. ',\n",
       " 'Mostly cloudy, then gradually becoming sunny, with a high near 70. Breezy, with a west southwest wind 11 to 16 mph increasing to 20 to 25 mph in the afternoon. Winds could gust as high as 33 mph. ',\n",
       " 'Partly cloudy, with a low around 56. Breezy, with a west southwest wind 14 to 24 mph, with gusts as high as 31 mph. ',\n",
       " 'Mostly sunny, with a high near 69. Breezy, with a west southwest wind 13 to 23 mph, with gusts as high as 30 mph. ',\n",
       " 'Mostly cloudy, with a low around 56.',\n",
       " 'Partly sunny, with a high near 67.',\n",
       " 'Mostly cloudy, with a low around 56.',\n",
       " 'Mostly sunny, with a high near 68.',\n",
       " 'Partly cloudy, with a low around 55.',\n",
       " 'Mostly sunny, with a high near 66.',\n",
       " 'Partly cloudy, with a low around 55.',\n",
       " 'Mostly sunny, with a high near 66.']"
      ]
     },
     "execution_count": 84,
     "metadata": {},
     "output_type": "execute_result"
    }
   ],
   "source": [
    "desc = []\n",
    "\n",
    "for i in panel_body:\n",
    "    for j in i.find_all('div',class_=\"col-sm-10 forecast-text\"):\n",
    "        desc.append(j.text.replace('\\n',''))\n",
    "        \n",
    "desc"
   ]
  },
  {
   "cell_type": "code",
   "execution_count": 85,
   "metadata": {},
   "outputs": [
    {
     "name": "stdout",
     "output_type": "stream",
     "text": [
      "13 9 13 10\n"
     ]
    }
   ],
   "source": [
    "print(len(days),len(short_desc),len(desc),len(temps))"
   ]
  },
  {
   "cell_type": "code",
   "execution_count": 86,
   "metadata": {},
   "outputs": [],
   "source": [
    "days_9 = days[:9]"
   ]
  },
  {
   "cell_type": "code",
   "execution_count": 87,
   "metadata": {},
   "outputs": [],
   "source": [
    "short_desc_9 = short_desc[:9]"
   ]
  },
  {
   "cell_type": "code",
   "execution_count": 88,
   "metadata": {},
   "outputs": [],
   "source": [
    "desc_9 = desc[:9]"
   ]
  },
  {
   "cell_type": "code",
   "execution_count": 89,
   "metadata": {},
   "outputs": [],
   "source": [
    "temps_9 = temps[:9]"
   ]
  },
  {
   "cell_type": "code",
   "execution_count": 90,
   "metadata": {},
   "outputs": [],
   "source": [
    "weather_df = pd.DataFrame({})\n",
    "weather_df['Period'] = days_9\n",
    "weather_df['Short description'] = short_desc_9\n",
    "weather_df['Temperature'] = temps_9\n",
    "weather_df['Description'] = desc_9"
   ]
  },
  {
   "cell_type": "code",
   "execution_count": 91,
   "metadata": {},
   "outputs": [
    {
     "data": {
      "text/html": [
       "<div>\n",
       "<style scoped>\n",
       "    .dataframe tbody tr th:only-of-type {\n",
       "        vertical-align: middle;\n",
       "    }\n",
       "\n",
       "    .dataframe tbody tr th {\n",
       "        vertical-align: top;\n",
       "    }\n",
       "\n",
       "    .dataframe thead th {\n",
       "        text-align: right;\n",
       "    }\n",
       "</style>\n",
       "<table border=\"1\" class=\"dataframe\">\n",
       "  <thead>\n",
       "    <tr style=\"text-align: right;\">\n",
       "      <th></th>\n",
       "      <th>Period</th>\n",
       "      <th>Short description</th>\n",
       "      <th>Temperature</th>\n",
       "      <th>Description</th>\n",
       "    </tr>\n",
       "  </thead>\n",
       "  <tbody>\n",
       "    <tr>\n",
       "      <th>0</th>\n",
       "      <td>Today</td>\n",
       "      <td>Partly Sunnythen MostlySunny andBreezy</td>\n",
       "      <td>High: 71 °F</td>\n",
       "      <td>Mostly cloudy, then gradually becoming sunny, ...</td>\n",
       "    </tr>\n",
       "    <tr>\n",
       "      <th>1</th>\n",
       "      <td>Tonight</td>\n",
       "      <td>Mostly Cloudyand Breezythen MostlyCloudy</td>\n",
       "      <td>Low: 57 °F</td>\n",
       "      <td>Mostly cloudy, with a low around 57. Breezy, w...</td>\n",
       "    </tr>\n",
       "    <tr>\n",
       "      <th>2</th>\n",
       "      <td>Thursday</td>\n",
       "      <td>Partly Sunnythen MostlySunny andBreezy</td>\n",
       "      <td>High: 70 °F</td>\n",
       "      <td>Mostly cloudy, then gradually becoming sunny, ...</td>\n",
       "    </tr>\n",
       "    <tr>\n",
       "      <th>3</th>\n",
       "      <td>Thursday Night</td>\n",
       "      <td>Partly Cloudyand Breezythen MostlyCloudy</td>\n",
       "      <td>Low: 56 °F</td>\n",
       "      <td>Partly cloudy, with a low around 56. Breezy, w...</td>\n",
       "    </tr>\n",
       "    <tr>\n",
       "      <th>4</th>\n",
       "      <td>Friday</td>\n",
       "      <td>Mostly Sunnythen Sunnyand Breezy</td>\n",
       "      <td>High: 69 °F</td>\n",
       "      <td>Mostly sunny, with a high near 69. Breezy, wit...</td>\n",
       "    </tr>\n",
       "    <tr>\n",
       "      <th>5</th>\n",
       "      <td>Friday Night</td>\n",
       "      <td>Mostly Cloudy</td>\n",
       "      <td>Low: 56 °F</td>\n",
       "      <td>Mostly cloudy, with a low around 56.</td>\n",
       "    </tr>\n",
       "    <tr>\n",
       "      <th>6</th>\n",
       "      <td>Saturday</td>\n",
       "      <td>Partly Sunny</td>\n",
       "      <td>High: 67 °F</td>\n",
       "      <td>Partly sunny, with a high near 67.</td>\n",
       "    </tr>\n",
       "    <tr>\n",
       "      <th>7</th>\n",
       "      <td>Saturday Night</td>\n",
       "      <td>Mostly Cloudy</td>\n",
       "      <td>Low: 56 °F</td>\n",
       "      <td>Mostly cloudy, with a low around 56.</td>\n",
       "    </tr>\n",
       "    <tr>\n",
       "      <th>8</th>\n",
       "      <td>Sunday</td>\n",
       "      <td>Mostly Sunny</td>\n",
       "      <td>High: 68 °F</td>\n",
       "      <td>Mostly sunny, with a high near 68.</td>\n",
       "    </tr>\n",
       "  </tbody>\n",
       "</table>\n",
       "</div>"
      ],
      "text/plain": [
       "           Period                         Short description  Temperature  \\\n",
       "0           Today    Partly Sunnythen MostlySunny andBreezy  High: 71 °F   \n",
       "1         Tonight  Mostly Cloudyand Breezythen MostlyCloudy   Low: 57 °F   \n",
       "2        Thursday    Partly Sunnythen MostlySunny andBreezy  High: 70 °F   \n",
       "3  Thursday Night  Partly Cloudyand Breezythen MostlyCloudy   Low: 56 °F   \n",
       "4          Friday          Mostly Sunnythen Sunnyand Breezy  High: 69 °F   \n",
       "5    Friday Night                             Mostly Cloudy   Low: 56 °F   \n",
       "6        Saturday                              Partly Sunny  High: 67 °F   \n",
       "7  Saturday Night                             Mostly Cloudy   Low: 56 °F   \n",
       "8          Sunday                              Mostly Sunny  High: 68 °F   \n",
       "\n",
       "                                         Description  \n",
       "0  Mostly cloudy, then gradually becoming sunny, ...  \n",
       "1  Mostly cloudy, with a low around 57. Breezy, w...  \n",
       "2  Mostly cloudy, then gradually becoming sunny, ...  \n",
       "3  Partly cloudy, with a low around 56. Breezy, w...  \n",
       "4  Mostly sunny, with a high near 69. Breezy, wit...  \n",
       "5               Mostly cloudy, with a low around 56.  \n",
       "6                 Partly sunny, with a high near 67.  \n",
       "7               Mostly cloudy, with a low around 56.  \n",
       "8                 Mostly sunny, with a high near 68.  "
      ]
     },
     "execution_count": 91,
     "metadata": {},
     "output_type": "execute_result"
    }
   ],
   "source": [
    "weather_df"
   ]
  },
  {
   "cell_type": "markdown",
   "metadata": {},
   "source": [
    "### End of question 8"
   ]
  },
  {
   "cell_type": "markdown",
   "metadata": {},
   "source": [
    "## Beginning of question 9"
   ]
  },
  {
   "cell_type": "code",
   "execution_count": 92,
   "metadata": {},
   "outputs": [
    {
     "data": {
      "text/plain": [
       "<Response [200]>"
      ]
     },
     "execution_count": 92,
     "metadata": {},
     "output_type": "execute_result"
    }
   ],
   "source": [
    "intern = requests.get('https://internshala.com/fresher-jobs')\n",
    "intern"
   ]
  },
  {
   "cell_type": "code",
   "execution_count": 93,
   "metadata": {},
   "outputs": [],
   "source": [
    "intern_soup = BeautifulSoup(intern.content)"
   ]
  },
  {
   "cell_type": "code",
   "execution_count": 94,
   "metadata": {},
   "outputs": [],
   "source": [
    "# print(intern_soup.prettify())"
   ]
  },
  {
   "cell_type": "code",
   "execution_count": 95,
   "metadata": {},
   "outputs": [],
   "source": [
    "intern_title_soup = intern_soup.find_all('div',class_='heading_4_5 profile')\n",
    "# intern_title_soup"
   ]
  },
  {
   "cell_type": "code",
   "execution_count": 96,
   "metadata": {},
   "outputs": [
    {
     "data": {
      "text/plain": [
       "['Sales Manager/Omni Sport Leader - Retail',\n",
       " 'Human Resources (HR) Associate/Counselor',\n",
       " 'Junior iOS App Developer',\n",
       " 'Software Testing Engineer',\n",
       " 'Embedded Systems Associate',\n",
       " 'Full Stack Developer',\n",
       " 'Nutrition & Dietetics Specialist',\n",
       " 'Human Resources (HR) Executive',\n",
       " 'Junior Software Developer',\n",
       " 'Business Development Manager',\n",
       " 'Patent Research Associate',\n",
       " 'Data Analyst',\n",
       " 'Software Tester',\n",
       " 'Business Development Executive',\n",
       " 'MERN Stack Developer',\n",
       " 'Conversion Rate Optimization Analyst',\n",
       " 'Client Service Executive',\n",
       " 'Sales Development Representative',\n",
       " 'Corporate Sales Associate',\n",
       " 'International Business Development Executive',\n",
       " 'Product Marketer',\n",
       " 'Customer Support Associates',\n",
       " 'Content & Customer Care Executive',\n",
       " 'Django Developer',\n",
       " 'Reactjs Developer',\n",
       " 'Web Development Trainee',\n",
       " 'Business Development Executive',\n",
       " 'Cybersecurity Compliance Officer',\n",
       " 'MERN Stack Developer',\n",
       " 'Senior Copywriter',\n",
       " 'Corporate Sales Associate',\n",
       " 'Digital Marketing Associate',\n",
       " 'Social Media Marketing Executive',\n",
       " 'Business Development Executive',\n",
       " 'Operations Manager',\n",
       " 'Lead Counselor',\n",
       " 'Angular.js Developer',\n",
       " 'Digital Marketing Specialist',\n",
       " 'Franchise Manager - Sales (Assistant Manager )',\n",
       " 'Graphic Designer']"
      ]
     },
     "execution_count": 96,
     "metadata": {},
     "output_type": "execute_result"
    }
   ],
   "source": [
    "intern_titles = []\n",
    "\n",
    "for i in intern_title_soup:\n",
    "    for j in i.find_all(\"a\"):\n",
    "        intern_titles.append(j.text)\n",
    "    \n",
    "        \n",
    "intern_titles"
   ]
  },
  {
   "cell_type": "code",
   "execution_count": 97,
   "metadata": {},
   "outputs": [
    {
     "data": {
      "text/plain": [
       "40"
      ]
     },
     "execution_count": 97,
     "metadata": {},
     "output_type": "execute_result"
    }
   ],
   "source": [
    "len(intern_titles)"
   ]
  },
  {
   "cell_type": "code",
   "execution_count": 98,
   "metadata": {},
   "outputs": [],
   "source": [
    "intern_company = intern_soup.find_all('div',class_='heading_6 company_name')"
   ]
  },
  {
   "cell_type": "code",
   "execution_count": 99,
   "metadata": {},
   "outputs": [],
   "source": [
    "# intern_company"
   ]
  },
  {
   "cell_type": "code",
   "execution_count": 100,
   "metadata": {},
   "outputs": [
    {
     "data": {
      "text/plain": [
       "['Decathlon Sport India Private Limited',\n",
       " 'New Way Professionals Private Limited',\n",
       " 'Rang De',\n",
       " 'SafeSquid Labs',\n",
       " 'Signals & Systems India Private Limited',\n",
       " 'Wisestep',\n",
       " 'Nucros Science & Taste',\n",
       " 'Nikulsan Technologies Private Limited',\n",
       " 'Habitate Technologies Private Limited',\n",
       " 'School Of Excellence',\n",
       " 'Crimson Insights Technologies LLP',\n",
       " 'Anudeep Nekkanti',\n",
       " 'Startxlabs Technologies Private Limited',\n",
       " 'Padhhigh',\n",
       " 'Snippt',\n",
       " 'DataVinci Private Limited',\n",
       " 'Red Tree Design Studio Private Limited',\n",
       " 'HelloAR',\n",
       " 'Best Roadways Limited',\n",
       " 'Advids',\n",
       " 'Habitate Technologies Private Limited',\n",
       " 'Recruit CRM',\n",
       " 'Revo International LLP',\n",
       " 'Startxlabs Technologies Private Limited',\n",
       " 'Startxlabs Technologies Private Limited',\n",
       " 'Softsensor.ai',\n",
       " 'Verzeo',\n",
       " 'S3 Infosoft',\n",
       " 'Binary Numbers',\n",
       " 'Ranksoldier International Private Limited',\n",
       " 'MiM-Essay',\n",
       " 'BubbleNut Wash',\n",
       " 'Erikka India',\n",
       " 'Cosmic Micro Systems Private Limited',\n",
       " 'Kumi Labs',\n",
       " 'HOSS - House Of Soft Skills',\n",
       " 'Systaldyn Consultancy Private Limited',\n",
       " 'Sahadya Consultants',\n",
       " 'Regrob',\n",
       " 'Cynfas']"
      ]
     },
     "execution_count": 100,
     "metadata": {},
     "output_type": "execute_result"
    }
   ],
   "source": [
    "companies = []\n",
    "\n",
    "for i in intern_company:\n",
    "    for j in i.find_all('a'):\n",
    "        companies.append(j.text.strip())\n",
    "    \n",
    "        \n",
    "companies"
   ]
  },
  {
   "cell_type": "code",
   "execution_count": 101,
   "metadata": {},
   "outputs": [],
   "source": [
    "intern_dp = intern_soup.find_all('div',class_='other_detail_item')\n",
    "# intern_dp"
   ]
  },
  {
   "cell_type": "code",
   "execution_count": 102,
   "metadata": {},
   "outputs": [],
   "source": [
    "intern_cleaned = []\n",
    "\n",
    "for i in intern_dp:\n",
    "    for j in i.find_all('div',class_=\"item_body\"):\n",
    "        intern_cleaned.append(j.text.strip())\n",
    "    \n",
    "        \n",
    "# intern_cleaned"
   ]
  },
  {
   "cell_type": "code",
   "execution_count": 103,
   "metadata": {},
   "outputs": [
    {
     "data": {
      "text/plain": [
       "['3.3 - 4.5 LPA',\n",
       " '3 - 4 LPA',\n",
       " '3 - 4.7 LPA',\n",
       " '3 LPA',\n",
       " '3 - 4 LPA',\n",
       " '3.25 - 5 LPA',\n",
       " '3 LPA',\n",
       " '3 LPA',\n",
       " '3.6 - 4.8 LPA',\n",
       " '3 - 3.5 LPA',\n",
       " '3 - 4 LPA',\n",
       " '6 - 10 LPA',\n",
       " '3 - 3.6 LPA',\n",
       " '4 - 7 LPA',\n",
       " '4 - 5 LPA',\n",
       " '5 LPA',\n",
       " '3 LPA',\n",
       " '3 - 3.2 LPA',\n",
       " '3 LPA',\n",
       " '3 - 4 LPA',\n",
       " '3.2 - 4.2 LPA',\n",
       " '5 - 7 LPA',\n",
       " '3 - 3.05 LPA',\n",
       " '3.5 - 7.5 LPA',\n",
       " '3.5 - 7.5 LPA',\n",
       " '3 - 5 LPA',\n",
       " '3 - 6 LPA',\n",
       " '3 - 3.6 LPA',\n",
       " '3 - 7 LPA',\n",
       " '3 LPA',\n",
       " '4.5 - 6 LPA',\n",
       " '3.6 - 5.4 LPA',\n",
       " '3 - 5 LPA',\n",
       " '3 - 4.8 LPA',\n",
       " '3 - 8 LPA',\n",
       " '3.8 - 4.5 LPA',\n",
       " '3 - 5 LPA',\n",
       " '3 - 3.5 LPA',\n",
       " '3 - 3.1 LPA',\n",
       " '3 LPA']"
      ]
     },
     "execution_count": 103,
     "metadata": {},
     "output_type": "execute_result"
    }
   ],
   "source": [
    "intern_ctc = []\n",
    "for i in range(1,len(intern_cleaned),3):\n",
    "    intern_ctc.append(intern_cleaned[i])\n",
    "intern_ctc"
   ]
  },
  {
   "cell_type": "code",
   "execution_count": 104,
   "metadata": {},
   "outputs": [
    {
     "data": {
      "text/plain": [
       "[\"21 Aug' 21\",\n",
       " \"27 Aug' 21\",\n",
       " \"27 Aug' 21\",\n",
       " \"27 Aug' 21\",\n",
       " \"27 Aug' 21\",\n",
       " \"27 Aug' 21\",\n",
       " \"27 Aug' 21\",\n",
       " \"27 Aug' 21\",\n",
       " \"27 Aug' 21\",\n",
       " \"27 Aug' 21\",\n",
       " \"27 Aug' 21\",\n",
       " \"27 Aug' 21\",\n",
       " \"27 Aug' 21\",\n",
       " \"26 Aug' 21\",\n",
       " \"26 Aug' 21\",\n",
       " \"26 Aug' 21\",\n",
       " \"26 Aug' 21\",\n",
       " \"26 Aug' 21\",\n",
       " \"26 Aug' 21\",\n",
       " \"26 Aug' 21\",\n",
       " \"25 Aug' 21\",\n",
       " \"25 Aug' 21\",\n",
       " \"25 Aug' 21\",\n",
       " \"25 Aug' 21\",\n",
       " \"25 Aug' 21\",\n",
       " \"25 Aug' 21\",\n",
       " \"25 Aug' 21\",\n",
       " \"25 Aug' 21\",\n",
       " \"23 Aug' 21\",\n",
       " \"23 Aug' 21\",\n",
       " \"25 Aug' 21\",\n",
       " \"23 Aug' 21\",\n",
       " \"23 Aug' 21\",\n",
       " \"22 Aug' 21\",\n",
       " \"25 Aug' 21\",\n",
       " \"22 Aug' 21\",\n",
       " \"22 Aug' 21\",\n",
       " \"22 Aug' 21\",\n",
       " \"22 Aug' 21\",\n",
       " \"22 Aug' 21\"]"
      ]
     },
     "execution_count": 104,
     "metadata": {},
     "output_type": "execute_result"
    }
   ],
   "source": [
    "intern_date = []\n",
    "for i in range(2,len(intern_cleaned),3):\n",
    "    intern_date.append(intern_cleaned[i])\n",
    "intern_date"
   ]
  },
  {
   "cell_type": "code",
   "execution_count": 105,
   "metadata": {},
   "outputs": [],
   "source": [
    "intern_df = pd.DataFrame({})\n",
    "intern_df['Job Title'] = intern_titles\n",
    "intern_df['Company Name'] = companies\n",
    "intern_df['CTC'] = intern_ctc\n",
    "intern_df['Apply Date'] = intern_date"
   ]
  },
  {
   "cell_type": "code",
   "execution_count": 106,
   "metadata": {},
   "outputs": [
    {
     "data": {
      "text/html": [
       "<div>\n",
       "<style scoped>\n",
       "    .dataframe tbody tr th:only-of-type {\n",
       "        vertical-align: middle;\n",
       "    }\n",
       "\n",
       "    .dataframe tbody tr th {\n",
       "        vertical-align: top;\n",
       "    }\n",
       "\n",
       "    .dataframe thead th {\n",
       "        text-align: right;\n",
       "    }\n",
       "</style>\n",
       "<table border=\"1\" class=\"dataframe\">\n",
       "  <thead>\n",
       "    <tr style=\"text-align: right;\">\n",
       "      <th></th>\n",
       "      <th>Job Title</th>\n",
       "      <th>Company Name</th>\n",
       "      <th>CTC</th>\n",
       "      <th>Apply Date</th>\n",
       "    </tr>\n",
       "  </thead>\n",
       "  <tbody>\n",
       "    <tr>\n",
       "      <th>0</th>\n",
       "      <td>Sales Manager/Omni Sport Leader - Retail</td>\n",
       "      <td>Decathlon Sport India Private Limited</td>\n",
       "      <td>3.3 - 4.5 LPA</td>\n",
       "      <td>21 Aug' 21</td>\n",
       "    </tr>\n",
       "    <tr>\n",
       "      <th>1</th>\n",
       "      <td>Human Resources (HR) Associate/Counselor</td>\n",
       "      <td>New Way Professionals Private Limited</td>\n",
       "      <td>3 - 4 LPA</td>\n",
       "      <td>27 Aug' 21</td>\n",
       "    </tr>\n",
       "    <tr>\n",
       "      <th>2</th>\n",
       "      <td>Junior iOS App Developer</td>\n",
       "      <td>Rang De</td>\n",
       "      <td>3 - 4.7 LPA</td>\n",
       "      <td>27 Aug' 21</td>\n",
       "    </tr>\n",
       "    <tr>\n",
       "      <th>3</th>\n",
       "      <td>Software Testing Engineer</td>\n",
       "      <td>SafeSquid Labs</td>\n",
       "      <td>3 LPA</td>\n",
       "      <td>27 Aug' 21</td>\n",
       "    </tr>\n",
       "    <tr>\n",
       "      <th>4</th>\n",
       "      <td>Embedded Systems Associate</td>\n",
       "      <td>Signals &amp; Systems India Private Limited</td>\n",
       "      <td>3 - 4 LPA</td>\n",
       "      <td>27 Aug' 21</td>\n",
       "    </tr>\n",
       "    <tr>\n",
       "      <th>5</th>\n",
       "      <td>Full Stack Developer</td>\n",
       "      <td>Wisestep</td>\n",
       "      <td>3.25 - 5 LPA</td>\n",
       "      <td>27 Aug' 21</td>\n",
       "    </tr>\n",
       "    <tr>\n",
       "      <th>6</th>\n",
       "      <td>Nutrition &amp; Dietetics Specialist</td>\n",
       "      <td>Nucros Science &amp; Taste</td>\n",
       "      <td>3 LPA</td>\n",
       "      <td>27 Aug' 21</td>\n",
       "    </tr>\n",
       "    <tr>\n",
       "      <th>7</th>\n",
       "      <td>Human Resources (HR) Executive</td>\n",
       "      <td>Nikulsan Technologies Private Limited</td>\n",
       "      <td>3 LPA</td>\n",
       "      <td>27 Aug' 21</td>\n",
       "    </tr>\n",
       "    <tr>\n",
       "      <th>8</th>\n",
       "      <td>Junior Software Developer</td>\n",
       "      <td>Habitate Technologies Private Limited</td>\n",
       "      <td>3.6 - 4.8 LPA</td>\n",
       "      <td>27 Aug' 21</td>\n",
       "    </tr>\n",
       "    <tr>\n",
       "      <th>9</th>\n",
       "      <td>Business Development Manager</td>\n",
       "      <td>School Of Excellence</td>\n",
       "      <td>3 - 3.5 LPA</td>\n",
       "      <td>27 Aug' 21</td>\n",
       "    </tr>\n",
       "    <tr>\n",
       "      <th>10</th>\n",
       "      <td>Patent Research Associate</td>\n",
       "      <td>Crimson Insights Technologies LLP</td>\n",
       "      <td>3 - 4 LPA</td>\n",
       "      <td>27 Aug' 21</td>\n",
       "    </tr>\n",
       "    <tr>\n",
       "      <th>11</th>\n",
       "      <td>Data Analyst</td>\n",
       "      <td>Anudeep Nekkanti</td>\n",
       "      <td>6 - 10 LPA</td>\n",
       "      <td>27 Aug' 21</td>\n",
       "    </tr>\n",
       "    <tr>\n",
       "      <th>12</th>\n",
       "      <td>Software Tester</td>\n",
       "      <td>Startxlabs Technologies Private Limited</td>\n",
       "      <td>3 - 3.6 LPA</td>\n",
       "      <td>27 Aug' 21</td>\n",
       "    </tr>\n",
       "    <tr>\n",
       "      <th>13</th>\n",
       "      <td>Business Development Executive</td>\n",
       "      <td>Padhhigh</td>\n",
       "      <td>4 - 7 LPA</td>\n",
       "      <td>26 Aug' 21</td>\n",
       "    </tr>\n",
       "    <tr>\n",
       "      <th>14</th>\n",
       "      <td>MERN Stack Developer</td>\n",
       "      <td>Snippt</td>\n",
       "      <td>4 - 5 LPA</td>\n",
       "      <td>26 Aug' 21</td>\n",
       "    </tr>\n",
       "    <tr>\n",
       "      <th>15</th>\n",
       "      <td>Conversion Rate Optimization Analyst</td>\n",
       "      <td>DataVinci Private Limited</td>\n",
       "      <td>5 LPA</td>\n",
       "      <td>26 Aug' 21</td>\n",
       "    </tr>\n",
       "    <tr>\n",
       "      <th>16</th>\n",
       "      <td>Client Service Executive</td>\n",
       "      <td>Red Tree Design Studio Private Limited</td>\n",
       "      <td>3 LPA</td>\n",
       "      <td>26 Aug' 21</td>\n",
       "    </tr>\n",
       "    <tr>\n",
       "      <th>17</th>\n",
       "      <td>Sales Development Representative</td>\n",
       "      <td>HelloAR</td>\n",
       "      <td>3 - 3.2 LPA</td>\n",
       "      <td>26 Aug' 21</td>\n",
       "    </tr>\n",
       "    <tr>\n",
       "      <th>18</th>\n",
       "      <td>Corporate Sales Associate</td>\n",
       "      <td>Best Roadways Limited</td>\n",
       "      <td>3 LPA</td>\n",
       "      <td>26 Aug' 21</td>\n",
       "    </tr>\n",
       "    <tr>\n",
       "      <th>19</th>\n",
       "      <td>International Business Development Executive</td>\n",
       "      <td>Advids</td>\n",
       "      <td>3 - 4 LPA</td>\n",
       "      <td>26 Aug' 21</td>\n",
       "    </tr>\n",
       "    <tr>\n",
       "      <th>20</th>\n",
       "      <td>Product Marketer</td>\n",
       "      <td>Habitate Technologies Private Limited</td>\n",
       "      <td>3.2 - 4.2 LPA</td>\n",
       "      <td>25 Aug' 21</td>\n",
       "    </tr>\n",
       "    <tr>\n",
       "      <th>21</th>\n",
       "      <td>Customer Support Associates</td>\n",
       "      <td>Recruit CRM</td>\n",
       "      <td>5 - 7 LPA</td>\n",
       "      <td>25 Aug' 21</td>\n",
       "    </tr>\n",
       "    <tr>\n",
       "      <th>22</th>\n",
       "      <td>Content &amp; Customer Care Executive</td>\n",
       "      <td>Revo International LLP</td>\n",
       "      <td>3 - 3.05 LPA</td>\n",
       "      <td>25 Aug' 21</td>\n",
       "    </tr>\n",
       "    <tr>\n",
       "      <th>23</th>\n",
       "      <td>Django Developer</td>\n",
       "      <td>Startxlabs Technologies Private Limited</td>\n",
       "      <td>3.5 - 7.5 LPA</td>\n",
       "      <td>25 Aug' 21</td>\n",
       "    </tr>\n",
       "    <tr>\n",
       "      <th>24</th>\n",
       "      <td>Reactjs Developer</td>\n",
       "      <td>Startxlabs Technologies Private Limited</td>\n",
       "      <td>3.5 - 7.5 LPA</td>\n",
       "      <td>25 Aug' 21</td>\n",
       "    </tr>\n",
       "    <tr>\n",
       "      <th>25</th>\n",
       "      <td>Web Development Trainee</td>\n",
       "      <td>Softsensor.ai</td>\n",
       "      <td>3 - 5 LPA</td>\n",
       "      <td>25 Aug' 21</td>\n",
       "    </tr>\n",
       "    <tr>\n",
       "      <th>26</th>\n",
       "      <td>Business Development Executive</td>\n",
       "      <td>Verzeo</td>\n",
       "      <td>3 - 6 LPA</td>\n",
       "      <td>25 Aug' 21</td>\n",
       "    </tr>\n",
       "    <tr>\n",
       "      <th>27</th>\n",
       "      <td>Cybersecurity Compliance Officer</td>\n",
       "      <td>S3 Infosoft</td>\n",
       "      <td>3 - 3.6 LPA</td>\n",
       "      <td>25 Aug' 21</td>\n",
       "    </tr>\n",
       "    <tr>\n",
       "      <th>28</th>\n",
       "      <td>MERN Stack Developer</td>\n",
       "      <td>Binary Numbers</td>\n",
       "      <td>3 - 7 LPA</td>\n",
       "      <td>23 Aug' 21</td>\n",
       "    </tr>\n",
       "    <tr>\n",
       "      <th>29</th>\n",
       "      <td>Senior Copywriter</td>\n",
       "      <td>Ranksoldier International Private Limited</td>\n",
       "      <td>3 LPA</td>\n",
       "      <td>23 Aug' 21</td>\n",
       "    </tr>\n",
       "    <tr>\n",
       "      <th>30</th>\n",
       "      <td>Corporate Sales Associate</td>\n",
       "      <td>MiM-Essay</td>\n",
       "      <td>4.5 - 6 LPA</td>\n",
       "      <td>25 Aug' 21</td>\n",
       "    </tr>\n",
       "    <tr>\n",
       "      <th>31</th>\n",
       "      <td>Digital Marketing Associate</td>\n",
       "      <td>BubbleNut Wash</td>\n",
       "      <td>3.6 - 5.4 LPA</td>\n",
       "      <td>23 Aug' 21</td>\n",
       "    </tr>\n",
       "    <tr>\n",
       "      <th>32</th>\n",
       "      <td>Social Media Marketing Executive</td>\n",
       "      <td>Erikka India</td>\n",
       "      <td>3 - 5 LPA</td>\n",
       "      <td>23 Aug' 21</td>\n",
       "    </tr>\n",
       "    <tr>\n",
       "      <th>33</th>\n",
       "      <td>Business Development Executive</td>\n",
       "      <td>Cosmic Micro Systems Private Limited</td>\n",
       "      <td>3 - 4.8 LPA</td>\n",
       "      <td>22 Aug' 21</td>\n",
       "    </tr>\n",
       "    <tr>\n",
       "      <th>34</th>\n",
       "      <td>Operations Manager</td>\n",
       "      <td>Kumi Labs</td>\n",
       "      <td>3 - 8 LPA</td>\n",
       "      <td>25 Aug' 21</td>\n",
       "    </tr>\n",
       "    <tr>\n",
       "      <th>35</th>\n",
       "      <td>Lead Counselor</td>\n",
       "      <td>HOSS - House Of Soft Skills</td>\n",
       "      <td>3.8 - 4.5 LPA</td>\n",
       "      <td>22 Aug' 21</td>\n",
       "    </tr>\n",
       "    <tr>\n",
       "      <th>36</th>\n",
       "      <td>Angular.js Developer</td>\n",
       "      <td>Systaldyn Consultancy Private Limited</td>\n",
       "      <td>3 - 5 LPA</td>\n",
       "      <td>22 Aug' 21</td>\n",
       "    </tr>\n",
       "    <tr>\n",
       "      <th>37</th>\n",
       "      <td>Digital Marketing Specialist</td>\n",
       "      <td>Sahadya Consultants</td>\n",
       "      <td>3 - 3.5 LPA</td>\n",
       "      <td>22 Aug' 21</td>\n",
       "    </tr>\n",
       "    <tr>\n",
       "      <th>38</th>\n",
       "      <td>Franchise Manager - Sales (Assistant Manager )</td>\n",
       "      <td>Regrob</td>\n",
       "      <td>3 - 3.1 LPA</td>\n",
       "      <td>22 Aug' 21</td>\n",
       "    </tr>\n",
       "    <tr>\n",
       "      <th>39</th>\n",
       "      <td>Graphic Designer</td>\n",
       "      <td>Cynfas</td>\n",
       "      <td>3 LPA</td>\n",
       "      <td>22 Aug' 21</td>\n",
       "    </tr>\n",
       "  </tbody>\n",
       "</table>\n",
       "</div>"
      ],
      "text/plain": [
       "                                         Job Title  \\\n",
       "0         Sales Manager/Omni Sport Leader - Retail   \n",
       "1         Human Resources (HR) Associate/Counselor   \n",
       "2                         Junior iOS App Developer   \n",
       "3                        Software Testing Engineer   \n",
       "4                       Embedded Systems Associate   \n",
       "5                             Full Stack Developer   \n",
       "6                 Nutrition & Dietetics Specialist   \n",
       "7                   Human Resources (HR) Executive   \n",
       "8                        Junior Software Developer   \n",
       "9                     Business Development Manager   \n",
       "10                       Patent Research Associate   \n",
       "11                                    Data Analyst   \n",
       "12                                 Software Tester   \n",
       "13                  Business Development Executive   \n",
       "14                            MERN Stack Developer   \n",
       "15            Conversion Rate Optimization Analyst   \n",
       "16                        Client Service Executive   \n",
       "17                Sales Development Representative   \n",
       "18                       Corporate Sales Associate   \n",
       "19    International Business Development Executive   \n",
       "20                                Product Marketer   \n",
       "21                     Customer Support Associates   \n",
       "22               Content & Customer Care Executive   \n",
       "23                                Django Developer   \n",
       "24                               Reactjs Developer   \n",
       "25                         Web Development Trainee   \n",
       "26                  Business Development Executive   \n",
       "27                Cybersecurity Compliance Officer   \n",
       "28                            MERN Stack Developer   \n",
       "29                               Senior Copywriter   \n",
       "30                       Corporate Sales Associate   \n",
       "31                     Digital Marketing Associate   \n",
       "32                Social Media Marketing Executive   \n",
       "33                  Business Development Executive   \n",
       "34                              Operations Manager   \n",
       "35                                  Lead Counselor   \n",
       "36                            Angular.js Developer   \n",
       "37                    Digital Marketing Specialist   \n",
       "38  Franchise Manager - Sales (Assistant Manager )   \n",
       "39                                Graphic Designer   \n",
       "\n",
       "                                 Company Name            CTC  Apply Date  \n",
       "0       Decathlon Sport India Private Limited  3.3 - 4.5 LPA  21 Aug' 21  \n",
       "1       New Way Professionals Private Limited      3 - 4 LPA  27 Aug' 21  \n",
       "2                                     Rang De    3 - 4.7 LPA  27 Aug' 21  \n",
       "3                              SafeSquid Labs          3 LPA  27 Aug' 21  \n",
       "4     Signals & Systems India Private Limited      3 - 4 LPA  27 Aug' 21  \n",
       "5                                    Wisestep   3.25 - 5 LPA  27 Aug' 21  \n",
       "6                      Nucros Science & Taste          3 LPA  27 Aug' 21  \n",
       "7       Nikulsan Technologies Private Limited          3 LPA  27 Aug' 21  \n",
       "8       Habitate Technologies Private Limited  3.6 - 4.8 LPA  27 Aug' 21  \n",
       "9                        School Of Excellence    3 - 3.5 LPA  27 Aug' 21  \n",
       "10          Crimson Insights Technologies LLP      3 - 4 LPA  27 Aug' 21  \n",
       "11                           Anudeep Nekkanti     6 - 10 LPA  27 Aug' 21  \n",
       "12    Startxlabs Technologies Private Limited    3 - 3.6 LPA  27 Aug' 21  \n",
       "13                                   Padhhigh      4 - 7 LPA  26 Aug' 21  \n",
       "14                                     Snippt      4 - 5 LPA  26 Aug' 21  \n",
       "15                  DataVinci Private Limited          5 LPA  26 Aug' 21  \n",
       "16     Red Tree Design Studio Private Limited          3 LPA  26 Aug' 21  \n",
       "17                                    HelloAR    3 - 3.2 LPA  26 Aug' 21  \n",
       "18                      Best Roadways Limited          3 LPA  26 Aug' 21  \n",
       "19                                     Advids      3 - 4 LPA  26 Aug' 21  \n",
       "20      Habitate Technologies Private Limited  3.2 - 4.2 LPA  25 Aug' 21  \n",
       "21                                Recruit CRM      5 - 7 LPA  25 Aug' 21  \n",
       "22                     Revo International LLP   3 - 3.05 LPA  25 Aug' 21  \n",
       "23    Startxlabs Technologies Private Limited  3.5 - 7.5 LPA  25 Aug' 21  \n",
       "24    Startxlabs Technologies Private Limited  3.5 - 7.5 LPA  25 Aug' 21  \n",
       "25                              Softsensor.ai      3 - 5 LPA  25 Aug' 21  \n",
       "26                                     Verzeo      3 - 6 LPA  25 Aug' 21  \n",
       "27                                S3 Infosoft    3 - 3.6 LPA  25 Aug' 21  \n",
       "28                             Binary Numbers      3 - 7 LPA  23 Aug' 21  \n",
       "29  Ranksoldier International Private Limited          3 LPA  23 Aug' 21  \n",
       "30                                  MiM-Essay    4.5 - 6 LPA  25 Aug' 21  \n",
       "31                             BubbleNut Wash  3.6 - 5.4 LPA  23 Aug' 21  \n",
       "32                               Erikka India      3 - 5 LPA  23 Aug' 21  \n",
       "33       Cosmic Micro Systems Private Limited    3 - 4.8 LPA  22 Aug' 21  \n",
       "34                                  Kumi Labs      3 - 8 LPA  25 Aug' 21  \n",
       "35                HOSS - House Of Soft Skills  3.8 - 4.5 LPA  22 Aug' 21  \n",
       "36      Systaldyn Consultancy Private Limited      3 - 5 LPA  22 Aug' 21  \n",
       "37                        Sahadya Consultants    3 - 3.5 LPA  22 Aug' 21  \n",
       "38                                     Regrob    3 - 3.1 LPA  22 Aug' 21  \n",
       "39                                     Cynfas          3 LPA  22 Aug' 21  "
      ]
     },
     "execution_count": 106,
     "metadata": {},
     "output_type": "execute_result"
    }
   ],
   "source": [
    "intern_df"
   ]
  },
  {
   "cell_type": "markdown",
   "metadata": {},
   "source": [
    "### End of question 9"
   ]
  },
  {
   "cell_type": "markdown",
   "metadata": {},
   "source": [
    "## Beginning of question 10"
   ]
  },
  {
   "cell_type": "code",
   "execution_count": 107,
   "metadata": {},
   "outputs": [
    {
     "data": {
      "text/plain": [
       "<Response [200]>"
      ]
     },
     "execution_count": 107,
     "metadata": {},
     "output_type": "execute_result"
    }
   ],
   "source": [
    "nobroke = requests.get('https://www.nobroker.in/property/rent/pune/multiple?searchParam=W3sibGF0IjoxOC41NjQyNDUyLCJsb24iOjczLjc3Njg1MTEsInBsYWNlSWQiOiJDaElKeTlOZDhNLS13anNSZmF0Xy01Y1NrYUUiLCJwbGFjZU5hbWUiOiJCYW5lciJ9LHsibGF0IjoxOC41NDE1MDk5LCJsb24iOjczLjc5MjQ3NjksInBsYWNlSWQiOiJDaElKYmVSNWktTy13anNSZnRsM1BScV9wWU0iLCJwbGFjZU5hbWUiOiJQYXNoYW4ifSx7ImxhdCI6MTguNTY3OTE0NiwibG9uIjo3My45MTQzNDMxOTk5OTk5OSwicGxhY2VJZCI6IkNoSUp0WVFVNWtiQndqc1JzTE8wcVBjc1NMWSIsInBsYWNlTmFtZSI6IlZpbWFuIE5hZ2FyIn1d&radius=2.0&sharedAccomodation=0')\n",
    "nobroke"
   ]
  },
  {
   "cell_type": "code",
   "execution_count": 108,
   "metadata": {},
   "outputs": [],
   "source": [
    "# nobroke.content"
   ]
  },
  {
   "cell_type": "code",
   "execution_count": 109,
   "metadata": {},
   "outputs": [],
   "source": [
    "soup_nb = BeautifulSoup(nobroke.content)\n",
    "# soup_nb"
   ]
  },
  {
   "cell_type": "code",
   "execution_count": 110,
   "metadata": {},
   "outputs": [],
   "source": [
    "# print(soup_nb.prettify())"
   ]
  },
  {
   "cell_type": "code",
   "execution_count": 111,
   "metadata": {},
   "outputs": [],
   "source": [
    "all_nb = soup_nb.find_all('div',class_='infinite-scroll-component')"
   ]
  },
  {
   "cell_type": "code",
   "execution_count": 112,
   "metadata": {},
   "outputs": [],
   "source": [
    "# all_nb"
   ]
  },
  {
   "cell_type": "code",
   "execution_count": 113,
   "metadata": {},
   "outputs": [
    {
     "data": {
      "text/plain": [
       "['2 BHK Flat  For Rent  In Nikash Skies Chs In Pashan ',\n",
       " '3 BHK Apartment  For Rent  In Saidatta Residency In Baner ',\n",
       " '1 BHK Flat  For Rent  In Fortune Mirador In Baner ',\n",
       " '2 BHK Flat  For Rent  In Sai Shwet Apartments  In Pashan ',\n",
       " '3 BHK Apartment  For Rent  In Shree Balaji Infinity In Baner ',\n",
       " '2 BHK Apartment  For Rent  In Suyog Pearl In Suyog Pearl Society ',\n",
       " '3 BHK Flat  For Rent  In Neco Gardens In Viman Nagar ',\n",
       " '2 BHK Apartment  For Rent  In Aditya Green Zone In Baner ',\n",
       " '2 BHK Flat  For Rent  In Achalare Tierra Viva In Baner ',\n",
       " '2 BHK Flat  For Rent  In Bhagwati Iris In Baner ']"
      ]
     },
     "execution_count": 113,
     "metadata": {},
     "output_type": "execute_result"
    }
   ],
   "source": [
    "h_title = []\n",
    "\n",
    "for i in all_nb:\n",
    "    for j in i.find_all(\"h2\"):\n",
    "        h_title.append(j.text)\n",
    "    \n",
    "        \n",
    "h_title"
   ]
  },
  {
   "cell_type": "code",
   "execution_count": 114,
   "metadata": {},
   "outputs": [
    {
     "data": {
      "text/plain": [
       "['Someshwarwadi, Pashan, Pune, Maharashtra, INDIA',\n",
       " 'Saidatta Residency\\xa0 , Opp Prime Rose Mall,, 9, Baner Rd, Baner, Pune, Maharashtra 411045, India',\n",
       " 'Sus road, Baner, Pune',\n",
       " 'Jai Bhavani Nagar, Near Sri Ahobila Muth Sri Balaji Mandir',\n",
       " 'Shree Balaji Infinity\\xa0 S No 143/2 and 6, Baner, Pune, Maharashtra, INDIA.',\n",
       " 'Suyog Pearl\\xa0 Hadapsar, Pune, Maharashtra, INDIA.',\n",
       " 'Viman Nagar, Pune-411014, Maharashtra, INDIA. ',\n",
       " 'Aditya Green Zone\\xa0 57, Mohan Nagar Co-Op Society, Baner,',\n",
       " 'Pashan Hwy Side Road, Mohan Nagar Co-Op Society, Baner, Pune, Maharashtra, INDIA.',\n",
       " 'Baner, Pune, Maharashtra 411045, India']"
      ]
     },
     "execution_count": 114,
     "metadata": {},
     "output_type": "execute_result"
    }
   ],
   "source": [
    "h_loc = []\n",
    "\n",
    "for i in all_nb:\n",
    "    for j in i.find_all(\"div\",class_='nb__2EXTx'):\n",
    "        h_loc.append(j.text)\n",
    "    \n",
    "        \n",
    "h_loc"
   ]
  },
  {
   "cell_type": "code",
   "execution_count": 115,
   "metadata": {},
   "outputs": [
    {
     "data": {
      "text/plain": [
       "['1,450 sqft',\n",
       " '₹1,00,000',\n",
       " '₹ 26,000No Extra Maintenance',\n",
       " '1,475 sqft',\n",
       " '₹70,000',\n",
       " '₹ 28,000No Extra Maintenance',\n",
       " '780 sqft',\n",
       " '₹60,000',\n",
       " '₹ 16,500No Extra Maintenance',\n",
       " '1,150 sqft',\n",
       " '₹50,000',\n",
       " '₹ 18,000No Extra Maintenance',\n",
       " '1,700 sqft',\n",
       " '₹80,000',\n",
       " '₹ 31,000 +₹ 5,000 Maintenance',\n",
       " '1,000 sqft',\n",
       " '₹50,000',\n",
       " '₹ 30,000No Extra Maintenance',\n",
       " '1,200 sqft',\n",
       " '₹84,000',\n",
       " '₹ 29,000No Extra Maintenance',\n",
       " '1,015 sqft',\n",
       " '₹60,000',\n",
       " '₹ 20,000No Extra Maintenance',\n",
       " '904 sqft',\n",
       " '₹50,000',\n",
       " '₹ 20,000No Extra Maintenance',\n",
       " '940 sqft',\n",
       " '₹50,000',\n",
       " '₹ 23,000No Extra Maintenance']"
      ]
     },
     "execution_count": 115,
     "metadata": {},
     "output_type": "execute_result"
    }
   ],
   "source": [
    "h_info = []\n",
    "\n",
    "for i in all_nb:\n",
    "    for j in i.find_all(\"div\",class_='font-semi-bold heading-6'):\n",
    "        h_info.append(j.text)\n",
    "    \n",
    "        \n",
    "h_info"
   ]
  },
  {
   "cell_type": "code",
   "execution_count": 116,
   "metadata": {},
   "outputs": [
    {
     "data": {
      "text/plain": [
       "['1,450 sqft',\n",
       " '1,475 sqft',\n",
       " '780 sqft',\n",
       " '1,150 sqft',\n",
       " '1,700 sqft',\n",
       " '1,000 sqft',\n",
       " '1,200 sqft',\n",
       " '1,015 sqft',\n",
       " '904 sqft',\n",
       " '940 sqft']"
      ]
     },
     "execution_count": 116,
     "metadata": {},
     "output_type": "execute_result"
    }
   ],
   "source": [
    "h_area = []\n",
    "for i in range(0,len(h_info),3):\n",
    "    h_area.append(h_info[i])\n",
    "h_area"
   ]
  },
  {
   "cell_type": "code",
   "execution_count": 117,
   "metadata": {},
   "outputs": [
    {
     "data": {
      "text/plain": [
       "['₹1,00,000',\n",
       " '₹70,000',\n",
       " '₹60,000',\n",
       " '₹50,000',\n",
       " '₹80,000',\n",
       " '₹50,000',\n",
       " '₹84,000',\n",
       " '₹60,000',\n",
       " '₹50,000',\n",
       " '₹50,000']"
      ]
     },
     "execution_count": 117,
     "metadata": {},
     "output_type": "execute_result"
    }
   ],
   "source": [
    "h_deposit = []\n",
    "for i in range(1,len(h_info),3):\n",
    "    h_deposit.append(h_info[i])\n",
    "h_deposit"
   ]
  },
  {
   "cell_type": "code",
   "execution_count": 118,
   "metadata": {},
   "outputs": [
    {
     "data": {
      "text/plain": [
       "['₹ 26,000No Extra Maintenance',\n",
       " '₹ 28,000No Extra Maintenance',\n",
       " '₹ 16,500No Extra Maintenance',\n",
       " '₹ 18,000No Extra Maintenance',\n",
       " '₹ 31,000 +₹ 5,000 Maintenance',\n",
       " '₹ 30,000No Extra Maintenance',\n",
       " '₹ 29,000No Extra Maintenance',\n",
       " '₹ 20,000No Extra Maintenance',\n",
       " '₹ 20,000No Extra Maintenance',\n",
       " '₹ 23,000No Extra Maintenance']"
      ]
     },
     "execution_count": 118,
     "metadata": {},
     "output_type": "execute_result"
    }
   ],
   "source": [
    "h_rent = []\n",
    "for i in range(2,len(h_info),3):\n",
    "    h_rent.append(h_info[i])\n",
    "h_rent"
   ]
  },
  {
   "cell_type": "code",
   "execution_count": 119,
   "metadata": {},
   "outputs": [],
   "source": [
    "h_rent = [w.replace('No Extra Maintenance', '') for w in h_rent]"
   ]
  },
  {
   "cell_type": "code",
   "execution_count": 120,
   "metadata": {},
   "outputs": [
    {
     "data": {
      "text/plain": [
       "['₹ 26,000',\n",
       " '₹ 28,000',\n",
       " '₹ 16,500',\n",
       " '₹ 18,000',\n",
       " '₹ 31,000 +₹ 5,000 Maintenance',\n",
       " '₹ 30,000',\n",
       " '₹ 29,000',\n",
       " '₹ 20,000',\n",
       " '₹ 20,000',\n",
       " '₹ 23,000']"
      ]
     },
     "execution_count": 120,
     "metadata": {},
     "output_type": "execute_result"
    }
   ],
   "source": [
    "h_rent"
   ]
  },
  {
   "cell_type": "code",
   "execution_count": 121,
   "metadata": {},
   "outputs": [],
   "source": [
    "nb_df = pd.DataFrame({})\n",
    "nb_df['House Title'] = h_title\n",
    "nb_df['Location'] = h_loc\n",
    "nb_df['Area'] = h_area\n",
    "nb_df['EMI'] = h_rent\n",
    "nb_df['Price'] = h_deposit"
   ]
  },
  {
   "cell_type": "code",
   "execution_count": 122,
   "metadata": {},
   "outputs": [
    {
     "data": {
      "text/html": [
       "<div>\n",
       "<style scoped>\n",
       "    .dataframe tbody tr th:only-of-type {\n",
       "        vertical-align: middle;\n",
       "    }\n",
       "\n",
       "    .dataframe tbody tr th {\n",
       "        vertical-align: top;\n",
       "    }\n",
       "\n",
       "    .dataframe thead th {\n",
       "        text-align: right;\n",
       "    }\n",
       "</style>\n",
       "<table border=\"1\" class=\"dataframe\">\n",
       "  <thead>\n",
       "    <tr style=\"text-align: right;\">\n",
       "      <th></th>\n",
       "      <th>House Title</th>\n",
       "      <th>Location</th>\n",
       "      <th>Area</th>\n",
       "      <th>EMI</th>\n",
       "      <th>Price</th>\n",
       "    </tr>\n",
       "  </thead>\n",
       "  <tbody>\n",
       "    <tr>\n",
       "      <th>0</th>\n",
       "      <td>2 BHK Flat  For Rent  In Nikash Skies Chs In P...</td>\n",
       "      <td>Someshwarwadi, Pashan, Pune, Maharashtra, INDIA</td>\n",
       "      <td>1,450 sqft</td>\n",
       "      <td>₹ 26,000</td>\n",
       "      <td>₹1,00,000</td>\n",
       "    </tr>\n",
       "    <tr>\n",
       "      <th>1</th>\n",
       "      <td>3 BHK Apartment  For Rent  In Saidatta Residen...</td>\n",
       "      <td>Saidatta Residency  , Opp Prime Rose Mall,, 9,...</td>\n",
       "      <td>1,475 sqft</td>\n",
       "      <td>₹ 28,000</td>\n",
       "      <td>₹70,000</td>\n",
       "    </tr>\n",
       "    <tr>\n",
       "      <th>2</th>\n",
       "      <td>1 BHK Flat  For Rent  In Fortune Mirador In Ba...</td>\n",
       "      <td>Sus road, Baner, Pune</td>\n",
       "      <td>780 sqft</td>\n",
       "      <td>₹ 16,500</td>\n",
       "      <td>₹60,000</td>\n",
       "    </tr>\n",
       "    <tr>\n",
       "      <th>3</th>\n",
       "      <td>2 BHK Flat  For Rent  In Sai Shwet Apartments ...</td>\n",
       "      <td>Jai Bhavani Nagar, Near Sri Ahobila Muth Sri B...</td>\n",
       "      <td>1,150 sqft</td>\n",
       "      <td>₹ 18,000</td>\n",
       "      <td>₹50,000</td>\n",
       "    </tr>\n",
       "    <tr>\n",
       "      <th>4</th>\n",
       "      <td>3 BHK Apartment  For Rent  In Shree Balaji Inf...</td>\n",
       "      <td>Shree Balaji Infinity  S No 143/2 and 6, Baner...</td>\n",
       "      <td>1,700 sqft</td>\n",
       "      <td>₹ 31,000 +₹ 5,000 Maintenance</td>\n",
       "      <td>₹80,000</td>\n",
       "    </tr>\n",
       "    <tr>\n",
       "      <th>5</th>\n",
       "      <td>2 BHK Apartment  For Rent  In Suyog Pearl In S...</td>\n",
       "      <td>Suyog Pearl  Hadapsar, Pune, Maharashtra, INDIA.</td>\n",
       "      <td>1,000 sqft</td>\n",
       "      <td>₹ 30,000</td>\n",
       "      <td>₹50,000</td>\n",
       "    </tr>\n",
       "    <tr>\n",
       "      <th>6</th>\n",
       "      <td>3 BHK Flat  For Rent  In Neco Gardens In Viman...</td>\n",
       "      <td>Viman Nagar, Pune-411014, Maharashtra, INDIA.</td>\n",
       "      <td>1,200 sqft</td>\n",
       "      <td>₹ 29,000</td>\n",
       "      <td>₹84,000</td>\n",
       "    </tr>\n",
       "    <tr>\n",
       "      <th>7</th>\n",
       "      <td>2 BHK Apartment  For Rent  In Aditya Green Zon...</td>\n",
       "      <td>Aditya Green Zone  57, Mohan Nagar Co-Op Socie...</td>\n",
       "      <td>1,015 sqft</td>\n",
       "      <td>₹ 20,000</td>\n",
       "      <td>₹60,000</td>\n",
       "    </tr>\n",
       "    <tr>\n",
       "      <th>8</th>\n",
       "      <td>2 BHK Flat  For Rent  In Achalare Tierra Viva ...</td>\n",
       "      <td>Pashan Hwy Side Road, Mohan Nagar Co-Op Societ...</td>\n",
       "      <td>904 sqft</td>\n",
       "      <td>₹ 20,000</td>\n",
       "      <td>₹50,000</td>\n",
       "    </tr>\n",
       "    <tr>\n",
       "      <th>9</th>\n",
       "      <td>2 BHK Flat  For Rent  In Bhagwati Iris In Baner</td>\n",
       "      <td>Baner, Pune, Maharashtra 411045, India</td>\n",
       "      <td>940 sqft</td>\n",
       "      <td>₹ 23,000</td>\n",
       "      <td>₹50,000</td>\n",
       "    </tr>\n",
       "  </tbody>\n",
       "</table>\n",
       "</div>"
      ],
      "text/plain": [
       "                                         House Title  \\\n",
       "0  2 BHK Flat  For Rent  In Nikash Skies Chs In P...   \n",
       "1  3 BHK Apartment  For Rent  In Saidatta Residen...   \n",
       "2  1 BHK Flat  For Rent  In Fortune Mirador In Ba...   \n",
       "3  2 BHK Flat  For Rent  In Sai Shwet Apartments ...   \n",
       "4  3 BHK Apartment  For Rent  In Shree Balaji Inf...   \n",
       "5  2 BHK Apartment  For Rent  In Suyog Pearl In S...   \n",
       "6  3 BHK Flat  For Rent  In Neco Gardens In Viman...   \n",
       "7  2 BHK Apartment  For Rent  In Aditya Green Zon...   \n",
       "8  2 BHK Flat  For Rent  In Achalare Tierra Viva ...   \n",
       "9   2 BHK Flat  For Rent  In Bhagwati Iris In Baner    \n",
       "\n",
       "                                            Location        Area  \\\n",
       "0    Someshwarwadi, Pashan, Pune, Maharashtra, INDIA  1,450 sqft   \n",
       "1  Saidatta Residency  , Opp Prime Rose Mall,, 9,...  1,475 sqft   \n",
       "2                              Sus road, Baner, Pune    780 sqft   \n",
       "3  Jai Bhavani Nagar, Near Sri Ahobila Muth Sri B...  1,150 sqft   \n",
       "4  Shree Balaji Infinity  S No 143/2 and 6, Baner...  1,700 sqft   \n",
       "5   Suyog Pearl  Hadapsar, Pune, Maharashtra, INDIA.  1,000 sqft   \n",
       "6     Viman Nagar, Pune-411014, Maharashtra, INDIA.   1,200 sqft   \n",
       "7  Aditya Green Zone  57, Mohan Nagar Co-Op Socie...  1,015 sqft   \n",
       "8  Pashan Hwy Side Road, Mohan Nagar Co-Op Societ...    904 sqft   \n",
       "9             Baner, Pune, Maharashtra 411045, India    940 sqft   \n",
       "\n",
       "                             EMI      Price  \n",
       "0                       ₹ 26,000  ₹1,00,000  \n",
       "1                       ₹ 28,000    ₹70,000  \n",
       "2                       ₹ 16,500    ₹60,000  \n",
       "3                       ₹ 18,000    ₹50,000  \n",
       "4  ₹ 31,000 +₹ 5,000 Maintenance    ₹80,000  \n",
       "5                       ₹ 30,000    ₹50,000  \n",
       "6                       ₹ 29,000    ₹84,000  \n",
       "7                       ₹ 20,000    ₹60,000  \n",
       "8                       ₹ 20,000    ₹50,000  \n",
       "9                       ₹ 23,000    ₹50,000  "
      ]
     },
     "execution_count": 122,
     "metadata": {},
     "output_type": "execute_result"
    }
   ],
   "source": [
    "nb_df"
   ]
  },
  {
   "cell_type": "markdown",
   "metadata": {},
   "source": [
    "## This is end of question 10 and the assignemnt."
   ]
  }
 ],
 "metadata": {
  "kernelspec": {
   "display_name": "Python 3",
   "language": "python",
   "name": "python3"
  },
  "language_info": {
   "codemirror_mode": {
    "name": "ipython",
    "version": 3
   },
   "file_extension": ".py",
   "mimetype": "text/x-python",
   "name": "python",
   "nbconvert_exporter": "python",
   "pygments_lexer": "ipython3",
   "version": "3.8.5"
  }
 },
 "nbformat": 4,
 "nbformat_minor": 4
}
