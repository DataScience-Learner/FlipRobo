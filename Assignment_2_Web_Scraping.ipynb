{
 "cells": [
  {
   "cell_type": "markdown",
   "metadata": {},
   "source": [
    "## Web scraping assignment 2\n",
    "\n",
    "Question-1"
   ]
  },
  {
   "cell_type": "code",
   "execution_count": 1,
   "metadata": {},
   "outputs": [],
   "source": [
    "from selenium import webdriver\n",
    "from selenium.webdriver.common.keys import Keys\n",
    "import time\n",
    "import pandas as pd # Importing the required libraries"
   ]
  },
  {
   "cell_type": "code",
   "execution_count": 2,
   "metadata": {},
   "outputs": [],
   "source": [
    "PATH = \"C:\\Program Files (x86)\\chromedriver.exe\" # Defining path"
   ]
  },
  {
   "cell_type": "code",
   "execution_count": 3,
   "metadata": {},
   "outputs": [],
   "source": [
    "driver = webdriver.Chrome(PATH)\n",
    "driver.get(\"https://www.naukri.com/\")\n",
    "\n",
    "driver.implicitly_wait(3)\n",
    "\n",
    "search_pos = driver.find_element_by_id('qsb-keyword-sugg')\n",
    "search_loc = driver.find_element_by_id('qsb-location-sugg')\n",
    "search_but =  driver.find_element_by_class_name('search-btn')\n",
    "# Locating and assigning the search buttons"
   ]
  },
  {
   "cell_type": "markdown",
   "metadata": {},
   "source": [
    "I have defined the required buttons/ text fields which will be required here."
   ]
  },
  {
   "cell_type": "code",
   "execution_count": 4,
   "metadata": {},
   "outputs": [],
   "source": [
    "search_pos.send_keys('Data Analyst')\n",
    "search_loc.send_keys('Bangalore')\n",
    "search_but.click()\n",
    "#sending the required data "
   ]
  },
  {
   "cell_type": "markdown",
   "metadata": {},
   "source": [
    "Now we enter the data as requested in Q1. and send the request."
   ]
  },
  {
   "cell_type": "code",
   "execution_count": 5,
   "metadata": {},
   "outputs": [],
   "source": [
    "job_title = []\n",
    "job_loc = []\n",
    "job_comp = []\n",
    "job_exp = []"
   ]
  },
  {
   "cell_type": "markdown",
   "metadata": {},
   "source": [
    "Empty lists for future data collection.\n"
   ]
  },
  {
   "cell_type": "code",
   "execution_count": 6,
   "metadata": {},
   "outputs": [],
   "source": [
    "time.sleep(3)\n",
    "titles = driver.find_elements_by_xpath(\"//a[@class='title fw500 ellipsis']\")\n",
    "locs = driver.find_elements_by_xpath(\"//li[@class='fleft grey-text br2 placeHolderLi location']/span\")\n",
    "comps = driver.find_elements_by_xpath(\"//a[@class='subTitle ellipsis fleft']\")\n",
    "exps = driver.find_elements_by_xpath(\"//li[@class='fleft grey-text br2 placeHolderLi experience']/span\")\n",
    "# these are the components we need to fetch\n"
   ]
  },
  {
   "cell_type": "code",
   "execution_count": 7,
   "metadata": {},
   "outputs": [],
   "source": [
    "for title in titles:\n",
    "    if title.text is None:\n",
    "        job_title.append('-') \n",
    "    else:\n",
    "        job_title.append(title.text)\n",
    "\n",
    "        \n",
    "for loc in locs:\n",
    "    if loc.text is None:\n",
    "        job_loc.append('-')\n",
    "    else:\n",
    "        job_loc.append(loc.text)\n",
    "\n",
    "\n",
    "for comp in comps:\n",
    "    if comp.text is None:\n",
    "        job_comp.append('-')\n",
    "    else: \n",
    "        job_comp.append(comp.text)           \n",
    "        \n",
    "for exp in exps:\n",
    "    if exp.text is None:\n",
    "        job_exp.append('-')\n",
    "    else:\n",
    "        job_exp.append(exp.text)\n",
    "\n",
    "# For loop for iterating through all variables and assigning them"
   ]
  },
  {
   "cell_type": "code",
   "execution_count": 8,
   "metadata": {},
   "outputs": [],
   "source": [
    "job_title = job_title[:10]\n",
    "job_loc = job_loc[:10]\n",
    "job_comp= job_comp[:10]\n",
    "job_exp = job_exp[:10]\n",
    "\n",
    "#truncating the list"
   ]
  },
  {
   "cell_type": "code",
   "execution_count": 9,
   "metadata": {},
   "outputs": [
    {
     "data": {
      "text/html": [
       "<div>\n",
       "<style scoped>\n",
       "    .dataframe tbody tr th:only-of-type {\n",
       "        vertical-align: middle;\n",
       "    }\n",
       "\n",
       "    .dataframe tbody tr th {\n",
       "        vertical-align: top;\n",
       "    }\n",
       "\n",
       "    .dataframe thead th {\n",
       "        text-align: right;\n",
       "    }\n",
       "</style>\n",
       "<table border=\"1\" class=\"dataframe\">\n",
       "  <thead>\n",
       "    <tr style=\"text-align: right;\">\n",
       "      <th></th>\n",
       "      <th>Job title</th>\n",
       "      <th>Location</th>\n",
       "      <th>Company name</th>\n",
       "      <th>Experience required</th>\n",
       "    </tr>\n",
       "  </thead>\n",
       "  <tbody>\n",
       "    <tr>\n",
       "      <th>0</th>\n",
       "      <td>Senior Data Analyst - Einstein Analytics</td>\n",
       "      <td>Hyderabad/Secunderabad, Bangalore/Bengaluru</td>\n",
       "      <td>Enquero</td>\n",
       "      <td>3-5 Yrs</td>\n",
       "    </tr>\n",
       "    <tr>\n",
       "      <th>1</th>\n",
       "      <td>Data Analyst - 0-2 years (6 month contract)</td>\n",
       "      <td>New Delhi, Gurgaon/Gurugram, Chennai, Bangalor...</td>\n",
       "      <td>NIUM INDIA PRIVATE LIMITED</td>\n",
       "      <td>0-2 Yrs</td>\n",
       "    </tr>\n",
       "    <tr>\n",
       "      <th>2</th>\n",
       "      <td>Data Analyst</td>\n",
       "      <td>(WFH during Covid)</td>\n",
       "      <td>CAREERLABS TECHNOLOGIES PRIVATE LIMITED</td>\n",
       "      <td>0-3 Yrs</td>\n",
       "    </tr>\n",
       "    <tr>\n",
       "      <th>3</th>\n",
       "      <td>Data Analyst</td>\n",
       "      <td>Bangalore/Bengaluru</td>\n",
       "      <td>Tata Consultancy Services Ltd.</td>\n",
       "      <td>4-8 Yrs</td>\n",
       "    </tr>\n",
       "    <tr>\n",
       "      <th>4</th>\n",
       "      <td>Senior Data Analyst</td>\n",
       "      <td>(WFH during Covid)</td>\n",
       "      <td>Nx-DT</td>\n",
       "      <td>10-16 Yrs</td>\n",
       "    </tr>\n",
       "    <tr>\n",
       "      <th>5</th>\n",
       "      <td>SQL Data Analyst</td>\n",
       "      <td>Pune, Chennai, Bangalore/Bengaluru</td>\n",
       "      <td>NetApp</td>\n",
       "      <td>3-7 Yrs</td>\n",
       "    </tr>\n",
       "    <tr>\n",
       "      <th>6</th>\n",
       "      <td>Senior Business Analyst- Data Science</td>\n",
       "      <td>Hyderabad/Secunderabad, Pune, Bangalore/Bengaluru</td>\n",
       "      <td>Evalueserve.com Pvt. Ltd</td>\n",
       "      <td>2-7 Yrs</td>\n",
       "    </tr>\n",
       "    <tr>\n",
       "      <th>7</th>\n",
       "      <td>Data Analyst</td>\n",
       "      <td>(WFH during Covid)</td>\n",
       "      <td>Allegis Services India Pvt. Ltd.</td>\n",
       "      <td>3-5 Yrs</td>\n",
       "    </tr>\n",
       "    <tr>\n",
       "      <th>8</th>\n",
       "      <td>Business/Data Analyst - Colleague Experience &amp;...</td>\n",
       "      <td>Bangalore/Bengaluru</td>\n",
       "      <td>Vmware</td>\n",
       "      <td>3-8 Yrs</td>\n",
       "    </tr>\n",
       "    <tr>\n",
       "      <th>9</th>\n",
       "      <td>Senior Data Analyst</td>\n",
       "      <td>Bangalore/Bengaluru(Whitefield)</td>\n",
       "      <td>Telstra India Pvt Ltd</td>\n",
       "      <td>7-8 Yrs</td>\n",
       "    </tr>\n",
       "  </tbody>\n",
       "</table>\n",
       "</div>"
      ],
      "text/plain": [
       "                                           Job title  \\\n",
       "0           Senior Data Analyst - Einstein Analytics   \n",
       "1        Data Analyst - 0-2 years (6 month contract)   \n",
       "2                                       Data Analyst   \n",
       "3                                       Data Analyst   \n",
       "4                                Senior Data Analyst   \n",
       "5                                   SQL Data Analyst   \n",
       "6              Senior Business Analyst- Data Science   \n",
       "7                                       Data Analyst   \n",
       "8  Business/Data Analyst - Colleague Experience &...   \n",
       "9                                Senior Data Analyst   \n",
       "\n",
       "                                            Location  \\\n",
       "0        Hyderabad/Secunderabad, Bangalore/Bengaluru   \n",
       "1  New Delhi, Gurgaon/Gurugram, Chennai, Bangalor...   \n",
       "2                                 (WFH during Covid)   \n",
       "3                                Bangalore/Bengaluru   \n",
       "4                                 (WFH during Covid)   \n",
       "5                 Pune, Chennai, Bangalore/Bengaluru   \n",
       "6  Hyderabad/Secunderabad, Pune, Bangalore/Bengaluru   \n",
       "7                                 (WFH during Covid)   \n",
       "8                                Bangalore/Bengaluru   \n",
       "9                    Bangalore/Bengaluru(Whitefield)   \n",
       "\n",
       "                              Company name Experience required  \n",
       "0                                  Enquero             3-5 Yrs  \n",
       "1               NIUM INDIA PRIVATE LIMITED             0-2 Yrs  \n",
       "2  CAREERLABS TECHNOLOGIES PRIVATE LIMITED             0-3 Yrs  \n",
       "3           Tata Consultancy Services Ltd.             4-8 Yrs  \n",
       "4                                    Nx-DT           10-16 Yrs  \n",
       "5                                   NetApp             3-7 Yrs  \n",
       "6                 Evalueserve.com Pvt. Ltd             2-7 Yrs  \n",
       "7         Allegis Services India Pvt. Ltd.             3-5 Yrs  \n",
       "8                                   Vmware             3-8 Yrs  \n",
       "9                    Telstra India Pvt Ltd             7-8 Yrs  "
      ]
     },
     "execution_count": 9,
     "metadata": {},
     "output_type": "execute_result"
    }
   ],
   "source": [
    "jbb_df = pd.DataFrame({})\n",
    "jbb_df['Job title'] = job_title\n",
    "jbb_df['Location'] = job_loc\n",
    "jbb_df['Company name'] = job_comp\n",
    "jbb_df['Experience required'] = job_exp\n",
    "\n",
    "jbb_df\n",
    "\n",
    "#Data frame and print\n"
   ]
  },
  {
   "cell_type": "code",
   "execution_count": 10,
   "metadata": {},
   "outputs": [],
   "source": [
    "time.sleep(5)\n",
    "driver.quit()\n"
   ]
  },
  {
   "cell_type": "markdown",
   "metadata": {},
   "source": [
    "## End of question-1 and begining of question-2"
   ]
  },
  {
   "cell_type": "code",
   "execution_count": 11,
   "metadata": {},
   "outputs": [],
   "source": [
    "from selenium import webdriver\n",
    "from selenium.webdriver.common.keys import Keys\n",
    "import time\n",
    "import pandas as pd\n",
    "import time   \n",
    "from selenium.common.exceptions import NoSuchElementException #importing the required libraries"
   ]
  },
  {
   "cell_type": "code",
   "execution_count": 12,
   "metadata": {},
   "outputs": [],
   "source": [
    "PATH = \"C:\\Program Files (x86)\\chromedriver.exe\""
   ]
  },
  {
   "cell_type": "code",
   "execution_count": 13,
   "metadata": {},
   "outputs": [],
   "source": [
    "driver = webdriver.Chrome(PATH)\n",
    "driver.get(\"https://www.naukri.com/\")\n",
    "\n",
    "time.sleep(3)\n",
    "\n",
    "search_pos = driver.find_element_by_id('qsb-keyword-sugg')\n",
    "search_loc = driver.find_element_by_id('qsb-location-sugg')\n",
    "search_but =  driver.find_element_by_class_name('search-btn')\n",
    "#locating the search field and buttons"
   ]
  },
  {
   "cell_type": "code",
   "execution_count": 14,
   "metadata": {},
   "outputs": [],
   "source": [
    "search_pos.send_keys('Data Science')\n",
    "search_loc.send_keys('Bangalore')\n",
    "search_but.click()\n",
    "time.sleep(3)\n",
    "#sending the required data and pressing enter"
   ]
  },
  {
   "cell_type": "code",
   "execution_count": 15,
   "metadata": {},
   "outputs": [],
   "source": [
    "titles = driver.find_elements_by_xpath(\"//a[@class='title fw500 ellipsis']\")\n",
    "locs = driver.find_elements_by_xpath(\"//li[@class='fleft grey-text br2 placeHolderLi location']/span\")\n",
    "comps = driver.find_elements_by_xpath(\"//a[@class='subTitle ellipsis fleft']\")\n",
    "#These are the attributes we need"
   ]
  },
  {
   "cell_type": "code",
   "execution_count": 16,
   "metadata": {},
   "outputs": [],
   "source": [
    "job_title = []\n",
    "for title in titles:\n",
    "    if title.text is None:\n",
    "        job_title.append('-') \n",
    "    else:\n",
    "        job_title.append(title.text)\n",
    "\n",
    "        \n",
    "job_loc = []\n",
    "for loc in locs:\n",
    "    if loc.text is None:\n",
    "        job_loc.append('-')\n",
    "    else:\n",
    "        job_loc.append(loc.text)\n",
    "\n",
    "\n",
    "job_comp = []\n",
    "for comp in comps:\n",
    "    if comp.text is None:\n",
    "        job_comp.append('-')\n",
    "    else: \n",
    "        job_comp.append(comp.text)           \n",
    "        \n",
    "job_desc = []\n",
    "\n",
    "#For loop for iterating though all variable and create a list\n"
   ]
  },
  {
   "cell_type": "code",
   "execution_count": 17,
   "metadata": {},
   "outputs": [],
   "source": [
    "urls = []\n",
    "for url in titles:\n",
    "    urls.append(url.get_attribute('href'))          \n",
    "#getting the urls from the title ising href attribute    \n",
    "    "
   ]
  },
  {
   "cell_type": "code",
   "execution_count": 18,
   "metadata": {},
   "outputs": [],
   "source": [
    "for link in urls[:10]:\n",
    "    driver.get(link)\n",
    "    time.sleep(3)\n",
    "    try:\n",
    "        desc = driver.find_element_by_xpath(\"//section[@class='job-desc']\")\n",
    "        job_desc.append(desc.text)\n",
    "    except NoSuchElementException:\n",
    "        job_desc.append('-')\n",
    "    \n",
    " # Now we iterate through all the URLs and get the full job description from there       \n",
    "        "
   ]
  },
  {
   "cell_type": "code",
   "execution_count": 19,
   "metadata": {},
   "outputs": [
    {
     "name": "stdout",
     "output_type": "stream",
     "text": [
      "10 10 10 10\n"
     ]
    }
   ],
   "source": [
    "job_title = job_title[:10]\n",
    "job_loc = job_loc[:10]\n",
    "job_comp = job_comp[:10]\n",
    "print(len(job_title),len(job_loc),len(job_comp),len(job_desc))\n",
    "\n",
    "#truncating the list"
   ]
  },
  {
   "cell_type": "code",
   "execution_count": 20,
   "metadata": {},
   "outputs": [
    {
     "data": {
      "text/html": [
       "<div>\n",
       "<style scoped>\n",
       "    .dataframe tbody tr th:only-of-type {\n",
       "        vertical-align: middle;\n",
       "    }\n",
       "\n",
       "    .dataframe tbody tr th {\n",
       "        vertical-align: top;\n",
       "    }\n",
       "\n",
       "    .dataframe thead th {\n",
       "        text-align: right;\n",
       "    }\n",
       "</style>\n",
       "<table border=\"1\" class=\"dataframe\">\n",
       "  <thead>\n",
       "    <tr style=\"text-align: right;\">\n",
       "      <th></th>\n",
       "      <th>Job title</th>\n",
       "      <th>Location</th>\n",
       "      <th>Company name</th>\n",
       "      <th>Full job descrpiton</th>\n",
       "    </tr>\n",
       "  </thead>\n",
       "  <tbody>\n",
       "    <tr>\n",
       "      <th>0</th>\n",
       "      <td>Senior Business Analyst- Data Science</td>\n",
       "      <td>Bangalore/Bengaluru(Whitefield)</td>\n",
       "      <td>Evalueserve.com Pvt. Ltd</td>\n",
       "      <td>Job description\\nRoles and Responsibilities\\n\\...</td>\n",
       "    </tr>\n",
       "    <tr>\n",
       "      <th>1</th>\n",
       "      <td>PROJECT MANAGER - DATA SCIENCE - CONSUMER</td>\n",
       "      <td>Bangalore/Bengaluru</td>\n",
       "      <td>BRIDGEi2i Analytics Solutions Private Limited</td>\n",
       "      <td>Job description\\nThe role will involve taking ...</td>\n",
       "    </tr>\n",
       "    <tr>\n",
       "      <th>2</th>\n",
       "      <td>Data Science Engineer</td>\n",
       "      <td>Bangalore/Bengaluru</td>\n",
       "      <td>IBM India Pvt. Limited</td>\n",
       "      <td>-</td>\n",
       "    </tr>\n",
       "    <tr>\n",
       "      <th>3</th>\n",
       "      <td>Senior Data Scientist / Tech Lead - Data Science</td>\n",
       "      <td>Bangalore/Bengaluru, Delhi / NCR</td>\n",
       "      <td>Confidential</td>\n",
       "      <td>Job description\\nResponsibilities -\\nLead a te...</td>\n",
       "    </tr>\n",
       "    <tr>\n",
       "      <th>4</th>\n",
       "      <td>Sr Manager Data Science</td>\n",
       "      <td>Bangalore/Bengaluru</td>\n",
       "      <td>Superior Group</td>\n",
       "      <td>Job description\\n\\nResponsible for leading the...</td>\n",
       "    </tr>\n",
       "    <tr>\n",
       "      <th>5</th>\n",
       "      <td>Executive Director - Data Science &amp; Analysis</td>\n",
       "      <td>Bangalore/Bengaluru</td>\n",
       "      <td>ExecBoardinAsia</td>\n",
       "      <td>Job description\\nFraud &amp; Cyber Analytics is lo...</td>\n",
       "    </tr>\n",
       "    <tr>\n",
       "      <th>6</th>\n",
       "      <td>Opening For Data Science Trainer @ITvedant- Mu...</td>\n",
       "      <td>Thane, Bangalore/Bengaluru, Mumbai (All Areas)</td>\n",
       "      <td>ITVEDANT EDUCATION PRIVATE LIMITED</td>\n",
       "      <td>Job description\\nPosition - IT Trainer\\n\\nJob ...</td>\n",
       "    </tr>\n",
       "    <tr>\n",
       "      <th>7</th>\n",
       "      <td>Transformational opportunity in Data Science a...</td>\n",
       "      <td>Noida, Indore, Gurgaon/Gurugram, Bangalore/Ben...</td>\n",
       "      <td>Impetus Technologies India Pvt. Ltd</td>\n",
       "      <td>-</td>\n",
       "    </tr>\n",
       "    <tr>\n",
       "      <th>8</th>\n",
       "      <td>Associate Director/ Director- Data Science &amp; B...</td>\n",
       "      <td>(WFH during Covid)</td>\n",
       "      <td>BYJU'S</td>\n",
       "      <td>Job description\\nOrganization overview (top II...</td>\n",
       "    </tr>\n",
       "    <tr>\n",
       "      <th>9</th>\n",
       "      <td>Data Science Engineer</td>\n",
       "      <td>Gurgaon/Gurugram, Bangalore/Bengaluru, Mumbai ...</td>\n",
       "      <td>IBM India Pvt. Limited</td>\n",
       "      <td>-</td>\n",
       "    </tr>\n",
       "  </tbody>\n",
       "</table>\n",
       "</div>"
      ],
      "text/plain": [
       "                                           Job title  \\\n",
       "0              Senior Business Analyst- Data Science   \n",
       "1          PROJECT MANAGER - DATA SCIENCE - CONSUMER   \n",
       "2                              Data Science Engineer   \n",
       "3   Senior Data Scientist / Tech Lead - Data Science   \n",
       "4                            Sr Manager Data Science   \n",
       "5       Executive Director - Data Science & Analysis   \n",
       "6  Opening For Data Science Trainer @ITvedant- Mu...   \n",
       "7  Transformational opportunity in Data Science a...   \n",
       "8  Associate Director/ Director- Data Science & B...   \n",
       "9                              Data Science Engineer   \n",
       "\n",
       "                                            Location  \\\n",
       "0                    Bangalore/Bengaluru(Whitefield)   \n",
       "1                                Bangalore/Bengaluru   \n",
       "2                                Bangalore/Bengaluru   \n",
       "3                   Bangalore/Bengaluru, Delhi / NCR   \n",
       "4                                Bangalore/Bengaluru   \n",
       "5                                Bangalore/Bengaluru   \n",
       "6     Thane, Bangalore/Bengaluru, Mumbai (All Areas)   \n",
       "7  Noida, Indore, Gurgaon/Gurugram, Bangalore/Ben...   \n",
       "8                                 (WFH during Covid)   \n",
       "9  Gurgaon/Gurugram, Bangalore/Bengaluru, Mumbai ...   \n",
       "\n",
       "                                    Company name  \\\n",
       "0                       Evalueserve.com Pvt. Ltd   \n",
       "1  BRIDGEi2i Analytics Solutions Private Limited   \n",
       "2                         IBM India Pvt. Limited   \n",
       "3                                   Confidential   \n",
       "4                                 Superior Group   \n",
       "5                                ExecBoardinAsia   \n",
       "6             ITVEDANT EDUCATION PRIVATE LIMITED   \n",
       "7            Impetus Technologies India Pvt. Ltd   \n",
       "8                                         BYJU'S   \n",
       "9                         IBM India Pvt. Limited   \n",
       "\n",
       "                                 Full job descrpiton  \n",
       "0  Job description\\nRoles and Responsibilities\\n\\...  \n",
       "1  Job description\\nThe role will involve taking ...  \n",
       "2                                                  -  \n",
       "3  Job description\\nResponsibilities -\\nLead a te...  \n",
       "4  Job description\\n\\nResponsible for leading the...  \n",
       "5  Job description\\nFraud & Cyber Analytics is lo...  \n",
       "6  Job description\\nPosition - IT Trainer\\n\\nJob ...  \n",
       "7                                                  -  \n",
       "8  Job description\\nOrganization overview (top II...  \n",
       "9                                                  -  "
      ]
     },
     "execution_count": 20,
     "metadata": {},
     "output_type": "execute_result"
    }
   ],
   "source": [
    "jb_df = pd.DataFrame({})\n",
    "jb_df['Job title'] = job_title\n",
    "jb_df['Location'] = job_loc\n",
    "jb_df['Company name'] = job_comp\n",
    "jb_df['Full job descrpiton'] = job_desc\n",
    "\n",
    "jb_df\n",
    "\n",
    "#Data frame and print"
   ]
  },
  {
   "cell_type": "code",
   "execution_count": 21,
   "metadata": {},
   "outputs": [],
   "source": [
    "time.sleep(5)\n",
    "driver.quit()"
   ]
  },
  {
   "cell_type": "markdown",
   "metadata": {},
   "source": [
    "### Beginning of question 3\n"
   ]
  },
  {
   "cell_type": "code",
   "execution_count": 22,
   "metadata": {},
   "outputs": [],
   "source": [
    "from selenium import webdriver\n",
    "from selenium.webdriver.common.keys import Keys\n",
    "import time\n",
    "import pandas as pd\n",
    "import time   \n",
    "from selenium.common.exceptions import NoSuchElementException # Importing required libraries"
   ]
  },
  {
   "cell_type": "code",
   "execution_count": 23,
   "metadata": {},
   "outputs": [],
   "source": [
    "PATH = \"C:\\Program Files (x86)\\chromedriver.exe\""
   ]
  },
  {
   "cell_type": "code",
   "execution_count": 24,
   "metadata": {},
   "outputs": [],
   "source": [
    "driver = webdriver.Chrome(PATH)\n",
    "driver.get(\"https://www.naukri.com/\")\n",
    "\n",
    "time.sleep(3)\n",
    "\n",
    "search_pos = driver.find_element_by_id('qsb-keyword-sugg')\n",
    "search_loc = driver.find_element_by_id('qsb-location-sugg')\n",
    "search_but =  driver.find_element_by_class_name('search-btn')\n",
    "# Locating the required search field and button"
   ]
  },
  {
   "cell_type": "code",
   "execution_count": 25,
   "metadata": {},
   "outputs": [],
   "source": [
    "search_pos.send_keys('Data Science')\n",
    "search_but.click()\n",
    "# Entering data and clicking enter"
   ]
  },
  {
   "cell_type": "code",
   "execution_count": 26,
   "metadata": {},
   "outputs": [],
   "source": [
    "time.sleep(3)\n",
    "driver.find_element_by_xpath(\"//span[@title='Delhi / NCR']\").click()\n",
    "# Now we use the filters to narrow down the search"
   ]
  },
  {
   "cell_type": "code",
   "execution_count": 27,
   "metadata": {},
   "outputs": [],
   "source": [
    "time.sleep(2)\n",
    "driver.find_element_by_xpath(\"//span[@title='3-6 Lakhs']\").click()"
   ]
  },
  {
   "cell_type": "code",
   "execution_count": 28,
   "metadata": {},
   "outputs": [],
   "source": [
    "time.sleep(3)\n",
    "titles = driver.find_elements_by_xpath(\"//a[@class='title fw500 ellipsis']\")\n",
    "locs = driver.find_elements_by_xpath(\"//li[@class='fleft grey-text br2 placeHolderLi location']/span\")\n",
    "comps = driver.find_elements_by_xpath(\"//a[@class='subTitle ellipsis fleft']\")\n",
    "exps = driver.find_elements_by_xpath(\"//li[@class='fleft grey-text br2 placeHolderLi experience']/span\")\n",
    "# After filtering these are the attributes we need"
   ]
  },
  {
   "cell_type": "code",
   "execution_count": 29,
   "metadata": {},
   "outputs": [],
   "source": [
    "job_title = []\n",
    "job_loc = []\n",
    "job_comp= []\n",
    "job_exp = []\n",
    "\n",
    "for title in titles:\n",
    "    if title.text is None:\n",
    "        job_title.append('-') \n",
    "    else:\n",
    "        job_title.append(title.text)\n",
    "\n",
    "        \n",
    "for loc in locs:\n",
    "    if loc.text is None:\n",
    "        job_loc.append('-')\n",
    "    else:\n",
    "        job_loc.append(loc.text)\n",
    "\n",
    "\n",
    "for comp in comps:\n",
    "    if comp.text is None:\n",
    "        job_comp.append('-')\n",
    "    else: \n",
    "        job_comp.append(comp.text)           \n",
    "        \n",
    "for exp in exps:\n",
    "    if exp.text is None:\n",
    "        job_exp.append('-')\n",
    "    else:\n",
    "        job_exp.append(exp.text)\n",
    "        \n",
    "# For loop to go though the vairables and attatch them to our list"
   ]
  },
  {
   "cell_type": "code",
   "execution_count": 30,
   "metadata": {},
   "outputs": [],
   "source": [
    "job_title = job_title[:10]\n",
    "job_loc = job_loc[:10]\n",
    "job_comp= job_comp[:10]\n",
    "job_exp = job_exp[:10]\n",
    "# Truncaitng the list"
   ]
  },
  {
   "cell_type": "code",
   "execution_count": 31,
   "metadata": {},
   "outputs": [
    {
     "data": {
      "text/html": [
       "<div>\n",
       "<style scoped>\n",
       "    .dataframe tbody tr th:only-of-type {\n",
       "        vertical-align: middle;\n",
       "    }\n",
       "\n",
       "    .dataframe tbody tr th {\n",
       "        vertical-align: top;\n",
       "    }\n",
       "\n",
       "    .dataframe thead th {\n",
       "        text-align: right;\n",
       "    }\n",
       "</style>\n",
       "<table border=\"1\" class=\"dataframe\">\n",
       "  <thead>\n",
       "    <tr style=\"text-align: right;\">\n",
       "      <th></th>\n",
       "      <th>Job title</th>\n",
       "      <th>Location</th>\n",
       "      <th>Company name</th>\n",
       "      <th>Experience required</th>\n",
       "    </tr>\n",
       "  </thead>\n",
       "  <tbody>\n",
       "    <tr>\n",
       "      <th>0</th>\n",
       "      <td>Artifical Intelligence / ML / Cognitive / Data...</td>\n",
       "      <td>Delhi / NCR</td>\n",
       "      <td>IBM India Pvt. Limited</td>\n",
       "      <td>0-1 Yrs</td>\n",
       "    </tr>\n",
       "    <tr>\n",
       "      <th>1</th>\n",
       "      <td>BA - Data Science - Full stack developer</td>\n",
       "      <td>Hyderabad/Secunderabad, Gurgaon/Gurugram, Chen...</td>\n",
       "      <td>Sitel India Pvt Ltd</td>\n",
       "      <td>5-10 Yrs</td>\n",
       "    </tr>\n",
       "    <tr>\n",
       "      <th>2</th>\n",
       "      <td>Looking For Recruiters To Hire Data Science AI...</td>\n",
       "      <td>(WFH during Covid)</td>\n",
       "      <td>Placewell Consultants</td>\n",
       "      <td>0-2 Yrs</td>\n",
       "    </tr>\n",
       "    <tr>\n",
       "      <th>3</th>\n",
       "      <td>Data Science Intern</td>\n",
       "      <td>Remote</td>\n",
       "      <td>DataTrained</td>\n",
       "      <td>0-2 Yrs</td>\n",
       "    </tr>\n",
       "    <tr>\n",
       "      <th>4</th>\n",
       "      <td>Data science - Analyst</td>\n",
       "      <td>Noida, Bengaluru</td>\n",
       "      <td>Grail Research</td>\n",
       "      <td>1-3 Yrs</td>\n",
       "    </tr>\n",
       "    <tr>\n",
       "      <th>5</th>\n",
       "      <td>MNC Jobs- Tableau / Power BI / Python Data Sci...</td>\n",
       "      <td>Bangalore/Bengaluru, Delhi / NCR</td>\n",
       "      <td>GABA Consultancy services</td>\n",
       "      <td>0-5 Yrs</td>\n",
       "    </tr>\n",
       "    <tr>\n",
       "      <th>6</th>\n",
       "      <td>Associate / Senior Associate - Data Science - ...</td>\n",
       "      <td>Noida, New Delhi, Gurgaon/Gurugram</td>\n",
       "      <td>NovoTree Minds Consulting Pvt. Ltd.</td>\n",
       "      <td>2-6 Yrs</td>\n",
       "    </tr>\n",
       "    <tr>\n",
       "      <th>7</th>\n",
       "      <td>DATA SCIENCE INTERN</td>\n",
       "      <td>Delhi / NCR</td>\n",
       "      <td>empass</td>\n",
       "      <td>0-4 Yrs</td>\n",
       "    </tr>\n",
       "    <tr>\n",
       "      <th>8</th>\n",
       "      <td>Data Science - Intern</td>\n",
       "      <td>(WFH during Covid)</td>\n",
       "      <td>Mindworksglobal</td>\n",
       "      <td>0-0 Yrs</td>\n",
       "    </tr>\n",
       "    <tr>\n",
       "      <th>9</th>\n",
       "      <td>Data Science</td>\n",
       "      <td>Gurgaon</td>\n",
       "      <td>Diverse Lynx</td>\n",
       "      <td>2-6 Yrs</td>\n",
       "    </tr>\n",
       "  </tbody>\n",
       "</table>\n",
       "</div>"
      ],
      "text/plain": [
       "                                           Job title  \\\n",
       "0  Artifical Intelligence / ML / Cognitive / Data...   \n",
       "1           BA - Data Science - Full stack developer   \n",
       "2  Looking For Recruiters To Hire Data Science AI...   \n",
       "3                                Data Science Intern   \n",
       "4                             Data science - Analyst   \n",
       "5  MNC Jobs- Tableau / Power BI / Python Data Sci...   \n",
       "6  Associate / Senior Associate - Data Science - ...   \n",
       "7                                DATA SCIENCE INTERN   \n",
       "8                              Data Science - Intern   \n",
       "9                                       Data Science   \n",
       "\n",
       "                                            Location  \\\n",
       "0                                        Delhi / NCR   \n",
       "1  Hyderabad/Secunderabad, Gurgaon/Gurugram, Chen...   \n",
       "2                                 (WFH during Covid)   \n",
       "3                                             Remote   \n",
       "4                                   Noida, Bengaluru   \n",
       "5                   Bangalore/Bengaluru, Delhi / NCR   \n",
       "6                 Noida, New Delhi, Gurgaon/Gurugram   \n",
       "7                                        Delhi / NCR   \n",
       "8                                 (WFH during Covid)   \n",
       "9                                            Gurgaon   \n",
       "\n",
       "                          Company name Experience required  \n",
       "0               IBM India Pvt. Limited             0-1 Yrs  \n",
       "1                  Sitel India Pvt Ltd            5-10 Yrs  \n",
       "2                Placewell Consultants             0-2 Yrs  \n",
       "3                          DataTrained             0-2 Yrs  \n",
       "4                       Grail Research             1-3 Yrs  \n",
       "5            GABA Consultancy services             0-5 Yrs  \n",
       "6  NovoTree Minds Consulting Pvt. Ltd.             2-6 Yrs  \n",
       "7                               empass             0-4 Yrs  \n",
       "8                      Mindworksglobal             0-0 Yrs  \n",
       "9                         Diverse Lynx             2-6 Yrs  "
      ]
     },
     "execution_count": 31,
     "metadata": {},
     "output_type": "execute_result"
    }
   ],
   "source": [
    "jb_df = pd.DataFrame({})\n",
    "jb_df['Job title'] = job_title\n",
    "jb_df['Location'] = job_loc\n",
    "jb_df['Company name'] = job_comp\n",
    "jb_df['Experience required'] = job_exp\n",
    "\n",
    "jb_df\n",
    "\n",
    "#Data frame make and print"
   ]
  },
  {
   "cell_type": "code",
   "execution_count": 32,
   "metadata": {},
   "outputs": [],
   "source": [
    "time.sleep(5)\n",
    "driver.quit()"
   ]
  },
  {
   "cell_type": "markdown",
   "metadata": {},
   "source": [
    "### Beginning of Question 4 and 5"
   ]
  },
  {
   "cell_type": "code",
   "execution_count": 33,
   "metadata": {},
   "outputs": [],
   "source": [
    "from selenium import webdriver\n",
    "from selenium.webdriver.common.keys import Keys\n",
    "import time\n",
    "import pandas as pd\n",
    "import time   \n",
    "from selenium.common.exceptions import NoSuchElementException # Reuqired libraries"
   ]
  },
  {
   "cell_type": "code",
   "execution_count": 34,
   "metadata": {},
   "outputs": [],
   "source": [
    "PATH = \"C:\\Program Files (x86)\\chromedriver.exe\""
   ]
  },
  {
   "cell_type": "code",
   "execution_count": 35,
   "metadata": {},
   "outputs": [],
   "source": [
    "driver = webdriver.Chrome(PATH)\n",
    "driver.get(\"https://www.glassdoor.co.in/member/home/index.htm\")\n",
    "\n",
    "time.sleep(3)\n",
    "# This website requires a login before viewing any data we cannot go past this step without makiing credentials public"
   ]
  },
  {
   "cell_type": "code",
   "execution_count": 36,
   "metadata": {},
   "outputs": [],
   "source": [
    "driver.quit()"
   ]
  },
  {
   "cell_type": "markdown",
   "metadata": {},
   "source": [
    "# Question 4 & 5 require a login before accessing the data. As per sir's direction I will be skipping question 4 & 5 referring to glassdoor requiring login information which we cannot share on github."
   ]
  },
  {
   "cell_type": "markdown",
   "metadata": {},
   "source": [
    "### Beginning of Question-6\n"
   ]
  },
  {
   "cell_type": "code",
   "execution_count": 37,
   "metadata": {},
   "outputs": [],
   "source": [
    "from selenium import webdriver\n",
    "from selenium.webdriver.common.keys import Keys\n",
    "import time\n",
    "import pandas as pd\n",
    "import time   \n",
    "from selenium.common.exceptions import NoSuchElementException # Required libraries"
   ]
  },
  {
   "cell_type": "code",
   "execution_count": 38,
   "metadata": {},
   "outputs": [],
   "source": [
    "PATH = \"C:\\Program Files (x86)\\chromedriver.exe\""
   ]
  },
  {
   "cell_type": "code",
   "execution_count": 39,
   "metadata": {},
   "outputs": [],
   "source": [
    "driver = webdriver.Chrome(PATH)\n",
    "driver.get(\"https://www.flipkart.com/\")\n",
    "\n",
    "time.sleep(3)"
   ]
  },
  {
   "cell_type": "code",
   "execution_count": 40,
   "metadata": {},
   "outputs": [],
   "source": [
    "login_pop_up = driver.find_element_by_xpath(\"//button[@class='_2KpZ6l _2doB4z']\")\n",
    "login_pop_up.click()\n",
    "# This step is to close the pop up window which appears"
   ]
  },
  {
   "cell_type": "code",
   "execution_count": 41,
   "metadata": {},
   "outputs": [],
   "source": [
    "time.sleep(2)\n",
    "search_bar = driver.find_element_by_class_name('_3704LK')\n",
    "search_button =  driver.find_element_by_class_name('L0Z3Pu')\n",
    "# Locating the search bar and button"
   ]
  },
  {
   "cell_type": "code",
   "execution_count": 42,
   "metadata": {},
   "outputs": [],
   "source": [
    "search_bar.send_keys('sunglasses')\n",
    "search_button.click()\n",
    "# Sending data to search bar and clickign the search button"
   ]
  },
  {
   "cell_type": "code",
   "execution_count": 43,
   "metadata": {},
   "outputs": [],
   "source": [
    "time.sleep(3)\n",
    "brands = driver.find_elements_by_xpath(\"//div[@class='_2WkVRV']\")\n",
    "descs = driver.find_elements_by_xpath(\"//a[@class='IRpwTa']\")\n",
    "prices = driver.find_elements_by_xpath(\"//div[@class='_30jeq3']\")\n",
    "discs = driver.find_elements_by_xpath(\"//div[@class='_3Ay6Sb']/span\")\n",
    "# These are the attributes we need to fetch"
   ]
  },
  {
   "cell_type": "code",
   "execution_count": 44,
   "metadata": {},
   "outputs": [],
   "source": [
    "next_button = driver.find_element_by_xpath(\"//a[@class='_1LKTO3']/span\")\n",
    "# Defining next page button"
   ]
  },
  {
   "cell_type": "code",
   "execution_count": 45,
   "metadata": {},
   "outputs": [],
   "source": [
    "sun_brand = []\n",
    "sun_desc = []\n",
    "sun_price = []\n",
    "sun_disc = []\n",
    "# Initiating empty lists"
   ]
  },
  {
   "cell_type": "code",
   "execution_count": 46,
   "metadata": {},
   "outputs": [],
   "source": [
    "for brand in brands:\n",
    "    if brand.text is None:\n",
    "        sun_brand.append('-')\n",
    "    else:\n",
    "        sun_brand.append(brand.text)\n",
    "        \n",
    "for desc in descs:\n",
    "    if desc.text is None:\n",
    "        sun_desc.append('-')\n",
    "    else:\n",
    "        sun_desc.append(desc.text)\n",
    "        \n",
    "for price in prices:\n",
    "    if price.text is None:\n",
    "        sun_price.append('-')\n",
    "    else:\n",
    "        sun_price.append(price.text)\n",
    "        \n",
    "for disc in discs:\n",
    "    if disc.text is None:\n",
    "        sun_disc.append('-')\n",
    "    else:\n",
    "        sun_disc.append(disc.text)\n",
    "\n",
    "# Getting all attributes in a list using the for loop"
   ]
  },
  {
   "cell_type": "code",
   "execution_count": 47,
   "metadata": {},
   "outputs": [],
   "source": [
    "for i in range(2):\n",
    "    time.sleep(3)\n",
    "    for brand in brands:\n",
    "        if brand.text is None:\n",
    "            sun_brand.append('-')\n",
    "        else:\n",
    "            sun_brand.append(brand.text)\n",
    "            \n",
    "    for desc in descs:\n",
    "        if desc.text is None:\n",
    "            sun_desc.append('-')\n",
    "        else:\n",
    "            sun_desc.append(desc.text) \n",
    "            \n",
    "    for price in prices:\n",
    "        if price.text is None:\n",
    "            sun_price.append('-')\n",
    "        else:\n",
    "            sun_price.append(price.text)\n",
    "            \n",
    "    for disc in discs:\n",
    "        if disc.text is None:\n",
    "            sun_disc.append('-')\n",
    "        else:\n",
    "            sun_disc.append(disc.text)\n",
    "    \n",
    "    next_button.click()\n",
    "    time.sleep(5)\n",
    "    for n in range(40):\n",
    "        brands = driver.find_elements_by_xpath(\"//div[@class='_2WkVRV']\")\n",
    "        descs = driver.find_elements_by_xpath(\"//a[@class='IRpwTa']\")\n",
    "        prices = driver.find_elements_by_xpath(\"//div[@class='_30jeq3']\")\n",
    "        discs = driver.find_elements_by_xpath(\"//div[@class='_3Ay6Sb']/span\")\n",
    "        \n",
    "# This is the 2nd for loop we use for the next pages. We are going to click it twice to get total 100 data\n",
    "    "
   ]
  },
  {
   "cell_type": "code",
   "execution_count": 48,
   "metadata": {},
   "outputs": [],
   "source": [
    "sun_brand = sun_brand[:100]\n",
    "sun_desc = sun_desc[:100]\n",
    "sun_price = sun_price[:100]\n",
    "sun_disc = sun_disc[:100]\n",
    "# Truncating the lists"
   ]
  },
  {
   "cell_type": "code",
   "execution_count": 49,
   "metadata": {},
   "outputs": [
    {
     "data": {
      "text/html": [
       "<div>\n",
       "<style scoped>\n",
       "    .dataframe tbody tr th:only-of-type {\n",
       "        vertical-align: middle;\n",
       "    }\n",
       "\n",
       "    .dataframe tbody tr th {\n",
       "        vertical-align: top;\n",
       "    }\n",
       "\n",
       "    .dataframe thead th {\n",
       "        text-align: right;\n",
       "    }\n",
       "</style>\n",
       "<table border=\"1\" class=\"dataframe\">\n",
       "  <thead>\n",
       "    <tr style=\"text-align: right;\">\n",
       "      <th></th>\n",
       "      <th>Brand</th>\n",
       "      <th>Description</th>\n",
       "      <th>Price</th>\n",
       "      <th>Discount</th>\n",
       "    </tr>\n",
       "  </thead>\n",
       "  <tbody>\n",
       "    <tr>\n",
       "      <th>0</th>\n",
       "      <td>Wrogn</td>\n",
       "      <td>Mirrored Wayfarer Sunglasses (51)</td>\n",
       "      <td>₹663</td>\n",
       "      <td>73% off</td>\n",
       "    </tr>\n",
       "    <tr>\n",
       "      <th>1</th>\n",
       "      <td>HAMIW COLLECTION</td>\n",
       "      <td>UV Protection Wayfarer, Sports, Shield, Rectan...</td>\n",
       "      <td>₹197</td>\n",
       "      <td>86% off</td>\n",
       "    </tr>\n",
       "    <tr>\n",
       "      <th>2</th>\n",
       "      <td>Elligator</td>\n",
       "      <td>UV Protection Round Sunglasses (54)</td>\n",
       "      <td>₹295</td>\n",
       "      <td>88% off</td>\n",
       "    </tr>\n",
       "    <tr>\n",
       "      <th>3</th>\n",
       "      <td>Fastrack</td>\n",
       "      <td>UV Protection Wayfarer Sunglasses (Free Size)</td>\n",
       "      <td>₹758</td>\n",
       "      <td>15% off</td>\n",
       "    </tr>\n",
       "    <tr>\n",
       "      <th>4</th>\n",
       "      <td>Fastrack</td>\n",
       "      <td>UV Protection Rectangular Sunglasses (Free Size)</td>\n",
       "      <td>₹513</td>\n",
       "      <td>35% off</td>\n",
       "    </tr>\n",
       "    <tr>\n",
       "      <th>...</th>\n",
       "      <td>...</td>\n",
       "      <td>...</td>\n",
       "      <td>...</td>\n",
       "      <td>...</td>\n",
       "    </tr>\n",
       "    <tr>\n",
       "      <th>95</th>\n",
       "      <td>ROYAL SON</td>\n",
       "      <td>UV Protection, Riding Glasses Wrap-around Sung...</td>\n",
       "      <td>₹699</td>\n",
       "      <td>53% off</td>\n",
       "    </tr>\n",
       "    <tr>\n",
       "      <th>96</th>\n",
       "      <td>NuVew</td>\n",
       "      <td>UV Protection, Mirrored Retro Square Sunglasse...</td>\n",
       "      <td>₹202</td>\n",
       "      <td>74% off</td>\n",
       "    </tr>\n",
       "    <tr>\n",
       "      <th>97</th>\n",
       "      <td>Fastrack</td>\n",
       "      <td>UV Protection Round Sunglasses (54)</td>\n",
       "      <td>₹558</td>\n",
       "      <td>30% off</td>\n",
       "    </tr>\n",
       "    <tr>\n",
       "      <th>98</th>\n",
       "      <td>ROZZETTA CRAFT</td>\n",
       "      <td>UV Protection, Gradient Rectangular Sunglasses...</td>\n",
       "      <td>₹426</td>\n",
       "      <td>80% off</td>\n",
       "    </tr>\n",
       "    <tr>\n",
       "      <th>99</th>\n",
       "      <td>Billion</td>\n",
       "      <td>UV Protection Wayfarer Sunglasses (32)</td>\n",
       "      <td>₹279</td>\n",
       "      <td>78% off</td>\n",
       "    </tr>\n",
       "  </tbody>\n",
       "</table>\n",
       "<p>100 rows × 4 columns</p>\n",
       "</div>"
      ],
      "text/plain": [
       "               Brand                                        Description Price  \\\n",
       "0              Wrogn                  Mirrored Wayfarer Sunglasses (51)  ₹663   \n",
       "1   HAMIW COLLECTION  UV Protection Wayfarer, Sports, Shield, Rectan...  ₹197   \n",
       "2          Elligator                UV Protection Round Sunglasses (54)  ₹295   \n",
       "3           Fastrack      UV Protection Wayfarer Sunglasses (Free Size)  ₹758   \n",
       "4           Fastrack   UV Protection Rectangular Sunglasses (Free Size)  ₹513   \n",
       "..               ...                                                ...   ...   \n",
       "95         ROYAL SON  UV Protection, Riding Glasses Wrap-around Sung...  ₹699   \n",
       "96             NuVew  UV Protection, Mirrored Retro Square Sunglasse...  ₹202   \n",
       "97          Fastrack                UV Protection Round Sunglasses (54)  ₹558   \n",
       "98    ROZZETTA CRAFT  UV Protection, Gradient Rectangular Sunglasses...  ₹426   \n",
       "99           Billion             UV Protection Wayfarer Sunglasses (32)  ₹279   \n",
       "\n",
       "   Discount  \n",
       "0   73% off  \n",
       "1   86% off  \n",
       "2   88% off  \n",
       "3   15% off  \n",
       "4   35% off  \n",
       "..      ...  \n",
       "95  53% off  \n",
       "96  74% off  \n",
       "97  30% off  \n",
       "98  80% off  \n",
       "99  78% off  \n",
       "\n",
       "[100 rows x 4 columns]"
      ]
     },
     "execution_count": 49,
     "metadata": {},
     "output_type": "execute_result"
    }
   ],
   "source": [
    "sun_df = pd.DataFrame({})\n",
    "sun_df['Brand'] = sun_brand\n",
    "sun_df['Description'] = sun_desc\n",
    "sun_df['Price'] = sun_price\n",
    "sun_df['Discount'] = sun_disc\n",
    "\n",
    "sun_df\n",
    "\n",
    "# Creating and printing the data frame"
   ]
  },
  {
   "cell_type": "code",
   "execution_count": 50,
   "metadata": {},
   "outputs": [],
   "source": [
    "time.sleep(5)\n",
    "driver.quit()"
   ]
  },
  {
   "cell_type": "markdown",
   "metadata": {},
   "source": [
    "## Beginning of Question-7"
   ]
  },
  {
   "cell_type": "code",
   "execution_count": 51,
   "metadata": {},
   "outputs": [],
   "source": [
    "from selenium import webdriver\n",
    "from selenium.webdriver.common.keys import Keys\n",
    "import time\n",
    "import pandas as pd\n",
    "import time   \n",
    "from selenium.common.exceptions import NoSuchElementException # Required libraries"
   ]
  },
  {
   "cell_type": "code",
   "execution_count": 52,
   "metadata": {},
   "outputs": [],
   "source": [
    "PATH = \"C:\\Program Files (x86)\\chromedriver.exe\""
   ]
  },
  {
   "cell_type": "code",
   "execution_count": 53,
   "metadata": {},
   "outputs": [],
   "source": [
    "driver = webdriver.Chrome(PATH)\n",
    "driver.get(\"https://www.flipkart.com/apple-iphone-11-black-64-gb-includes-earpods-power-adapter/p/itm0f37c2240b217?pid=MOBFKCTSVZAXUHGR&lid=LSTMOBFKCTSVZAXUHGREPBFGI&marketplace\")\n",
    "\n",
    "time.sleep(3)\n",
    "# Directly we go to the page"
   ]
  },
  {
   "cell_type": "code",
   "execution_count": 54,
   "metadata": {},
   "outputs": [],
   "source": [
    "driver.find_element_by_xpath(\"//div[@class='_3UAT2v _16PBlm']\").click()\n",
    "# Expanding all reviews button and clickign it"
   ]
  },
  {
   "cell_type": "code",
   "execution_count": 55,
   "metadata": {},
   "outputs": [],
   "source": [
    "time.sleep(3)\n",
    "rev_rats = driver.find_elements_by_xpath(\"//div[@class='_3LWZlK _1BLPMq']\")\n",
    "rev_title = driver.find_elements_by_xpath(\"//p[@class='_2-N8zT']\")\n",
    "rev_full = driver.find_elements_by_xpath(\"//div[@class='t-ZTKy']\")\n",
    "next_button_now = driver.find_element_by_xpath(\"//a[@class='_1LKTO3']/span\")\n",
    "# These are the attributes we need to fetch"
   ]
  },
  {
   "cell_type": "code",
   "execution_count": 56,
   "metadata": {},
   "outputs": [],
   "source": [
    "ratings = []\n",
    "title = []\n",
    "full = []\n",
    "# Initiaitng lists"
   ]
  },
  {
   "cell_type": "code",
   "execution_count": 57,
   "metadata": {},
   "outputs": [],
   "source": [
    "for i in range(10):\n",
    "#     time.sleep(3)\n",
    "    \n",
    "    for rats in rev_rats:\n",
    "        if rats.text is None:\n",
    "            ratings.append('-')\n",
    "        else:\n",
    "            ratings.append(rats.text)\n",
    "        \n",
    "    for titles in rev_title:\n",
    "        if titles.text is None:\n",
    "            title.append('-')\n",
    "        else:\n",
    "            title.append(titles.text)\n",
    "\n",
    "    for desc in rev_full:\n",
    "        if desc.text is None:\n",
    "            full.append('-')\n",
    "        else: \n",
    "            full.append(desc.text.replace('\\n',' '))\n",
    "    \n",
    "    nav_bar = driver.find_elements_by_xpath(\"//a[@class='_1LKTO3']\")\n",
    "    nav_bar[-1].click()    \n",
    "    time.sleep(3)\n",
    "    for n in range(10):\n",
    "        rev_rats = driver.find_elements_by_xpath(\"//div[@class='_3LWZlK _1BLPMq']\")\n",
    "        rev_title = driver.find_elements_by_xpath(\"//p[@class='_2-N8zT']\")\n",
    "        rev_full = driver.find_elements_by_xpath(\"//div[@class='t-ZTKy']\")\n",
    "        \n",
    "# We iterate through th enext button 10 times because we need 100 data and each page contains 10 data. 100/10 = 10 pages.\n",
    "        "
   ]
  },
  {
   "cell_type": "code",
   "execution_count": 58,
   "metadata": {},
   "outputs": [],
   "source": [
    "missing_rat = 100 - int(len(ratings))\n",
    "if missing_rat >= 1:\n",
    "    for i in range(missing_rat):\n",
    "        ratings.append('-')\n",
    "# Filling the missed ratings        \n",
    "     "
   ]
  },
  {
   "cell_type": "code",
   "execution_count": 59,
   "metadata": {},
   "outputs": [
    {
     "data": {
      "text/html": [
       "<div>\n",
       "<style scoped>\n",
       "    .dataframe tbody tr th:only-of-type {\n",
       "        vertical-align: middle;\n",
       "    }\n",
       "\n",
       "    .dataframe tbody tr th {\n",
       "        vertical-align: top;\n",
       "    }\n",
       "\n",
       "    .dataframe thead th {\n",
       "        text-align: right;\n",
       "    }\n",
       "</style>\n",
       "<table border=\"1\" class=\"dataframe\">\n",
       "  <thead>\n",
       "    <tr style=\"text-align: right;\">\n",
       "      <th></th>\n",
       "      <th>Rating</th>\n",
       "      <th>Review Title</th>\n",
       "      <th>Full Review</th>\n",
       "    </tr>\n",
       "  </thead>\n",
       "  <tbody>\n",
       "    <tr>\n",
       "      <th>0</th>\n",
       "      <td>5</td>\n",
       "      <td>Brilliant</td>\n",
       "      <td>The Best Phone for the Money  The iPhone 11 of...</td>\n",
       "    </tr>\n",
       "    <tr>\n",
       "      <th>1</th>\n",
       "      <td>5</td>\n",
       "      <td>Simply awesome</td>\n",
       "      <td>Really satisfied with the Product I received.....</td>\n",
       "    </tr>\n",
       "    <tr>\n",
       "      <th>2</th>\n",
       "      <td>5</td>\n",
       "      <td>Perfect product!</td>\n",
       "      <td>Amazing phone with great cameras and better ba...</td>\n",
       "    </tr>\n",
       "    <tr>\n",
       "      <th>3</th>\n",
       "      <td>5</td>\n",
       "      <td>Fabulous!</td>\n",
       "      <td>This is my first iOS phone. I am very happy wi...</td>\n",
       "    </tr>\n",
       "    <tr>\n",
       "      <th>4</th>\n",
       "      <td>5</td>\n",
       "      <td>Worth every penny</td>\n",
       "      <td>Previously I was using one plus 3t it was a gr...</td>\n",
       "    </tr>\n",
       "    <tr>\n",
       "      <th>...</th>\n",
       "      <td>...</td>\n",
       "      <td>...</td>\n",
       "      <td>...</td>\n",
       "    </tr>\n",
       "    <tr>\n",
       "      <th>95</th>\n",
       "      <td>5</td>\n",
       "      <td>Highly recommended</td>\n",
       "      <td>Thanks Flipkart For this amazing deal! I had a...</td>\n",
       "    </tr>\n",
       "    <tr>\n",
       "      <th>96</th>\n",
       "      <td>5</td>\n",
       "      <td>Mind-blowing purchase</td>\n",
       "      <td>awesome Phone Smooth Touch Too good Sexyy look...</td>\n",
       "    </tr>\n",
       "    <tr>\n",
       "      <th>97</th>\n",
       "      <td>5</td>\n",
       "      <td>Must buy!</td>\n",
       "      <td>I rate this product 5* as it has got amazing u...</td>\n",
       "    </tr>\n",
       "    <tr>\n",
       "      <th>98</th>\n",
       "      <td>-</td>\n",
       "      <td>Excellent</td>\n",
       "      <td>It was amazing experience for me. Honestly i a...</td>\n",
       "    </tr>\n",
       "    <tr>\n",
       "      <th>99</th>\n",
       "      <td>-</td>\n",
       "      <td>Excellent</td>\n",
       "      <td>Just go for it. This phone is really amazing. ...</td>\n",
       "    </tr>\n",
       "  </tbody>\n",
       "</table>\n",
       "<p>100 rows × 3 columns</p>\n",
       "</div>"
      ],
      "text/plain": [
       "   Rating           Review Title  \\\n",
       "0       5              Brilliant   \n",
       "1       5         Simply awesome   \n",
       "2       5       Perfect product!   \n",
       "3       5              Fabulous!   \n",
       "4       5      Worth every penny   \n",
       "..    ...                    ...   \n",
       "95      5     Highly recommended   \n",
       "96      5  Mind-blowing purchase   \n",
       "97      5              Must buy!   \n",
       "98      -              Excellent   \n",
       "99      -              Excellent   \n",
       "\n",
       "                                          Full Review  \n",
       "0   The Best Phone for the Money  The iPhone 11 of...  \n",
       "1   Really satisfied with the Product I received.....  \n",
       "2   Amazing phone with great cameras and better ba...  \n",
       "3   This is my first iOS phone. I am very happy wi...  \n",
       "4   Previously I was using one plus 3t it was a gr...  \n",
       "..                                                ...  \n",
       "95  Thanks Flipkart For this amazing deal! I had a...  \n",
       "96  awesome Phone Smooth Touch Too good Sexyy look...  \n",
       "97  I rate this product 5* as it has got amazing u...  \n",
       "98  It was amazing experience for me. Honestly i a...  \n",
       "99  Just go for it. This phone is really amazing. ...  \n",
       "\n",
       "[100 rows x 3 columns]"
      ]
     },
     "execution_count": 59,
     "metadata": {},
     "output_type": "execute_result"
    }
   ],
   "source": [
    "rev_df = pd.DataFrame({})\n",
    "rev_df['Rating'] = ratings\n",
    "rev_df['Review Title'] = title\n",
    "rev_df['Full Review'] = full\n",
    "\n",
    "rev_df\n",
    "\n",
    "# Creating the data frame"
   ]
  },
  {
   "cell_type": "code",
   "execution_count": 60,
   "metadata": {},
   "outputs": [],
   "source": [
    "time.sleep(5)\n",
    "driver.quit()"
   ]
  },
  {
   "cell_type": "markdown",
   "metadata": {},
   "source": [
    "## Beginning of Question 8"
   ]
  },
  {
   "cell_type": "code",
   "execution_count": 61,
   "metadata": {},
   "outputs": [],
   "source": [
    "from selenium import webdriver\n",
    "from selenium.webdriver.common.keys import Keys\n",
    "import time\n",
    "import pandas as pd\n",
    "import time   \n",
    "from selenium.common.exceptions import NoSuchElementException # Required libraries"
   ]
  },
  {
   "cell_type": "code",
   "execution_count": 62,
   "metadata": {},
   "outputs": [],
   "source": [
    "PATH = \"C:\\Program Files (x86)\\chromedriver.exe\""
   ]
  },
  {
   "cell_type": "code",
   "execution_count": 63,
   "metadata": {},
   "outputs": [],
   "source": [
    "driver = webdriver.Chrome(PATH)\n",
    "driver.get(\"https://www.flipkart.com/\")\n",
    "\n",
    "time.sleep(3)"
   ]
  },
  {
   "cell_type": "code",
   "execution_count": 64,
   "metadata": {},
   "outputs": [],
   "source": [
    "login_pop_up = driver.find_element_by_xpath(\"//button[@class='_2KpZ6l _2doB4z']\")\n",
    "login_pop_up.click()\n",
    "# Closing the pop up"
   ]
  },
  {
   "cell_type": "code",
   "execution_count": 65,
   "metadata": {},
   "outputs": [],
   "source": [
    "time.sleep(2)\n",
    "\n",
    "search_bar = driver.find_element_by_class_name('_3704LK')\n",
    "search_button =  driver.find_element_by_class_name('L0Z3Pu')\n",
    "# Locating search bar and button"
   ]
  },
  {
   "cell_type": "code",
   "execution_count": 66,
   "metadata": {},
   "outputs": [],
   "source": [
    "search_bar.send_keys('sneakers')\n",
    "search_button.click()\n",
    "# Entering sneakers and searching"
   ]
  },
  {
   "cell_type": "code",
   "execution_count": 67,
   "metadata": {},
   "outputs": [],
   "source": [
    "time.sleep(3)\n",
    "brands = driver.find_elements_by_xpath(\"//div[@class='_2WkVRV']\")\n",
    "descs = driver.find_elements_by_xpath(\"//a[@class='IRpwTa']\")\n",
    "prices = driver.find_elements_by_xpath(\"//div[@class='_30jeq3']\")\n",
    "discs = driver.find_elements_by_xpath(\"//div[@class='_3Ay6Sb']/span\")\n",
    "\n",
    "next_button = driver.find_element_by_xpath(\"//a[@class='_1LKTO3']/span\")\n",
    "# These are the attributes which we need ot fetch"
   ]
  },
  {
   "cell_type": "code",
   "execution_count": 68,
   "metadata": {},
   "outputs": [],
   "source": [
    "sneaker_brand = []\n",
    "sneaker_desc = []\n",
    "sneaker_price = []\n",
    "sneaker_disc = []\n",
    "# Initiating lists"
   ]
  },
  {
   "cell_type": "code",
   "execution_count": 69,
   "metadata": {},
   "outputs": [],
   "source": [
    "for brand in brands:\n",
    "    if brand.text is None:\n",
    "        sneaker_brand.append('-')\n",
    "    else:\n",
    "        sneaker_brand.append(brand.text)\n",
    "        \n",
    "for desc in descs:\n",
    "    if desc.text is None:\n",
    "        sneaker_desc.append('-')\n",
    "    else:\n",
    "        sneaker_desc.append(desc.text)\n",
    "        \n",
    "for price in prices:\n",
    "    if price.text is None:\n",
    "        sneaker_price.append('-')\n",
    "    else:\n",
    "        sneaker_price.append(price.text)\n",
    "        \n",
    "for disc in discs:\n",
    "    if disc.text is None:\n",
    "        sneaker_disc.append('-')\n",
    "    else:\n",
    "        sneaker_disc.append(disc.text)\n",
    "        \n",
    "# Using for loop to append data to our list"
   ]
  },
  {
   "cell_type": "code",
   "execution_count": 70,
   "metadata": {},
   "outputs": [],
   "source": [
    "for i in range(2):\n",
    "    time.sleep(3)\n",
    "    for brand in brands:\n",
    "        if brand.text is None:\n",
    "            sneaker_brand.append('-')\n",
    "        else:\n",
    "            sneaker_brand.append(brand.text)\n",
    "            \n",
    "    for desc in descs:\n",
    "        if desc.text is None:\n",
    "            sneaker_desc.append('-')\n",
    "        else:\n",
    "            sneaker_desc.append(desc.text) \n",
    "            \n",
    "    for price in prices:\n",
    "        if price.text is None:\n",
    "            sneaker_price.append('-')\n",
    "        else:\n",
    "            sneaker_price.append(price.text)\n",
    "            \n",
    "    for disc in discs:\n",
    "        if disc.text is None:\n",
    "            sneaker_disc.append('-')\n",
    "        else:\n",
    "            sneaker_disc.append(disc.text)\n",
    "    \n",
    "    next_button.click()\n",
    "    time.sleep(5)\n",
    "    for n in range(40):\n",
    "        brands = driver.find_elements_by_xpath(\"//div[@class='_2WkVRV']\")\n",
    "        descs = driver.find_elements_by_xpath(\"//a[@class='IRpwTa']\")\n",
    "        prices = driver.find_elements_by_xpath(\"//div[@class='_30jeq3']\")\n",
    "        discs = driver.find_elements_by_xpath(\"//div[@class='_3Ay6Sb']/span\")\n",
    "# Using for loop to append data to our list   "
   ]
  },
  {
   "cell_type": "code",
   "execution_count": 71,
   "metadata": {},
   "outputs": [],
   "source": [
    "sneaker_brand = sneaker_brand[:100]\n",
    "sneaker_desc = sneaker_desc[:100]\n",
    "sneaker_price = sneaker_price[:100]\n",
    "sneaker_disc = sneaker_disc[:100]\n",
    "# Truncating our data to 100"
   ]
  },
  {
   "cell_type": "code",
   "execution_count": 72,
   "metadata": {},
   "outputs": [
    {
     "data": {
      "text/html": [
       "<div>\n",
       "<style scoped>\n",
       "    .dataframe tbody tr th:only-of-type {\n",
       "        vertical-align: middle;\n",
       "    }\n",
       "\n",
       "    .dataframe tbody tr th {\n",
       "        vertical-align: top;\n",
       "    }\n",
       "\n",
       "    .dataframe thead th {\n",
       "        text-align: right;\n",
       "    }\n",
       "</style>\n",
       "<table border=\"1\" class=\"dataframe\">\n",
       "  <thead>\n",
       "    <tr style=\"text-align: right;\">\n",
       "      <th></th>\n",
       "      <th>Brand</th>\n",
       "      <th>Description</th>\n",
       "      <th>Price</th>\n",
       "      <th>Discount</th>\n",
       "    </tr>\n",
       "  </thead>\n",
       "  <tbody>\n",
       "    <tr>\n",
       "      <th>0</th>\n",
       "      <td>Zorth</td>\n",
       "      <td>Unique &amp; Perfect Collection Combo Pack of 02 S...</td>\n",
       "      <td>₹499</td>\n",
       "      <td>50% off</td>\n",
       "    </tr>\n",
       "    <tr>\n",
       "      <th>1</th>\n",
       "      <td>Zorth</td>\n",
       "      <td>Sneakers For Men</td>\n",
       "      <td>₹493</td>\n",
       "      <td>50% off</td>\n",
       "    </tr>\n",
       "    <tr>\n",
       "      <th>2</th>\n",
       "      <td>Chevit</td>\n",
       "      <td>Original Luxury Branded Fashionable Men's Casu...</td>\n",
       "      <td>₹420</td>\n",
       "      <td>71% off</td>\n",
       "    </tr>\n",
       "    <tr>\n",
       "      <th>3</th>\n",
       "      <td>PEHANOSA</td>\n",
       "      <td>Super Stylish &amp; Trendy Combo Pack of 02 Pairs ...</td>\n",
       "      <td>₹419</td>\n",
       "      <td>58% off</td>\n",
       "    </tr>\n",
       "    <tr>\n",
       "      <th>4</th>\n",
       "      <td>ASTEROID</td>\n",
       "      <td>Luxury Fashionable casual sneaker shoes Sneake...</td>\n",
       "      <td>₹499</td>\n",
       "      <td>75% off</td>\n",
       "    </tr>\n",
       "    <tr>\n",
       "      <th>...</th>\n",
       "      <td>...</td>\n",
       "      <td>...</td>\n",
       "      <td>...</td>\n",
       "      <td>...</td>\n",
       "    </tr>\n",
       "    <tr>\n",
       "      <th>95</th>\n",
       "      <td>Echor</td>\n",
       "      <td>Combo pack of 2 casual sneaker shoes for men S...</td>\n",
       "      <td>₹599</td>\n",
       "      <td>67% off</td>\n",
       "    </tr>\n",
       "    <tr>\n",
       "      <th>96</th>\n",
       "      <td>World Wear Footwear</td>\n",
       "      <td>Sneakers For Men</td>\n",
       "      <td>₹240</td>\n",
       "      <td>72% off</td>\n",
       "    </tr>\n",
       "    <tr>\n",
       "      <th>97</th>\n",
       "      <td>Rising Wolf</td>\n",
       "      <td>Sneakers For Men</td>\n",
       "      <td>₹512</td>\n",
       "      <td>35% off</td>\n",
       "    </tr>\n",
       "    <tr>\n",
       "      <th>98</th>\n",
       "      <td>WRIZT</td>\n",
       "      <td>Fashionable casual sneaker shoes Sneakers For Men</td>\n",
       "      <td>₹279</td>\n",
       "      <td>60% off</td>\n",
       "    </tr>\n",
       "    <tr>\n",
       "      <th>99</th>\n",
       "      <td>U.S. POLO ASSN.</td>\n",
       "      <td>Luxury Branded Fashionable Men's Casual Walkin...</td>\n",
       "      <td>₹1,949</td>\n",
       "      <td>50% off</td>\n",
       "    </tr>\n",
       "  </tbody>\n",
       "</table>\n",
       "<p>100 rows × 4 columns</p>\n",
       "</div>"
      ],
      "text/plain": [
       "                  Brand                                        Description  \\\n",
       "0                 Zorth  Unique & Perfect Collection Combo Pack of 02 S...   \n",
       "1                 Zorth                                   Sneakers For Men   \n",
       "2                Chevit  Original Luxury Branded Fashionable Men's Casu...   \n",
       "3              PEHANOSA  Super Stylish & Trendy Combo Pack of 02 Pairs ...   \n",
       "4              ASTEROID  Luxury Fashionable casual sneaker shoes Sneake...   \n",
       "..                  ...                                                ...   \n",
       "95                Echor  Combo pack of 2 casual sneaker shoes for men S...   \n",
       "96  World Wear Footwear                                   Sneakers For Men   \n",
       "97          Rising Wolf                                   Sneakers For Men   \n",
       "98                WRIZT  Fashionable casual sneaker shoes Sneakers For Men   \n",
       "99      U.S. POLO ASSN.  Luxury Branded Fashionable Men's Casual Walkin...   \n",
       "\n",
       "     Price Discount  \n",
       "0     ₹499  50% off  \n",
       "1     ₹493  50% off  \n",
       "2     ₹420  71% off  \n",
       "3     ₹419  58% off  \n",
       "4     ₹499  75% off  \n",
       "..     ...      ...  \n",
       "95    ₹599  67% off  \n",
       "96    ₹240  72% off  \n",
       "97    ₹512  35% off  \n",
       "98    ₹279  60% off  \n",
       "99  ₹1,949  50% off  \n",
       "\n",
       "[100 rows x 4 columns]"
      ]
     },
     "execution_count": 72,
     "metadata": {},
     "output_type": "execute_result"
    }
   ],
   "source": [
    "sneaker_df = pd.DataFrame({})\n",
    "sneaker_df['Brand'] = sneaker_brand\n",
    "sneaker_df['Description'] = sneaker_desc\n",
    "sneaker_df['Price'] = sneaker_price\n",
    "sneaker_df['Discount'] = sneaker_disc\n",
    "\n",
    "sneaker_df\n",
    "\n",
    "# Initiate and print data frame"
   ]
  },
  {
   "cell_type": "code",
   "execution_count": 73,
   "metadata": {},
   "outputs": [],
   "source": [
    "time.sleep(5)\n",
    "driver.quit()"
   ]
  },
  {
   "cell_type": "markdown",
   "metadata": {},
   "source": [
    "### Beginning of question 9"
   ]
  },
  {
   "cell_type": "code",
   "execution_count": 74,
   "metadata": {},
   "outputs": [],
   "source": [
    "from selenium import webdriver\n",
    "from selenium.webdriver.common.keys import Keys\n",
    "import time\n",
    "import pandas as pd\n",
    "import time   \n",
    "from selenium.common.exceptions import NoSuchElementException # Required libraries"
   ]
  },
  {
   "cell_type": "code",
   "execution_count": 75,
   "metadata": {},
   "outputs": [],
   "source": [
    "PATH = \"C:\\Program Files (x86)\\chromedriver.exe\""
   ]
  },
  {
   "cell_type": "code",
   "execution_count": 76,
   "metadata": {},
   "outputs": [],
   "source": [
    "driver = webdriver.Chrome(PATH)\n",
    "driver.get(\"https://www.myntra.com/shoes?plaEnabled=false&sort=discount\")\n",
    "\n",
    "time.sleep(3)\n",
    "# Going to link"
   ]
  },
  {
   "cell_type": "code",
   "execution_count": 77,
   "metadata": {},
   "outputs": [],
   "source": [
    "time.sleep(3)\n",
    "color = driver.find_elements_by_xpath(\"//label[@class='common-customCheckbox']\")\n",
    "color[0].click()\n",
    "# Color check box selection"
   ]
  },
  {
   "cell_type": "code",
   "execution_count": 78,
   "metadata": {},
   "outputs": [],
   "source": [
    "time.sleep(3)\n",
    "pr = driver.find_elements_by_xpath(\"//label[@class='common-customCheckbox vertical-filters-label']\")\n",
    "pr[7].click()\n",
    "# Price checkbox selection"
   ]
  },
  {
   "cell_type": "code",
   "execution_count": 79,
   "metadata": {},
   "outputs": [],
   "source": [
    "time.sleep(3)\n",
    "brands = driver.find_elements_by_xpath(\"//h3[@class='product-brand']\")\n",
    "descs = driver.find_elements_by_xpath(\"//h4[@class='product-product']\")\n",
    "prices = driver.find_elements_by_xpath(\"//span[@class='product-discountedPrice']\")\n",
    "# Now these are thee attributes we need ot fetch"
   ]
  },
  {
   "cell_type": "code",
   "execution_count": 80,
   "metadata": {},
   "outputs": [],
   "source": [
    "next_button = driver.find_element_by_xpath(\"//li[@class='pagination-next']\")"
   ]
  },
  {
   "cell_type": "code",
   "execution_count": 81,
   "metadata": {},
   "outputs": [],
   "source": [
    "snek_brand = []\n",
    "snek_desc = []\n",
    "snek_price = []\n",
    "# Initiating empty lists"
   ]
  },
  {
   "cell_type": "code",
   "execution_count": 82,
   "metadata": {},
   "outputs": [],
   "source": [
    "for brand in brands:\n",
    "    if brand.text is None:\n",
    "        snek_brand.append('-')\n",
    "    else:\n",
    "        snek_brand.append(brand.text)\n",
    "        \n",
    "for desc in descs:\n",
    "    if desc.text is None:\n",
    "        snek_desc.append('-')\n",
    "    else:\n",
    "        snek_desc.append(desc.text)\n",
    "        \n",
    "for price in prices:\n",
    "    if price.text is None:\n",
    "        snek_price.append('-')\n",
    "    else:\n",
    "        snek_price.append(price.text)\n",
    "        \n",
    "# Using for loop to append data to our list"
   ]
  },
  {
   "cell_type": "code",
   "execution_count": 83,
   "metadata": {},
   "outputs": [],
   "source": [
    "next_button.click()\n",
    "time.sleep(5)\n",
    "# Going to next page"
   ]
  },
  {
   "cell_type": "code",
   "execution_count": 84,
   "metadata": {},
   "outputs": [],
   "source": [
    "brands = driver.find_elements_by_xpath(\"//h3[@class='product-brand']\")\n",
    "descs = driver.find_elements_by_xpath(\"//h4[@class='product-product']\")\n",
    "prices = driver.find_elements_by_xpath(\"//span[@class='product-discountedPrice']\")\n",
    "\n",
    "for brand in brands:\n",
    "    if brand.text is None:\n",
    "        snek_brand.append('-')\n",
    "    else:\n",
    "        snek_brand.append(brand.text)\n",
    "        \n",
    "for desc in descs:\n",
    "    if desc.text is None:\n",
    "        snek_desc.append('-')\n",
    "    else:\n",
    "        snek_desc.append(desc.text)\n",
    "        \n",
    "for price in prices:\n",
    "    if price.text is None:\n",
    "        snek_price.append('-')\n",
    "    else:\n",
    "        snek_price.append(price.text)\n",
    "\n",
    "# Using for loop to append data to our list"
   ]
  },
  {
   "cell_type": "code",
   "execution_count": 85,
   "metadata": {},
   "outputs": [
    {
     "data": {
      "text/html": [
       "<div>\n",
       "<style scoped>\n",
       "    .dataframe tbody tr th:only-of-type {\n",
       "        vertical-align: middle;\n",
       "    }\n",
       "\n",
       "    .dataframe tbody tr th {\n",
       "        vertical-align: top;\n",
       "    }\n",
       "\n",
       "    .dataframe thead th {\n",
       "        text-align: right;\n",
       "    }\n",
       "</style>\n",
       "<table border=\"1\" class=\"dataframe\">\n",
       "  <thead>\n",
       "    <tr style=\"text-align: right;\">\n",
       "      <th></th>\n",
       "      <th>Brand</th>\n",
       "      <th>Description</th>\n",
       "      <th>Price</th>\n",
       "    </tr>\n",
       "  </thead>\n",
       "  <tbody>\n",
       "    <tr>\n",
       "      <th>0</th>\n",
       "      <td>Cole Haan</td>\n",
       "      <td>Women Leather Kitten Heels</td>\n",
       "      <td>Rs. 6799</td>\n",
       "    </tr>\n",
       "    <tr>\n",
       "      <th>1</th>\n",
       "      <td>ALDO</td>\n",
       "      <td>Men Leather Formal Derbys</td>\n",
       "      <td>Rs. 5599</td>\n",
       "    </tr>\n",
       "    <tr>\n",
       "      <th>2</th>\n",
       "      <td>Cole Haan</td>\n",
       "      <td>Women High Top Heeled Boots</td>\n",
       "      <td>Rs. 7599</td>\n",
       "    </tr>\n",
       "    <tr>\n",
       "      <th>3</th>\n",
       "      <td>Cole Haan</td>\n",
       "      <td>Women ZeroGrand All Day Stitchlite Runner Snea...</td>\n",
       "      <td>Rs. 6399</td>\n",
       "    </tr>\n",
       "    <tr>\n",
       "      <th>4</th>\n",
       "      <td>ALDO</td>\n",
       "      <td>Women Heeled Boots</td>\n",
       "      <td>Rs. 5999</td>\n",
       "    </tr>\n",
       "    <tr>\n",
       "      <th>...</th>\n",
       "      <td>...</td>\n",
       "      <td>...</td>\n",
       "      <td>...</td>\n",
       "    </tr>\n",
       "    <tr>\n",
       "      <th>95</th>\n",
       "      <td>ADIDAS</td>\n",
       "      <td>Men Ultraboost DNA CC_1 Shoes</td>\n",
       "      <td>Rs. 10199</td>\n",
       "    </tr>\n",
       "    <tr>\n",
       "      <th>96</th>\n",
       "      <td>Nike</td>\n",
       "      <td>Women ZOOM FLY 3 Running Shoes</td>\n",
       "      <td>Rs. 8397</td>\n",
       "    </tr>\n",
       "    <tr>\n",
       "      <th>97</th>\n",
       "      <td>ADIDAS Originals</td>\n",
       "      <td>Men NMD_R1 Spectoo Sneakers</td>\n",
       "      <td>Rs. 8399</td>\n",
       "    </tr>\n",
       "    <tr>\n",
       "      <th>98</th>\n",
       "      <td>Nike</td>\n",
       "      <td>Women AIR ZOOM Running Shoes</td>\n",
       "      <td>Rs. 6177</td>\n",
       "    </tr>\n",
       "    <tr>\n",
       "      <th>99</th>\n",
       "      <td>Nike</td>\n",
       "      <td>Women AIR ZOOM Running</td>\n",
       "      <td>Rs. 8097</td>\n",
       "    </tr>\n",
       "  </tbody>\n",
       "</table>\n",
       "<p>100 rows × 3 columns</p>\n",
       "</div>"
      ],
      "text/plain": [
       "               Brand                                        Description  \\\n",
       "0          Cole Haan                         Women Leather Kitten Heels   \n",
       "1               ALDO                          Men Leather Formal Derbys   \n",
       "2          Cole Haan                        Women High Top Heeled Boots   \n",
       "3          Cole Haan  Women ZeroGrand All Day Stitchlite Runner Snea...   \n",
       "4               ALDO                                 Women Heeled Boots   \n",
       "..               ...                                                ...   \n",
       "95            ADIDAS                      Men Ultraboost DNA CC_1 Shoes   \n",
       "96              Nike                     Women ZOOM FLY 3 Running Shoes   \n",
       "97  ADIDAS Originals                        Men NMD_R1 Spectoo Sneakers   \n",
       "98              Nike                       Women AIR ZOOM Running Shoes   \n",
       "99              Nike                             Women AIR ZOOM Running   \n",
       "\n",
       "        Price  \n",
       "0    Rs. 6799  \n",
       "1    Rs. 5599  \n",
       "2    Rs. 7599  \n",
       "3    Rs. 6399  \n",
       "4    Rs. 5999  \n",
       "..        ...  \n",
       "95  Rs. 10199  \n",
       "96   Rs. 8397  \n",
       "97   Rs. 8399  \n",
       "98   Rs. 6177  \n",
       "99   Rs. 8097  \n",
       "\n",
       "[100 rows x 3 columns]"
      ]
     },
     "execution_count": 85,
     "metadata": {},
     "output_type": "execute_result"
    }
   ],
   "source": [
    "snek_df = pd.DataFrame({})\n",
    "snek_df['Brand'] = snek_brand\n",
    "snek_df['Description'] = snek_desc\n",
    "snek_df['Price'] = snek_price\n",
    "\n",
    "snek_df\n",
    "\n",
    "# Initiaitng and printing data frame"
   ]
  },
  {
   "cell_type": "code",
   "execution_count": 86,
   "metadata": {},
   "outputs": [],
   "source": [
    "time.sleep(5)\n",
    "driver.quit()"
   ]
  },
  {
   "cell_type": "markdown",
   "metadata": {},
   "source": [
    "### Beginning of question 10"
   ]
  },
  {
   "cell_type": "code",
   "execution_count": 87,
   "metadata": {},
   "outputs": [],
   "source": [
    "from selenium import webdriver\n",
    "from selenium.webdriver.common.keys import Keys\n",
    "import time\n",
    "import pandas as pd\n",
    "import time   \n",
    "from selenium.common.exceptions import NoSuchElementException # Required libraries"
   ]
  },
  {
   "cell_type": "code",
   "execution_count": 88,
   "metadata": {},
   "outputs": [],
   "source": [
    "PATH = \"C:\\Program Files (x86)\\chromedriver.exe\""
   ]
  },
  {
   "cell_type": "code",
   "execution_count": 89,
   "metadata": {},
   "outputs": [],
   "source": [
    "driver = webdriver.Chrome(PATH)\n",
    "driver.get(\"https://www.amazon.in/\")\n",
    "\n",
    "time.sleep(3)"
   ]
  },
  {
   "cell_type": "code",
   "execution_count": 90,
   "metadata": {},
   "outputs": [],
   "source": [
    "search_bar = driver.find_element_by_id('twotabsearchtextbox')\n",
    "search_but = driver.find_element_by_id('nav-search-submit-button')\n",
    "# Finding search bar and search button"
   ]
  },
  {
   "cell_type": "code",
   "execution_count": 91,
   "metadata": {},
   "outputs": [],
   "source": [
    "search_bar.send_keys('Laptop')\n",
    "search_but.click()\n",
    "# Entering data in search bar and clickign search button"
   ]
  },
  {
   "cell_type": "code",
   "execution_count": 92,
   "metadata": {},
   "outputs": [],
   "source": [
    "driver.find_element_by_xpath(\"//li[@aria-label='Intel Core i7']/span\").click()\n",
    "time.sleep(2)\n",
    "# This is i7 check box"
   ]
  },
  {
   "cell_type": "code",
   "execution_count": 93,
   "metadata": {},
   "outputs": [],
   "source": [
    "driver.find_element_by_xpath(\"//li[@aria-label='Intel Core i9']/span\").click()\n",
    "time.sleep(2)\n",
    "# This is i9 check box"
   ]
  },
  {
   "cell_type": "code",
   "execution_count": 94,
   "metadata": {},
   "outputs": [],
   "source": [
    "titles =  driver.find_elements_by_xpath(\"//span[@class='a-size-medium a-color-base a-text-normal']\")\n",
    "ratings = driver.find_elements_by_xpath(\"//div[@class='a-row a-size-small']/span\")\n",
    "prices = driver.find_elements_by_xpath(\"//span[@class='a-price-whole']\")\n",
    "# These are the attributes we need to fetch"
   ]
  },
  {
   "cell_type": "code",
   "execution_count": 95,
   "metadata": {},
   "outputs": [],
   "source": [
    "title_list = []\n",
    "rating_list = []\n",
    "price_list = []\n",
    "# Initiating empty lists"
   ]
  },
  {
   "cell_type": "code",
   "execution_count": 96,
   "metadata": {},
   "outputs": [],
   "source": [
    "for i in titles:\n",
    "    if i.text is None:\n",
    "        title_list.append('-')\n",
    "    else:\n",
    "        title_list.append(i.text)\n",
    "        \n",
    "for i in ratings:\n",
    "    if i.text is None:\n",
    "        rating_list.append('-')\n",
    "    else:\n",
    "        rating_list.append(i.text)\n",
    "        \n",
    "for i in prices:\n",
    "    if i.text is None:\n",
    "        price_list.append('-')\n",
    "    else:\n",
    "        price_list.append(i.text)\n",
    "        \n",
    "# Using for loop to append data to our list"
   ]
  },
  {
   "cell_type": "code",
   "execution_count": 97,
   "metadata": {},
   "outputs": [],
   "source": [
    "rats = []\n",
    "for i in range(1,len(rating_list),2):\n",
    "    rats.append(rating_list[i])\n",
    "# Removign empty data"
   ]
  },
  {
   "cell_type": "code",
   "execution_count": 98,
   "metadata": {},
   "outputs": [],
   "source": [
    "rats = rats[:10]\n",
    "name = title_list[:10]\n",
    "pric = price_list[:10]\n",
    "# Truncating list"
   ]
  },
  {
   "cell_type": "code",
   "execution_count": 99,
   "metadata": {},
   "outputs": [
    {
     "data": {
      "text/html": [
       "<div>\n",
       "<style scoped>\n",
       "    .dataframe tbody tr th:only-of-type {\n",
       "        vertical-align: middle;\n",
       "    }\n",
       "\n",
       "    .dataframe tbody tr th {\n",
       "        vertical-align: top;\n",
       "    }\n",
       "\n",
       "    .dataframe thead th {\n",
       "        text-align: right;\n",
       "    }\n",
       "</style>\n",
       "<table border=\"1\" class=\"dataframe\">\n",
       "  <thead>\n",
       "    <tr style=\"text-align: right;\">\n",
       "      <th></th>\n",
       "      <th>Title</th>\n",
       "      <th>Total ratings</th>\n",
       "      <th>Price</th>\n",
       "    </tr>\n",
       "  </thead>\n",
       "  <tbody>\n",
       "    <tr>\n",
       "      <th>0</th>\n",
       "      <td>HP Envy 11th Gen Core i7 Processor 13.3-inch (...</td>\n",
       "      <td>218</td>\n",
       "      <td>1,09,990</td>\n",
       "    </tr>\n",
       "    <tr>\n",
       "      <th>1</th>\n",
       "      <td>Lenovo Yoga 7 11th Gen Intel Core i7-1165G7 14...</td>\n",
       "      <td>37</td>\n",
       "      <td>1,03,100</td>\n",
       "    </tr>\n",
       "    <tr>\n",
       "      <th>2</th>\n",
       "      <td>MSI GF65 Thin, Intel i7-10750H, 15.6\" FHD (39....</td>\n",
       "      <td>25</td>\n",
       "      <td>81,990</td>\n",
       "    </tr>\n",
       "    <tr>\n",
       "      <th>3</th>\n",
       "      <td>HP Pavilion (2021) Thin &amp; Light 11th Gen Core ...</td>\n",
       "      <td>259</td>\n",
       "      <td>84,990</td>\n",
       "    </tr>\n",
       "    <tr>\n",
       "      <th>4</th>\n",
       "      <td>Mi Notebook Horizon Edition 14 Intel Core i7-1...</td>\n",
       "      <td>1,025</td>\n",
       "      <td>59,490</td>\n",
       "    </tr>\n",
       "    <tr>\n",
       "      <th>5</th>\n",
       "      <td>HP Pavilion Gaming(2021) 10th Gen Intel Core i...</td>\n",
       "      <td>471</td>\n",
       "      <td>89,990</td>\n",
       "    </tr>\n",
       "    <tr>\n",
       "      <th>6</th>\n",
       "      <td>ASUS TUF Gaming F15 (2020), 15.6-inch (39.62 c...</td>\n",
       "      <td>8</td>\n",
       "      <td>71,990</td>\n",
       "    </tr>\n",
       "    <tr>\n",
       "      <th>7</th>\n",
       "      <td>HP Envy 11th Gen Core i7 Processor 13.3-inch (...</td>\n",
       "      <td>218</td>\n",
       "      <td>1,09,990</td>\n",
       "    </tr>\n",
       "    <tr>\n",
       "      <th>8</th>\n",
       "      <td>MSI GF75 Thin, Intel i7-10750H, 17.3\" (43.9 cm...</td>\n",
       "      <td>6</td>\n",
       "      <td>74,990</td>\n",
       "    </tr>\n",
       "    <tr>\n",
       "      <th>9</th>\n",
       "      <td>ASUS TUF Dash F15 (2021), 15.6\" (39.62 cms) FH...</td>\n",
       "      <td>5</td>\n",
       "      <td>1,07,990</td>\n",
       "    </tr>\n",
       "  </tbody>\n",
       "</table>\n",
       "</div>"
      ],
      "text/plain": [
       "                                               Title Total ratings     Price\n",
       "0  HP Envy 11th Gen Core i7 Processor 13.3-inch (...           218  1,09,990\n",
       "1  Lenovo Yoga 7 11th Gen Intel Core i7-1165G7 14...            37  1,03,100\n",
       "2  MSI GF65 Thin, Intel i7-10750H, 15.6\" FHD (39....            25    81,990\n",
       "3  HP Pavilion (2021) Thin & Light 11th Gen Core ...           259    84,990\n",
       "4  Mi Notebook Horizon Edition 14 Intel Core i7-1...         1,025    59,490\n",
       "5  HP Pavilion Gaming(2021) 10th Gen Intel Core i...           471    89,990\n",
       "6  ASUS TUF Gaming F15 (2020), 15.6-inch (39.62 c...             8    71,990\n",
       "7  HP Envy 11th Gen Core i7 Processor 13.3-inch (...           218  1,09,990\n",
       "8  MSI GF75 Thin, Intel i7-10750H, 17.3\" (43.9 cm...             6    74,990\n",
       "9  ASUS TUF Dash F15 (2021), 15.6\" (39.62 cms) FH...             5  1,07,990"
      ]
     },
     "execution_count": 99,
     "metadata": {},
     "output_type": "execute_result"
    }
   ],
   "source": [
    "laptop = pd.DataFrame({})\n",
    "laptop['Title'] = name\n",
    "laptop['Total ratings'] = rats\n",
    "laptop['Price'] = pric\n",
    "\n",
    "laptop\n",
    "\n",
    "# Initiating and printing data frame"
   ]
  },
  {
   "cell_type": "code",
   "execution_count": 100,
   "metadata": {},
   "outputs": [],
   "source": [
    "time.sleep(5)\n",
    "driver.quit()"
   ]
  },
  {
   "cell_type": "markdown",
   "metadata": {},
   "source": [
    "## This is the end of Web scraping -2 assignment. Thank you!"
   ]
  }
 ],
 "metadata": {
  "kernelspec": {
   "display_name": "Python 3",
   "language": "python",
   "name": "python3"
  },
  "language_info": {
   "codemirror_mode": {
    "name": "ipython",
    "version": 3
   },
   "file_extension": ".py",
   "mimetype": "text/x-python",
   "name": "python",
   "nbconvert_exporter": "python",
   "pygments_lexer": "ipython3",
   "version": "3.8.5"
  }
 },
 "nbformat": 4,
 "nbformat_minor": 4
}
