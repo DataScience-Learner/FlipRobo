{
 "cells": [
  {
   "cell_type": "markdown",
   "metadata": {},
   "source": [
    "## Web-Scraping Assignment-3"
   ]
  },
  {
   "cell_type": "markdown",
   "metadata": {},
   "source": [
    "### Question 1 "
   ]
  },
  {
   "cell_type": "code",
   "execution_count": 1,
   "metadata": {},
   "outputs": [],
   "source": [
    "from selenium import webdriver\n",
    "from selenium.webdriver.common.keys import Keys\n",
    "import time\n",
    "import pandas as pd # Importing the required libraries\n",
    "from selenium.webdriver.common.by import By\n",
    "from selenium.webdriver.support.ui import WebDriverWait\n",
    "from selenium.webdriver.support import expected_conditions as EC\n",
    "from selenium.common.exceptions import NoSuchElementException"
   ]
  },
  {
   "cell_type": "code",
   "execution_count": 2,
   "metadata": {},
   "outputs": [],
   "source": [
    "PATH = \"C:\\Program Files (x86)\\chromedriver.exe\" # Defining path"
   ]
  },
  {
   "cell_type": "code",
   "execution_count": 3,
   "metadata": {},
   "outputs": [],
   "source": [
    "driver = webdriver.Chrome(PATH)\n",
    "driver.get(\"https://www.amazon.in/\")\n",
    "\n",
    "time.sleep(2)"
   ]
  },
  {
   "cell_type": "code",
   "execution_count": 4,
   "metadata": {},
   "outputs": [],
   "source": [
    "search_bar = driver.find_element_by_id('twotabsearchtextbox')\n",
    "search_but = driver.find_element_by_id('nav-search-submit-button')\n",
    "# Finding search bar and search button"
   ]
  },
  {
   "cell_type": "code",
   "execution_count": 5,
   "metadata": {},
   "outputs": [
    {
     "name": "stdout",
     "output_type": "stream",
     "text": [
      "What would you like to search for? guitar\n"
     ]
    }
   ],
   "source": [
    "search_for = input('What would you like to search for? ') # Taking input from the user"
   ]
  },
  {
   "cell_type": "code",
   "execution_count": 6,
   "metadata": {},
   "outputs": [],
   "source": [
    "search_bar.send_keys(search_for) # testing\n",
    "search_but.click() # We have searched what the user input"
   ]
  },
  {
   "cell_type": "markdown",
   "metadata": {},
   "source": [
    "### Question 2:"
   ]
  },
  {
   "cell_type": "code",
   "execution_count": 7,
   "metadata": {},
   "outputs": [],
   "source": [
    "listings = driver.find_elements_by_xpath(\"//a[@class='a-link-normal a-text-normal']\")"
   ]
  },
  {
   "cell_type": "code",
   "execution_count": 8,
   "metadata": {},
   "outputs": [],
   "source": [
    "urls = []\n",
    "for url in listings:\n",
    "    urls.append(url.get_attribute('href')) "
   ]
  },
  {
   "cell_type": "code",
   "execution_count": 9,
   "metadata": {},
   "outputs": [],
   "source": [
    "listings = driver.find_elements_by_xpath(\"//a[@class='a-link-normal a-text-normal']\")\n",
    "next_button = driver.find_element_by_xpath(\"//a[@class='s-pagination-item s-pagination-next s-pagination-button s-pagination-separator'] | //li[@class='a-last']\")\n",
    "for url in listings:\n",
    "    urls.append(url.get_attribute('href'))\n"
   ]
  },
  {
   "cell_type": "code",
   "execution_count": 10,
   "metadata": {},
   "outputs": [],
   "source": [
    "next_button.click()\n",
    "time.sleep(3)"
   ]
  },
  {
   "cell_type": "code",
   "execution_count": 11,
   "metadata": {},
   "outputs": [],
   "source": [
    "listings = driver.find_elements_by_xpath(\"//a[@class='a-link-normal a-text-normal']\")\n",
    "next_button = driver.find_element_by_xpath(\"//a[@class='s-pagination-item s-pagination-next s-pagination-button s-pagination-separator'] | //li[@class='a-last']\")\n",
    "for url in listings:\n",
    "    urls.append(url.get_attribute('href'))"
   ]
  },
  {
   "cell_type": "code",
   "execution_count": 12,
   "metadata": {},
   "outputs": [],
   "source": [
    "next_button.click()\n",
    "time.sleep(3)"
   ]
  },
  {
   "cell_type": "code",
   "execution_count": 13,
   "metadata": {},
   "outputs": [],
   "source": [
    "listings = driver.find_elements_by_xpath(\"//a[@class='a-link-normal a-text-normal']\")\n",
    "next_button = driver.find_element_by_xpath(\"//a[@class='s-pagination-item s-pagination-next s-pagination-button s-pagination-separator'] | //li[@class='a-last']\")\n",
    "for url in listings:\n",
    "    urls.append(url.get_attribute('href'))"
   ]
  },
  {
   "cell_type": "code",
   "execution_count": 14,
   "metadata": {},
   "outputs": [],
   "source": [
    "product_names = []\n",
    "brand_names = []\n",
    "ratings = []\n",
    "no_ratings = []\n",
    "prices = []\n",
    "exchanges = []\n",
    "del_dates = []\n",
    "avails = []\n",
    "other_details = []\n",
    "links = []\n"
   ]
  },
  {
   "cell_type": "code",
   "execution_count": 15,
   "metadata": {},
   "outputs": [],
   "source": [
    "for link in urls:\n",
    "    driver.get(link)\n",
    "    try:\n",
    "        element = WebDriverWait(driver, 10).until(\n",
    "            EC.presence_of_element_located((By.ID, \"productTitle\"))\n",
    "        )\n",
    "    except:\n",
    "        driver.quit()\n",
    "        \n",
    "    try:\n",
    "        name = driver.find_element_by_xpath(\"//span[@id='productTitle']\")\n",
    "        product_names.append(name.text)\n",
    "    except NoSuchElementException:\n",
    "        product_names.append('-')\n",
    "        \n",
    "    try:\n",
    "        brand = driver.find_element_by_xpath(\"//a[@id='bylineInfo']\")\n",
    "        brand_names.append(brand.text)\n",
    "    except NoSuchElementException:\n",
    "        brand_names.append('-')\n",
    "        \n",
    "    try:\n",
    "        rats = driver.find_element_by_xpath(\"//a[@class='a-popover-trigger a-declarative']/i/span\")\n",
    "        ratings.append(rats.text)\n",
    "    except NoSuchElementException:\n",
    "        ratings.append('-')\n",
    "        \n",
    "    try:\n",
    "        n_r = driver.find_element_by_xpath(\"//span[@id='acrCustomerReviewText']\")\n",
    "        no_ratings.append(n_r.text)\n",
    "    except NoSuchElementException:\n",
    "        no_ratings.append('-')\n",
    "        \n",
    "    try:\n",
    "        price = driver.find_element_by_xpath(\"//span[@id='priceblock_ourprice']\")\n",
    "        prices.append(price.text)\n",
    "    except NoSuchElementException:\n",
    "        prices.append('-')\n",
    "        \n",
    "    try:\n",
    "        excs = driver.find_elements_by_xpath(\"//div[@class='a-section a-spacing-none icon-content']\")\n",
    "        try: \n",
    "            exchanges.append(excs[1].text)\n",
    "        except:\n",
    "            continue\n",
    "    except NoSuchElementException:\n",
    "        exchanges.append('-')\n",
    "        \n",
    "    try:\n",
    "        dels = driver.find_element_by_xpath(\"//div[@id='ddmDeliveryMessage']/b\")\n",
    "        del_dates.append(dels.text)\n",
    "    except NoSuchElementException:\n",
    "        del_dates.append('-')\n",
    "        \n",
    "    try:\n",
    "        ava = driver.find_element_by_xpath(\"//span[@class='a-size-medium a-color-price'] | //span[@class='a-size-medium a-color-success'] \")\n",
    "        avails.append(ava.text)\n",
    "    except NoSuchElementException:\n",
    "        avails.append('-')\n",
    "        \n",
    "    try:\n",
    "        det = driver.find_element_by_xpath(\"//div[@id='productDescription']\")\n",
    "        other_details.append(det.text)\n",
    "    except NoSuchElementException:\n",
    "        other_details.append('-')\n",
    "        \n",
    "    try:\n",
    "        links.append(link)\n",
    "    except:\n",
    "        links.append('-')\n",
    "    \n",
    "    "
   ]
  },
  {
   "cell_type": "code",
   "execution_count": 20,
   "metadata": {},
   "outputs": [],
   "source": [
    "# first 200\n",
    "product_names = product_names[:200]\n",
    "brand_names = brand_names[:200]\n",
    "ratings = ratings[:200]\n",
    "no_ratings = no_ratings[:200]\n",
    "prices = prices[:200]\n",
    "exchanges = exchanges[:200]\n",
    "del_dates = del_dates[:200]\n",
    "avails = avails[:200]\n",
    "other_details = other_details[:200]\n",
    "links = links[:200]"
   ]
  },
  {
   "cell_type": "code",
   "execution_count": 21,
   "metadata": {},
   "outputs": [],
   "source": [
    "ama_df = pd.DataFrame({})\n",
    "ama_df['Name'] = product_names \n",
    "ama_df['Brand'] = brand_names \n",
    "ama_df['Rating'] = ratings \n",
    "ama_df['No. ratings'] = no_ratings \n",
    "ama_df['Price'] = prices \n",
    "ama_df['Exchange'] = exchanges \n",
    "ama_df['Delivery Date'] = del_dates \n",
    "ama_df['Availability'] = avails \n",
    "ama_df['Details'] = other_details \n",
    "ama_df['Links'] = links \n"
   ]
  },
  {
   "cell_type": "code",
   "execution_count": 22,
   "metadata": {},
   "outputs": [
    {
     "data": {
      "text/html": [
       "<div>\n",
       "<style scoped>\n",
       "    .dataframe tbody tr th:only-of-type {\n",
       "        vertical-align: middle;\n",
       "    }\n",
       "\n",
       "    .dataframe tbody tr th {\n",
       "        vertical-align: top;\n",
       "    }\n",
       "\n",
       "    .dataframe thead th {\n",
       "        text-align: right;\n",
       "    }\n",
       "</style>\n",
       "<table border=\"1\" class=\"dataframe\">\n",
       "  <thead>\n",
       "    <tr style=\"text-align: right;\">\n",
       "      <th></th>\n",
       "      <th>Name</th>\n",
       "      <th>Brand</th>\n",
       "      <th>Rating</th>\n",
       "      <th>No. ratings</th>\n",
       "      <th>Price</th>\n",
       "      <th>Exchange</th>\n",
       "      <th>Delivery Date</th>\n",
       "      <th>Availability</th>\n",
       "      <th>Details</th>\n",
       "      <th>Links</th>\n",
       "    </tr>\n",
       "  </thead>\n",
       "  <tbody>\n",
       "    <tr>\n",
       "      <th>0</th>\n",
       "      <td>Kadence Frontier Jumbo Semi Acoustic Guitar Wi...</td>\n",
       "      <td>Visit the Kadence Store</td>\n",
       "      <td></td>\n",
       "      <td>984 ratings</td>\n",
       "      <td>-</td>\n",
       "      <td>7 Days Replacement</td>\n",
       "      <td>Saturday, Aug 28</td>\n",
       "      <td>In stock.</td>\n",
       "      <td>-</td>\n",
       "      <td>https://www.amazon.in/gp/slredirect/picassoRed...</td>\n",
       "    </tr>\n",
       "    <tr>\n",
       "      <th>1</th>\n",
       "      <td>Kadence Frontier Series, Natural Acoustic Guit...</td>\n",
       "      <td>Visit the Kadence Store</td>\n",
       "      <td></td>\n",
       "      <td>75 ratings</td>\n",
       "      <td>-</td>\n",
       "      <td>7 Days Replacement</td>\n",
       "      <td>Wednesday, Aug 25</td>\n",
       "      <td>In stock.</td>\n",
       "      <td>-</td>\n",
       "      <td>https://www.amazon.in/gp/slredirect/picassoRed...</td>\n",
       "    </tr>\n",
       "    <tr>\n",
       "      <th>2</th>\n",
       "      <td>GUITAR BRO - COMBO (Black Acoustic Guitar for ...</td>\n",
       "      <td>Visit the Guitar Bro Store</td>\n",
       "      <td></td>\n",
       "      <td>28 ratings</td>\n",
       "      <td>₹6,499.00</td>\n",
       "      <td>15 Day Warranty</td>\n",
       "      <td>Aug 28 - Sep 1</td>\n",
       "      <td>In stock.</td>\n",
       "      <td>-</td>\n",
       "      <td>https://www.amazon.in/gp/slredirect/picassoRed...</td>\n",
       "    </tr>\n",
       "    <tr>\n",
       "      <th>3</th>\n",
       "      <td>Laxmi Musical Electronics - Acoustic Pickup fo...</td>\n",
       "      <td>Brand: LME</td>\n",
       "      <td></td>\n",
       "      <td>7 ratings</td>\n",
       "      <td>₹599.00</td>\n",
       "      <td>7 Days Replacement</td>\n",
       "      <td>Friday, Aug 27</td>\n",
       "      <td>In stock.</td>\n",
       "      <td>Easy to use Easy to install: can be clip-on to...</td>\n",
       "      <td>https://www.amazon.in/gp/slredirect/picassoRed...</td>\n",
       "    </tr>\n",
       "    <tr>\n",
       "      <th>4</th>\n",
       "      <td>Juârez Acoustic Guitar, 38 Inch Cutaway, 038C ...</td>\n",
       "      <td>Visit the JUAREZ Store</td>\n",
       "      <td></td>\n",
       "      <td>12,210 ratings</td>\n",
       "      <td>₹2,649.00</td>\n",
       "      <td>7 Days Replacement</td>\n",
       "      <td>Friday, Aug 27</td>\n",
       "      <td>In stock.</td>\n",
       "      <td>-</td>\n",
       "      <td>https://www.amazon.in/Juarez-Acoustic-Cutaway-...</td>\n",
       "    </tr>\n",
       "    <tr>\n",
       "      <th>...</th>\n",
       "      <td>...</td>\n",
       "      <td>...</td>\n",
       "      <td>...</td>\n",
       "      <td>...</td>\n",
       "      <td>...</td>\n",
       "      <td>...</td>\n",
       "      <td>...</td>\n",
       "      <td>...</td>\n",
       "      <td>...</td>\n",
       "      <td>...</td>\n",
       "    </tr>\n",
       "    <tr>\n",
       "      <th>195</th>\n",
       "      <td>Juârez Acoustic Guitar, 38 Inch Cutaway, 038C ...</td>\n",
       "      <td>Visit the JUAREZ Store</td>\n",
       "      <td></td>\n",
       "      <td>9 ratings</td>\n",
       "      <td>₹2,794.00</td>\n",
       "      <td>Amazon Delivered</td>\n",
       "      <td>Saturday, Aug 28</td>\n",
       "      <td>In stock.</td>\n",
       "      <td>This guitar has good sound quality &amp; good wood...</td>\n",
       "      <td>https://www.amazon.in/CARTIFY-4-string-acousti...</td>\n",
       "    </tr>\n",
       "    <tr>\n",
       "      <th>196</th>\n",
       "      <td>Jixing JXNG-BLK,Black Acoustic Guitar with Sta...</td>\n",
       "      <td>Brand: Jixing</td>\n",
       "      <td></td>\n",
       "      <td>755 ratings</td>\n",
       "      <td>₹3,499.00</td>\n",
       "      <td>7 Days Replacement</td>\n",
       "      <td>Friday, Aug 27</td>\n",
       "      <td>In stock.</td>\n",
       "      <td>Juarez Arpeggio 39 Inch Acoustic Guitar Kit, S...</td>\n",
       "      <td>https://www.amazon.in/JUAREZ-Arpeggio-Acoustic...</td>\n",
       "    </tr>\n",
       "    <tr>\n",
       "      <th>197</th>\n",
       "      <td>JUAREZ Arpeggio 41 Inch Acoustic Guitar Kit, S...</td>\n",
       "      <td>Brand: JUAREZ</td>\n",
       "      <td></td>\n",
       "      <td>7 ratings</td>\n",
       "      <td>₹5,210.00</td>\n",
       "      <td>Amazon Delivered</td>\n",
       "      <td>Saturday, Aug 28</td>\n",
       "      <td>In stock.</td>\n",
       "      <td>beecow 4 string classical guitar, which unlike...</td>\n",
       "      <td>https://www.amazon.in/beecow-4-String-Acoustic...</td>\n",
       "    </tr>\n",
       "    <tr>\n",
       "      <th>198</th>\n",
       "      <td>Belear Zebrawood, Acoustic Guitar, 38 inch Wit...</td>\n",
       "      <td>Brand: Belear</td>\n",
       "      <td>-</td>\n",
       "      <td>-</td>\n",
       "      <td>₹3,299.00</td>\n",
       "      <td>7 Days Replacement</td>\n",
       "      <td>Saturday, Aug 28</td>\n",
       "      <td>Only 1 left in stock.</td>\n",
       "      <td>If you are a music lover and a fan of acoustic...</td>\n",
       "      <td>https://www.amazon.in/Pluto-HW39C-201-Medium-C...</td>\n",
       "    </tr>\n",
       "    <tr>\n",
       "      <th>199</th>\n",
       "      <td>JUAREZ Arpeggio Guitar JRA41SP-Q-BL - blue</td>\n",
       "      <td>Visit the JUAREZ Store</td>\n",
       "      <td>-</td>\n",
       "      <td>-</td>\n",
       "      <td>₹6,739.00</td>\n",
       "      <td>Amazon Delivered</td>\n",
       "      <td>Aug 28 - 29</td>\n",
       "      <td>In stock.</td>\n",
       "      <td>if you are a music lover and a fan of acoustic...</td>\n",
       "      <td>https://www.amazon.in/Acoustio-musical-acousti...</td>\n",
       "    </tr>\n",
       "  </tbody>\n",
       "</table>\n",
       "<p>200 rows × 10 columns</p>\n",
       "</div>"
      ],
      "text/plain": [
       "                                                  Name  \\\n",
       "0    Kadence Frontier Jumbo Semi Acoustic Guitar Wi...   \n",
       "1    Kadence Frontier Series, Natural Acoustic Guit...   \n",
       "2    GUITAR BRO - COMBO (Black Acoustic Guitar for ...   \n",
       "3    Laxmi Musical Electronics - Acoustic Pickup fo...   \n",
       "4    Juârez Acoustic Guitar, 38 Inch Cutaway, 038C ...   \n",
       "..                                                 ...   \n",
       "195  Juârez Acoustic Guitar, 38 Inch Cutaway, 038C ...   \n",
       "196  Jixing JXNG-BLK,Black Acoustic Guitar with Sta...   \n",
       "197  JUAREZ Arpeggio 41 Inch Acoustic Guitar Kit, S...   \n",
       "198  Belear Zebrawood, Acoustic Guitar, 38 inch Wit...   \n",
       "199         JUAREZ Arpeggio Guitar JRA41SP-Q-BL - blue   \n",
       "\n",
       "                          Brand Rating     No. ratings      Price  \\\n",
       "0       Visit the Kadence Store            984 ratings          -   \n",
       "1       Visit the Kadence Store             75 ratings          -   \n",
       "2    Visit the Guitar Bro Store             28 ratings  ₹6,499.00   \n",
       "3                    Brand: LME              7 ratings    ₹599.00   \n",
       "4        Visit the JUAREZ Store         12,210 ratings  ₹2,649.00   \n",
       "..                          ...    ...             ...        ...   \n",
       "195      Visit the JUAREZ Store              9 ratings  ₹2,794.00   \n",
       "196               Brand: Jixing            755 ratings  ₹3,499.00   \n",
       "197               Brand: JUAREZ              7 ratings  ₹5,210.00   \n",
       "198               Brand: Belear      -               -  ₹3,299.00   \n",
       "199      Visit the JUAREZ Store      -               -  ₹6,739.00   \n",
       "\n",
       "               Exchange      Delivery Date           Availability  \\\n",
       "0    7 Days Replacement   Saturday, Aug 28              In stock.   \n",
       "1    7 Days Replacement  Wednesday, Aug 25              In stock.   \n",
       "2       15 Day Warranty     Aug 28 - Sep 1              In stock.   \n",
       "3    7 Days Replacement     Friday, Aug 27              In stock.   \n",
       "4    7 Days Replacement     Friday, Aug 27              In stock.   \n",
       "..                  ...                ...                    ...   \n",
       "195    Amazon Delivered   Saturday, Aug 28              In stock.   \n",
       "196  7 Days Replacement     Friday, Aug 27              In stock.   \n",
       "197    Amazon Delivered   Saturday, Aug 28              In stock.   \n",
       "198  7 Days Replacement   Saturday, Aug 28  Only 1 left in stock.   \n",
       "199    Amazon Delivered        Aug 28 - 29              In stock.   \n",
       "\n",
       "                                               Details  \\\n",
       "0                                                    -   \n",
       "1                                                    -   \n",
       "2                                                    -   \n",
       "3    Easy to use Easy to install: can be clip-on to...   \n",
       "4                                                    -   \n",
       "..                                                 ...   \n",
       "195  This guitar has good sound quality & good wood...   \n",
       "196  Juarez Arpeggio 39 Inch Acoustic Guitar Kit, S...   \n",
       "197  beecow 4 string classical guitar, which unlike...   \n",
       "198  If you are a music lover and a fan of acoustic...   \n",
       "199  if you are a music lover and a fan of acoustic...   \n",
       "\n",
       "                                                 Links  \n",
       "0    https://www.amazon.in/gp/slredirect/picassoRed...  \n",
       "1    https://www.amazon.in/gp/slredirect/picassoRed...  \n",
       "2    https://www.amazon.in/gp/slredirect/picassoRed...  \n",
       "3    https://www.amazon.in/gp/slredirect/picassoRed...  \n",
       "4    https://www.amazon.in/Juarez-Acoustic-Cutaway-...  \n",
       "..                                                 ...  \n",
       "195  https://www.amazon.in/CARTIFY-4-string-acousti...  \n",
       "196  https://www.amazon.in/JUAREZ-Arpeggio-Acoustic...  \n",
       "197  https://www.amazon.in/beecow-4-String-Acoustic...  \n",
       "198  https://www.amazon.in/Pluto-HW39C-201-Medium-C...  \n",
       "199  https://www.amazon.in/Acoustio-musical-acousti...  \n",
       "\n",
       "[200 rows x 10 columns]"
      ]
     },
     "execution_count": 22,
     "metadata": {},
     "output_type": "execute_result"
    }
   ],
   "source": [
    "ama_df"
   ]
  },
  {
   "cell_type": "code",
   "execution_count": 23,
   "metadata": {},
   "outputs": [],
   "source": [
    "time.sleep(5)\n",
    "driver.quit()"
   ]
  },
  {
   "cell_type": "markdown",
   "metadata": {},
   "source": [
    "### Question 3:"
   ]
  },
  {
   "cell_type": "code",
   "execution_count": 24,
   "metadata": {},
   "outputs": [],
   "source": [
    "from selenium import webdriver\n",
    "from selenium.webdriver.common.keys import Keys\n",
    "import time\n",
    "import pandas as pd # Importing the required libraries\n",
    "from selenium.webdriver.common.by import By\n",
    "from selenium.webdriver.support.ui import WebDriverWait\n",
    "from selenium.webdriver.support import expected_conditions as EC\n",
    "from selenium.common.exceptions import NoSuchElementException"
   ]
  },
  {
   "cell_type": "code",
   "execution_count": 25,
   "metadata": {},
   "outputs": [],
   "source": [
    "PATH = \"C:\\Program Files (x86)\\chromedriver.exe\""
   ]
  },
  {
   "cell_type": "code",
   "execution_count": 26,
   "metadata": {},
   "outputs": [],
   "source": [
    "driver = webdriver.Chrome(PATH)\n",
    "driver.get(\"https://images.google.com/?gws_rd=ssl\")\n",
    "time.sleep(3)\n",
    "search_bar = driver.find_element_by_xpath(\"//input[@class='gLFyf gsfi']\")\n",
    "search_button = driver.find_element_by_xpath(\"//button[@class='Tg7LZd']\")"
   ]
  },
  {
   "cell_type": "code",
   "execution_count": 27,
   "metadata": {},
   "outputs": [],
   "source": [
    "driver.set_window_size(1024, 600)\n",
    "driver.maximize_window()"
   ]
  },
  {
   "cell_type": "code",
   "execution_count": 28,
   "metadata": {},
   "outputs": [],
   "source": [
    "keys = ['fruits','cars','machine learning']"
   ]
  },
  {
   "cell_type": "code",
   "execution_count": 29,
   "metadata": {},
   "outputs": [],
   "source": [
    "search_bar.send_keys(keys[0])\n",
    "search_button.click()"
   ]
  },
  {
   "cell_type": "code",
   "execution_count": 30,
   "metadata": {},
   "outputs": [],
   "source": [
    "driver.execute_script(\"window.scrollTo(0, 8000)\") \n",
    "time.sleep(3)\n",
    "driver.execute_script(\"window.scrollTo(0, 8000)\") "
   ]
  },
  {
   "cell_type": "code",
   "execution_count": 31,
   "metadata": {},
   "outputs": [],
   "source": [
    "images_fruit = driver.find_elements_by_xpath(\"//img[@class='rg_i Q4LuWd']\")\n",
    "fruits = []\n",
    "for url in images_fruit:\n",
    "    fruits.append(url.get_attribute('src'))"
   ]
  },
  {
   "cell_type": "code",
   "execution_count": 32,
   "metadata": {},
   "outputs": [],
   "source": [
    "new_search = driver.find_element_by_xpath(\"//input[@class='og3lId']\") \n",
    "new_but = driver.find_element_by_xpath(\"//button[@class='rCGXm']\") "
   ]
  },
  {
   "cell_type": "code",
   "execution_count": 33,
   "metadata": {},
   "outputs": [],
   "source": [
    "new_search.clear()\n",
    "new_search.send_keys(keys[1])\n",
    "new_but.click()\n",
    "time.sleep(3)"
   ]
  },
  {
   "cell_type": "code",
   "execution_count": 34,
   "metadata": {},
   "outputs": [],
   "source": [
    "driver.execute_script(\"window.scrollTo(0, 8000)\") \n",
    "time.sleep(3)\n",
    "driver.execute_script(\"window.scrollTo(0, 8000)\") "
   ]
  },
  {
   "cell_type": "code",
   "execution_count": 35,
   "metadata": {},
   "outputs": [],
   "source": [
    "images_car = driver.find_elements_by_xpath(\"//img[@class='rg_i Q4LuWd']\")\n",
    "cars = []\n",
    "for url in images_car:\n",
    "    cars.append(url.get_attribute('src'))"
   ]
  },
  {
   "cell_type": "code",
   "execution_count": 36,
   "metadata": {},
   "outputs": [],
   "source": [
    "new_search = driver.find_element_by_xpath(\"//input[@class='og3lId']\") \n",
    "new_but = driver.find_element_by_xpath(\"//button[@class='rCGXm']\") "
   ]
  },
  {
   "cell_type": "code",
   "execution_count": 37,
   "metadata": {},
   "outputs": [],
   "source": [
    "new_search.clear()\n",
    "new_search.send_keys(keys[2])\n",
    "new_but.click()\n",
    "time.sleep(3)"
   ]
  },
  {
   "cell_type": "code",
   "execution_count": 38,
   "metadata": {},
   "outputs": [],
   "source": [
    "driver.execute_script(\"window.scrollTo(0, 8000)\") \n",
    "time.sleep(3)\n",
    "driver.execute_script(\"window.scrollTo(0, 8000)\") "
   ]
  },
  {
   "cell_type": "code",
   "execution_count": 39,
   "metadata": {},
   "outputs": [],
   "source": [
    "images_ml = driver.find_elements_by_xpath(\"//img[@class='rg_i Q4LuWd']\")\n",
    "ml = []\n",
    "for url in images_ml:\n",
    "    ml.append(url.get_attribute('src'))"
   ]
  },
  {
   "cell_type": "code",
   "execution_count": 40,
   "metadata": {},
   "outputs": [],
   "source": [
    "fruits = fruits[:100]\n",
    "cars = cars[:100]\n",
    "ml = ml[:100]"
   ]
  },
  {
   "cell_type": "code",
   "execution_count": 41,
   "metadata": {},
   "outputs": [
    {
     "data": {
      "text/html": [
       "<div>\n",
       "<style scoped>\n",
       "    .dataframe tbody tr th:only-of-type {\n",
       "        vertical-align: middle;\n",
       "    }\n",
       "\n",
       "    .dataframe tbody tr th {\n",
       "        vertical-align: top;\n",
       "    }\n",
       "\n",
       "    .dataframe thead th {\n",
       "        text-align: right;\n",
       "    }\n",
       "</style>\n",
       "<table border=\"1\" class=\"dataframe\">\n",
       "  <thead>\n",
       "    <tr style=\"text-align: right;\">\n",
       "      <th></th>\n",
       "      <th>Fruits</th>\n",
       "      <th>Cars</th>\n",
       "      <th>Machine learning</th>\n",
       "    </tr>\n",
       "  </thead>\n",
       "  <tbody>\n",
       "    <tr>\n",
       "      <th>0</th>\n",
       "      <td>data:image/jpeg;base64,/9j/4AAQSkZJRgABAQAAAQA...</td>\n",
       "      <td>data:image/jpeg;base64,/9j/4AAQSkZJRgABAQAAAQA...</td>\n",
       "      <td>data:image/jpeg;base64,/9j/4AAQSkZJRgABAQAAAQA...</td>\n",
       "    </tr>\n",
       "    <tr>\n",
       "      <th>1</th>\n",
       "      <td>data:image/jpeg;base64,/9j/4AAQSkZJRgABAQAAAQA...</td>\n",
       "      <td>data:image/jpeg;base64,/9j/4AAQSkZJRgABAQAAAQA...</td>\n",
       "      <td>data:image/jpeg;base64,/9j/4AAQSkZJRgABAQAAAQA...</td>\n",
       "    </tr>\n",
       "    <tr>\n",
       "      <th>2</th>\n",
       "      <td>data:image/jpeg;base64,/9j/4AAQSkZJRgABAQAAAQA...</td>\n",
       "      <td>data:image/jpeg;base64,/9j/4AAQSkZJRgABAQAAAQA...</td>\n",
       "      <td>data:image/jpeg;base64,/9j/4AAQSkZJRgABAQAAAQA...</td>\n",
       "    </tr>\n",
       "    <tr>\n",
       "      <th>3</th>\n",
       "      <td>data:image/jpeg;base64,/9j/4AAQSkZJRgABAQAAAQA...</td>\n",
       "      <td>data:image/jpeg;base64,/9j/4AAQSkZJRgABAQAAAQA...</td>\n",
       "      <td>data:image/jpeg;base64,/9j/4AAQSkZJRgABAQAAAQA...</td>\n",
       "    </tr>\n",
       "    <tr>\n",
       "      <th>4</th>\n",
       "      <td>data:image/jpeg;base64,/9j/4AAQSkZJRgABAQAAAQA...</td>\n",
       "      <td>data:image/jpeg;base64,/9j/4AAQSkZJRgABAQAAAQA...</td>\n",
       "      <td>data:image/jpeg;base64,/9j/4AAQSkZJRgABAQAAAQA...</td>\n",
       "    </tr>\n",
       "    <tr>\n",
       "      <th>...</th>\n",
       "      <td>...</td>\n",
       "      <td>...</td>\n",
       "      <td>...</td>\n",
       "    </tr>\n",
       "    <tr>\n",
       "      <th>95</th>\n",
       "      <td>https://encrypted-tbn0.gstatic.com/images?q=tb...</td>\n",
       "      <td>https://encrypted-tbn0.gstatic.com/images?q=tb...</td>\n",
       "      <td>https://encrypted-tbn0.gstatic.com/images?q=tb...</td>\n",
       "    </tr>\n",
       "    <tr>\n",
       "      <th>96</th>\n",
       "      <td>https://encrypted-tbn0.gstatic.com/images?q=tb...</td>\n",
       "      <td>https://encrypted-tbn0.gstatic.com/images?q=tb...</td>\n",
       "      <td>https://encrypted-tbn0.gstatic.com/images?q=tb...</td>\n",
       "    </tr>\n",
       "    <tr>\n",
       "      <th>97</th>\n",
       "      <td>https://encrypted-tbn0.gstatic.com/images?q=tb...</td>\n",
       "      <td>https://encrypted-tbn0.gstatic.com/images?q=tb...</td>\n",
       "      <td>https://encrypted-tbn0.gstatic.com/images?q=tb...</td>\n",
       "    </tr>\n",
       "    <tr>\n",
       "      <th>98</th>\n",
       "      <td>https://encrypted-tbn0.gstatic.com/images?q=tb...</td>\n",
       "      <td>https://encrypted-tbn0.gstatic.com/images?q=tb...</td>\n",
       "      <td>https://encrypted-tbn0.gstatic.com/images?q=tb...</td>\n",
       "    </tr>\n",
       "    <tr>\n",
       "      <th>99</th>\n",
       "      <td>https://encrypted-tbn0.gstatic.com/images?q=tb...</td>\n",
       "      <td>https://encrypted-tbn0.gstatic.com/images?q=tb...</td>\n",
       "      <td>https://encrypted-tbn0.gstatic.com/images?q=tb...</td>\n",
       "    </tr>\n",
       "  </tbody>\n",
       "</table>\n",
       "<p>100 rows × 3 columns</p>\n",
       "</div>"
      ],
      "text/plain": [
       "                                               Fruits  \\\n",
       "0   data:image/jpeg;base64,/9j/4AAQSkZJRgABAQAAAQA...   \n",
       "1   data:image/jpeg;base64,/9j/4AAQSkZJRgABAQAAAQA...   \n",
       "2   data:image/jpeg;base64,/9j/4AAQSkZJRgABAQAAAQA...   \n",
       "3   data:image/jpeg;base64,/9j/4AAQSkZJRgABAQAAAQA...   \n",
       "4   data:image/jpeg;base64,/9j/4AAQSkZJRgABAQAAAQA...   \n",
       "..                                                ...   \n",
       "95  https://encrypted-tbn0.gstatic.com/images?q=tb...   \n",
       "96  https://encrypted-tbn0.gstatic.com/images?q=tb...   \n",
       "97  https://encrypted-tbn0.gstatic.com/images?q=tb...   \n",
       "98  https://encrypted-tbn0.gstatic.com/images?q=tb...   \n",
       "99  https://encrypted-tbn0.gstatic.com/images?q=tb...   \n",
       "\n",
       "                                                 Cars  \\\n",
       "0   data:image/jpeg;base64,/9j/4AAQSkZJRgABAQAAAQA...   \n",
       "1   data:image/jpeg;base64,/9j/4AAQSkZJRgABAQAAAQA...   \n",
       "2   data:image/jpeg;base64,/9j/4AAQSkZJRgABAQAAAQA...   \n",
       "3   data:image/jpeg;base64,/9j/4AAQSkZJRgABAQAAAQA...   \n",
       "4   data:image/jpeg;base64,/9j/4AAQSkZJRgABAQAAAQA...   \n",
       "..                                                ...   \n",
       "95  https://encrypted-tbn0.gstatic.com/images?q=tb...   \n",
       "96  https://encrypted-tbn0.gstatic.com/images?q=tb...   \n",
       "97  https://encrypted-tbn0.gstatic.com/images?q=tb...   \n",
       "98  https://encrypted-tbn0.gstatic.com/images?q=tb...   \n",
       "99  https://encrypted-tbn0.gstatic.com/images?q=tb...   \n",
       "\n",
       "                                     Machine learning  \n",
       "0   data:image/jpeg;base64,/9j/4AAQSkZJRgABAQAAAQA...  \n",
       "1   data:image/jpeg;base64,/9j/4AAQSkZJRgABAQAAAQA...  \n",
       "2   data:image/jpeg;base64,/9j/4AAQSkZJRgABAQAAAQA...  \n",
       "3   data:image/jpeg;base64,/9j/4AAQSkZJRgABAQAAAQA...  \n",
       "4   data:image/jpeg;base64,/9j/4AAQSkZJRgABAQAAAQA...  \n",
       "..                                                ...  \n",
       "95  https://encrypted-tbn0.gstatic.com/images?q=tb...  \n",
       "96  https://encrypted-tbn0.gstatic.com/images?q=tb...  \n",
       "97  https://encrypted-tbn0.gstatic.com/images?q=tb...  \n",
       "98  https://encrypted-tbn0.gstatic.com/images?q=tb...  \n",
       "99  https://encrypted-tbn0.gstatic.com/images?q=tb...  \n",
       "\n",
       "[100 rows x 3 columns]"
      ]
     },
     "execution_count": 41,
     "metadata": {},
     "output_type": "execute_result"
    }
   ],
   "source": [
    "img_df = pd.DataFrame({})\n",
    "img_df['Fruits'] = fruits\n",
    "img_df['Cars'] = cars\n",
    "img_df['Machine learning'] = ml\n",
    "img_df"
   ]
  },
  {
   "cell_type": "code",
   "execution_count": 42,
   "metadata": {},
   "outputs": [],
   "source": [
    "time.sleep(3)\n",
    "driver.quit()"
   ]
  },
  {
   "cell_type": "markdown",
   "metadata": {},
   "source": [
    "### Question 4:"
   ]
  },
  {
   "cell_type": "code",
   "execution_count": 43,
   "metadata": {},
   "outputs": [],
   "source": [
    "from selenium import webdriver\n",
    "from selenium.webdriver.common.keys import Keys\n",
    "import time\n",
    "import pandas as pd # Importing the required libraries\n",
    "from selenium.webdriver.common.by import By\n",
    "from selenium.webdriver.support.ui import WebDriverWait\n",
    "from selenium.webdriver.support import expected_conditions as EC\n",
    "from selenium.common.exceptions import NoSuchElementException"
   ]
  },
  {
   "cell_type": "code",
   "execution_count": 44,
   "metadata": {},
   "outputs": [],
   "source": [
    "PATH = \"C:\\Program Files (x86)\\chromedriver.exe\""
   ]
  },
  {
   "cell_type": "code",
   "execution_count": 45,
   "metadata": {},
   "outputs": [],
   "source": [
    "driver = webdriver.Chrome(PATH)\n",
    "driver.get(\"https://www.flipkart.com/\")\n",
    "\n",
    "time.sleep(3)"
   ]
  },
  {
   "cell_type": "code",
   "execution_count": 46,
   "metadata": {},
   "outputs": [],
   "source": [
    "login_pop_up = driver.find_element_by_xpath(\"//button[@class='_2KpZ6l _2doB4z']\")\n",
    "login_pop_up.click()\n",
    "time.sleep(1)"
   ]
  },
  {
   "cell_type": "code",
   "execution_count": 47,
   "metadata": {},
   "outputs": [],
   "source": [
    "search_bar = driver.find_element_by_class_name('_3704LK')\n",
    "search_button =  driver.find_element_by_class_name('L0Z3Pu')"
   ]
  },
  {
   "cell_type": "code",
   "execution_count": 48,
   "metadata": {},
   "outputs": [],
   "source": [
    "search_bar.send_keys('iPhone')\n",
    "search_button.click()\n",
    "time.sleep(2)"
   ]
  },
  {
   "cell_type": "code",
   "execution_count": 49,
   "metadata": {},
   "outputs": [],
   "source": [
    "phones = driver.find_elements_by_xpath(\"//a[@class='_1fQZEK']\")"
   ]
  },
  {
   "cell_type": "code",
   "execution_count": 50,
   "metadata": {},
   "outputs": [],
   "source": [
    "urls = []\n",
    "for url in phones:\n",
    "    urls.append(url.get_attribute('href'))    "
   ]
  },
  {
   "cell_type": "code",
   "execution_count": 51,
   "metadata": {},
   "outputs": [],
   "source": [
    "brands = []\n",
    "phone_names = []\n",
    "colors = []\n",
    "rams = []\n",
    "roms = []\n",
    "pri_cam = []\n",
    "sec_cam = []\n",
    "dis_size = []\n",
    "dis_rez = []\n",
    "proc = []\n",
    "proc_core = []\n",
    "bat_cap = []\n",
    "price = []\n",
    "links = []"
   ]
  },
  {
   "cell_type": "code",
   "execution_count": 52,
   "metadata": {},
   "outputs": [],
   "source": [
    "for link in urls[:1]:\n",
    "    driver.get(link)\n",
    "    more = driver.find_element_by_xpath(\"//button[@class='_2KpZ6l _1FH0tX']\")\n",
    "    more.click()\n",
    "    \n",
    "    "
   ]
  },
  {
   "cell_type": "code",
   "execution_count": 53,
   "metadata": {},
   "outputs": [],
   "source": [
    "driver.quit()"
   ]
  },
  {
   "cell_type": "markdown",
   "metadata": {},
   "source": [
    "### Question 5:"
   ]
  },
  {
   "cell_type": "code",
   "execution_count": 54,
   "metadata": {},
   "outputs": [],
   "source": [
    "from selenium import webdriver\n",
    "from selenium.webdriver.common.keys import Keys\n",
    "import time\n",
    "import pandas as pd # Importing the required libraries\n",
    "from selenium.webdriver.common.by import By\n",
    "from selenium.webdriver.support.ui import WebDriverWait\n",
    "from selenium.webdriver.support import expected_conditions as EC\n",
    "from selenium.common.exceptions import NoSuchElementException\n",
    "from selenium.webdriver import ActionChains"
   ]
  },
  {
   "cell_type": "code",
   "execution_count": 55,
   "metadata": {},
   "outputs": [],
   "source": [
    "PATH = \"C:\\Program Files (x86)\\chromedriver.exe\"\n",
    "\n",
    "driver = webdriver.Chrome(PATH)\n",
    "driver.get(\"https://www.google.com/maps\")\n",
    "\n",
    "time.sleep(3)"
   ]
  },
  {
   "cell_type": "code",
   "execution_count": 56,
   "metadata": {},
   "outputs": [],
   "source": [
    "search_bar = driver.find_element_by_xpath(\"//input[@id='searchboxinput']\")\n",
    "search_but = driver.find_element_by_xpath(\"//button[@id='searchbox-searchbutton']\")"
   ]
  },
  {
   "cell_type": "code",
   "execution_count": 57,
   "metadata": {},
   "outputs": [
    {
     "name": "stdout",
     "output_type": "stream",
     "text": [
      "Please enter the city for which you'd like the co-ordinates: Wuhan\n"
     ]
    }
   ],
   "source": [
    "search_what = input(\"Please enter the city for which you'd like the co-ordinates: \")"
   ]
  },
  {
   "cell_type": "code",
   "execution_count": 58,
   "metadata": {},
   "outputs": [],
   "source": [
    "search_bar.send_keys(search_what)\n",
    "search_but.click()"
   ]
  },
  {
   "cell_type": "code",
   "execution_count": 59,
   "metadata": {},
   "outputs": [],
   "source": [
    "canvas = driver.find_element_by_xpath(\"//canvas[@class='widget-scene-canvas']\")"
   ]
  },
  {
   "cell_type": "code",
   "execution_count": 60,
   "metadata": {},
   "outputs": [],
   "source": [
    "actions = ActionChains(driver)"
   ]
  },
  {
   "cell_type": "code",
   "execution_count": 61,
   "metadata": {},
   "outputs": [],
   "source": [
    "actions.context_click(canvas).perform()"
   ]
  },
  {
   "cell_type": "code",
   "execution_count": 62,
   "metadata": {},
   "outputs": [],
   "source": [
    "time.sleep(2)\n",
    "coord = driver.find_element_by_xpath(\"//div[@class='nbpPqf-menu-x3Eknd-text-haAclf']/div\")"
   ]
  },
  {
   "cell_type": "code",
   "execution_count": 63,
   "metadata": {},
   "outputs": [],
   "source": [
    "cordin = coord.get_attribute('textContent')"
   ]
  },
  {
   "cell_type": "code",
   "execution_count": 64,
   "metadata": {},
   "outputs": [],
   "source": [
    "new_co = cordin.split(\",\")"
   ]
  },
  {
   "cell_type": "code",
   "execution_count": 65,
   "metadata": {},
   "outputs": [
    {
     "name": "stdout",
     "output_type": "stream",
     "text": [
      "The co-ordiantes for Wuhan are, Latitude: 30.56782 and Longitude:  114.02019\n"
     ]
    }
   ],
   "source": [
    "print(\"The co-ordiantes for %s are, Latitude: %s and Longitude: %s\" % (search_what,new_co[0],new_co[1]))"
   ]
  },
  {
   "cell_type": "code",
   "execution_count": 66,
   "metadata": {},
   "outputs": [],
   "source": [
    "time.sleep(3)\n",
    "driver.quit()"
   ]
  },
  {
   "cell_type": "markdown",
   "metadata": {},
   "source": [
    "### Question 6:"
   ]
  },
  {
   "cell_type": "code",
   "execution_count": 67,
   "metadata": {},
   "outputs": [],
   "source": [
    "from selenium import webdriver\n",
    "from selenium.webdriver.common.keys import Keys\n",
    "import time\n",
    "import pandas as pd # Importing the required libraries\n",
    "from selenium.webdriver.common.by import By\n",
    "from selenium.webdriver.support.ui import WebDriverWait\n",
    "from selenium.webdriver.support import expected_conditions as EC\n",
    "from selenium.common.exceptions import NoSuchElementException\n",
    "from selenium.webdriver import ActionChains"
   ]
  },
  {
   "cell_type": "code",
   "execution_count": 73,
   "metadata": {},
   "outputs": [],
   "source": [
    "PATH = \"C:\\Program Files (x86)\\chromedriver.exe\"\n",
    "\n",
    "driver = webdriver.Chrome(PATH)\n",
    "driver.get(\"https://trak.in/india-startup-funding-investment-2015/\")\n",
    "\n",
    "time.sleep(3)"
   ]
  },
  {
   "cell_type": "code",
   "execution_count": 74,
   "metadata": {},
   "outputs": [],
   "source": [
    "driver.set_window_size(1024, 600)\n",
    "driver.maximize_window()"
   ]
  },
  {
   "cell_type": "code",
   "execution_count": 75,
   "metadata": {},
   "outputs": [],
   "source": [
    "driver.quit()"
   ]
  },
  {
   "cell_type": "markdown",
   "metadata": {},
   "source": [
    "### Question 7:"
   ]
  },
  {
   "cell_type": "code",
   "execution_count": 76,
   "metadata": {},
   "outputs": [],
   "source": [
    "from selenium import webdriver\n",
    "from selenium.webdriver.common.keys import Keys\n",
    "import time\n",
    "import pandas as pd # Importing the required libraries\n",
    "from selenium.webdriver.common.by import By\n",
    "from selenium.webdriver.support.ui import WebDriverWait\n",
    "from selenium.webdriver.support import expected_conditions as EC\n",
    "from selenium.common.exceptions import NoSuchElementException\n",
    "from selenium.webdriver import ActionChains"
   ]
  },
  {
   "cell_type": "code",
   "execution_count": 77,
   "metadata": {},
   "outputs": [],
   "source": [
    "PATH = \"C:\\Program Files (x86)\\chromedriver.exe\"\n",
    "\n",
    "driver = webdriver.Chrome(PATH)\n",
    "driver.get(\"https://www.digit.in/\")\n",
    "\n",
    "time.sleep(3)"
   ]
  },
  {
   "cell_type": "code",
   "execution_count": 78,
   "metadata": {},
   "outputs": [],
   "source": [
    "link_lap = driver.find_elements_by_xpath(\"//a[@target='_self']\")\n",
    "link_lap[72].click()"
   ]
  },
  {
   "cell_type": "code",
   "execution_count": 79,
   "metadata": {},
   "outputs": [],
   "source": [
    "link_gam =  driver.find_element_by_xpath(\"//a[@href='https://www.digit.in/top-products/best-gaming-laptops-40.html']\")"
   ]
  },
  {
   "cell_type": "code",
   "execution_count": 80,
   "metadata": {},
   "outputs": [],
   "source": [
    "link_gam.click()"
   ]
  },
  {
   "cell_type": "code",
   "execution_count": 81,
   "metadata": {},
   "outputs": [],
   "source": [
    "time.sleep(2)"
   ]
  },
  {
   "cell_type": "code",
   "execution_count": 82,
   "metadata": {},
   "outputs": [],
   "source": [
    "table = driver.find_elements_by_xpath(\"//table[@id='summtable']/tbody/tr/td\")"
   ]
  },
  {
   "cell_type": "code",
   "execution_count": 83,
   "metadata": {},
   "outputs": [],
   "source": [
    "abc = []\n",
    "for det in table:\n",
    "    abc.append(det.get_attribute(\"textContent\"))"
   ]
  },
  {
   "cell_type": "code",
   "execution_count": 84,
   "metadata": {},
   "outputs": [],
   "source": [
    "laptop = []\n",
    "location = []\n",
    "price = []\n",
    "\n",
    "for i in range(0,len(abc),3):\n",
    "    laptop.append(abc[i].replace('\\n',''))\n",
    "for i in range(1,len(abc),3):\n",
    "    location.append(abc[i].replace('\\n',''))\n",
    "for i in range(2,len(abc),3):\n",
    "    price.append(abc[i].replace('\\n',''))\n"
   ]
  },
  {
   "cell_type": "code",
   "execution_count": 85,
   "metadata": {},
   "outputs": [],
   "source": [
    "lap_df = pd.DataFrame({})\n",
    "lap_df['Laptop name'] = laptop\n",
    "lap_df['Website'] = location\n",
    "lap_df['Price'] = price"
   ]
  },
  {
   "cell_type": "code",
   "execution_count": 86,
   "metadata": {},
   "outputs": [
    {
     "data": {
      "text/html": [
       "<div>\n",
       "<style scoped>\n",
       "    .dataframe tbody tr th:only-of-type {\n",
       "        vertical-align: middle;\n",
       "    }\n",
       "\n",
       "    .dataframe tbody tr th {\n",
       "        vertical-align: top;\n",
       "    }\n",
       "\n",
       "    .dataframe thead th {\n",
       "        text-align: right;\n",
       "    }\n",
       "</style>\n",
       "<table border=\"1\" class=\"dataframe\">\n",
       "  <thead>\n",
       "    <tr style=\"text-align: right;\">\n",
       "      <th></th>\n",
       "      <th>Laptop name</th>\n",
       "      <th>Website</th>\n",
       "      <th>Price</th>\n",
       "    </tr>\n",
       "  </thead>\n",
       "  <tbody>\n",
       "    <tr>\n",
       "      <th>0</th>\n",
       "      <td>Alienware Area 51M R2</td>\n",
       "      <td>N/A</td>\n",
       "      <td>N/A</td>\n",
       "    </tr>\n",
       "    <tr>\n",
       "      <th>1</th>\n",
       "      <td>Alienware m15 R3</td>\n",
       "      <td>N/A</td>\n",
       "      <td>₹341990</td>\n",
       "    </tr>\n",
       "    <tr>\n",
       "      <th>2</th>\n",
       "      <td>ASUS ROG Strix Scar 15</td>\n",
       "      <td>N/A</td>\n",
       "      <td>N/A</td>\n",
       "    </tr>\n",
       "    <tr>\n",
       "      <th>3</th>\n",
       "      <td>Asus ROG Zephyrus G14</td>\n",
       "      <td>amazon</td>\n",
       "      <td>₹164990</td>\n",
       "    </tr>\n",
       "    <tr>\n",
       "      <th>4</th>\n",
       "      <td>Lenovo Legion 5i</td>\n",
       "      <td>amazon</td>\n",
       "      <td>₹76988</td>\n",
       "    </tr>\n",
       "    <tr>\n",
       "      <th>5</th>\n",
       "      <td>ASUS ROG ZEPHYRUS DUO 15</td>\n",
       "      <td>amazon</td>\n",
       "      <td>₹185000</td>\n",
       "    </tr>\n",
       "    <tr>\n",
       "      <th>6</th>\n",
       "      <td>Acer Aspire 7 gaming</td>\n",
       "      <td>amazon</td>\n",
       "      <td>₹64370</td>\n",
       "    </tr>\n",
       "  </tbody>\n",
       "</table>\n",
       "</div>"
      ],
      "text/plain": [
       "                Laptop name Website    Price\n",
       "0     Alienware Area 51M R2     N/A      N/A\n",
       "1          Alienware m15 R3     N/A  ₹341990\n",
       "2    ASUS ROG Strix Scar 15     N/A      N/A\n",
       "3     Asus ROG Zephyrus G14  amazon  ₹164990\n",
       "4          Lenovo Legion 5i  amazon   ₹76988\n",
       "5  ASUS ROG ZEPHYRUS DUO 15  amazon  ₹185000\n",
       "6      Acer Aspire 7 gaming  amazon   ₹64370"
      ]
     },
     "execution_count": 86,
     "metadata": {},
     "output_type": "execute_result"
    }
   ],
   "source": [
    "lap_df"
   ]
  },
  {
   "cell_type": "code",
   "execution_count": 87,
   "metadata": {},
   "outputs": [],
   "source": [
    "time.sleep(5)\n",
    "driver.quit()"
   ]
  },
  {
   "cell_type": "markdown",
   "metadata": {},
   "source": [
    "### Question 8:"
   ]
  },
  {
   "cell_type": "code",
   "execution_count": 88,
   "metadata": {},
   "outputs": [],
   "source": [
    "from selenium import webdriver\n",
    "from selenium.webdriver.common.keys import Keys\n",
    "import time\n",
    "import pandas as pd # Importing the required libraries\n",
    "from selenium.webdriver.common.by import By\n",
    "from selenium.webdriver.support.ui import WebDriverWait\n",
    "from selenium.webdriver.support import expected_conditions as EC\n",
    "from selenium.common.exceptions import NoSuchElementException\n",
    "from selenium.webdriver import ActionChains\n"
   ]
  },
  {
   "cell_type": "code",
   "execution_count": 89,
   "metadata": {},
   "outputs": [],
   "source": [
    "PATH = \"C:\\Program Files (x86)\\chromedriver.exe\"\n",
    "\n",
    "driver = webdriver.Chrome(PATH)\n",
    "driver.get(\"https://www.forbes.com/billionaires/\")\n",
    "\n",
    "time.sleep(3)\n"
   ]
  },
  {
   "cell_type": "code",
   "execution_count": 90,
   "metadata": {},
   "outputs": [],
   "source": [
    "ranks = driver.find_elements_by_xpath(\"//div[@class='rank']\")\n",
    "names = driver.find_elements_by_xpath(\"//div[@class='personName']\")\n",
    "worths = driver.find_elements_by_xpath(\"//div[@class='netWorth']\")\n",
    "ages = driver.find_elements_by_xpath(\"//div[@class='age']\")\n",
    "conts = driver.find_elements_by_xpath(\"//div[@class='countryOfCitizenship']\")\n",
    "sources = driver.find_elements_by_xpath(\"//div[@class='source']\")\n",
    "categories = driver.find_elements_by_xpath(\"//div[@class='category']\")                                    "
   ]
  },
  {
   "cell_type": "code",
   "execution_count": 91,
   "metadata": {},
   "outputs": [],
   "source": [
    "rank = []\n",
    "name = []\n",
    "worth = []\n",
    "age = []\n",
    "cont = []\n",
    "source = []\n",
    "cat = []\n"
   ]
  },
  {
   "cell_type": "code",
   "execution_count": 92,
   "metadata": {},
   "outputs": [],
   "source": [
    "for i in ranks:\n",
    "    rank.append(i.text)\n",
    "for i in names:\n",
    "    name.append(i.text)\n",
    "for i in worths:\n",
    "    worth.append(i.text)\n",
    "for i in ages:\n",
    "    age.append(i.text)\n",
    "for i in conts:\n",
    "    cont.append(i.text)\n",
    "for i in sources:\n",
    "    source.append(i.text)\n",
    "for i in categories:\n",
    "    cat.append(i.text)    "
   ]
  },
  {
   "cell_type": "code",
   "execution_count": 93,
   "metadata": {},
   "outputs": [],
   "source": [
    "for_dr = pd.DataFrame({})\n",
    "for_dr['rank'] = rank\n",
    "for_dr['name'] = name\n",
    "for_dr['worth'] = worth\n",
    "for_dr['age'] = age\n",
    "for_dr['cont'] = cont\n",
    "for_dr['source'] = source\n",
    "for_dr['cat'] = cat"
   ]
  },
  {
   "cell_type": "code",
   "execution_count": 94,
   "metadata": {},
   "outputs": [
    {
     "data": {
      "text/html": [
       "<div>\n",
       "<style scoped>\n",
       "    .dataframe tbody tr th:only-of-type {\n",
       "        vertical-align: middle;\n",
       "    }\n",
       "\n",
       "    .dataframe tbody tr th {\n",
       "        vertical-align: top;\n",
       "    }\n",
       "\n",
       "    .dataframe thead th {\n",
       "        text-align: right;\n",
       "    }\n",
       "</style>\n",
       "<table border=\"1\" class=\"dataframe\">\n",
       "  <thead>\n",
       "    <tr style=\"text-align: right;\">\n",
       "      <th></th>\n",
       "      <th>rank</th>\n",
       "      <th>name</th>\n",
       "      <th>worth</th>\n",
       "      <th>age</th>\n",
       "      <th>cont</th>\n",
       "      <th>source</th>\n",
       "      <th>cat</th>\n",
       "    </tr>\n",
       "  </thead>\n",
       "  <tbody>\n",
       "    <tr>\n",
       "      <th>0</th>\n",
       "      <td>1.</td>\n",
       "      <td>Jeff Bezos</td>\n",
       "      <td>$177 B</td>\n",
       "      <td>57</td>\n",
       "      <td>United States</td>\n",
       "      <td>Amazon</td>\n",
       "      <td>Technology</td>\n",
       "    </tr>\n",
       "    <tr>\n",
       "      <th>1</th>\n",
       "      <td>2.</td>\n",
       "      <td>Elon Musk</td>\n",
       "      <td>$151 B</td>\n",
       "      <td>49</td>\n",
       "      <td>United States</td>\n",
       "      <td>Tesla, SpaceX</td>\n",
       "      <td>Automotive</td>\n",
       "    </tr>\n",
       "    <tr>\n",
       "      <th>2</th>\n",
       "      <td>3.</td>\n",
       "      <td>Bernard Arnault &amp; family</td>\n",
       "      <td>$150 B</td>\n",
       "      <td>72</td>\n",
       "      <td>France</td>\n",
       "      <td>LVMH</td>\n",
       "      <td>Fashion &amp; Retail</td>\n",
       "    </tr>\n",
       "    <tr>\n",
       "      <th>3</th>\n",
       "      <td>4.</td>\n",
       "      <td>Bill Gates</td>\n",
       "      <td>$124 B</td>\n",
       "      <td>65</td>\n",
       "      <td>United States</td>\n",
       "      <td>Microsoft</td>\n",
       "      <td>Technology</td>\n",
       "    </tr>\n",
       "    <tr>\n",
       "      <th>4</th>\n",
       "      <td>5.</td>\n",
       "      <td>Mark Zuckerberg</td>\n",
       "      <td>$97 B</td>\n",
       "      <td>36</td>\n",
       "      <td>United States</td>\n",
       "      <td>Facebook</td>\n",
       "      <td>Technology</td>\n",
       "    </tr>\n",
       "    <tr>\n",
       "      <th>...</th>\n",
       "      <td>...</td>\n",
       "      <td>...</td>\n",
       "      <td>...</td>\n",
       "      <td>...</td>\n",
       "      <td>...</td>\n",
       "      <td>...</td>\n",
       "      <td>...</td>\n",
       "    </tr>\n",
       "    <tr>\n",
       "      <th>195</th>\n",
       "      <td>195.</td>\n",
       "      <td>Harry Triguboff</td>\n",
       "      <td>$11.2 B</td>\n",
       "      <td>88</td>\n",
       "      <td>Australia</td>\n",
       "      <td>real estate</td>\n",
       "      <td>Real Estate</td>\n",
       "    </tr>\n",
       "    <tr>\n",
       "      <th>196</th>\n",
       "      <td>197.</td>\n",
       "      <td>Leonid Fedun &amp; family</td>\n",
       "      <td>$11.1 B</td>\n",
       "      <td>65</td>\n",
       "      <td>Russia</td>\n",
       "      <td>oil</td>\n",
       "      <td>Energy</td>\n",
       "    </tr>\n",
       "    <tr>\n",
       "      <th>197</th>\n",
       "      <td>197.</td>\n",
       "      <td>Eyal Ofer</td>\n",
       "      <td>$11.1 B</td>\n",
       "      <td>70</td>\n",
       "      <td>Israel</td>\n",
       "      <td>real estate, shipping</td>\n",
       "      <td>Diversified</td>\n",
       "    </tr>\n",
       "    <tr>\n",
       "      <th>198</th>\n",
       "      <td>197.</td>\n",
       "      <td>Evan Spiegel</td>\n",
       "      <td>$11.1 B</td>\n",
       "      <td>30</td>\n",
       "      <td>United States</td>\n",
       "      <td>Snapchat</td>\n",
       "      <td>Technology</td>\n",
       "    </tr>\n",
       "    <tr>\n",
       "      <th>199</th>\n",
       "      <td>200.</td>\n",
       "      <td>Luis Carlos Sarmiento</td>\n",
       "      <td>$11 B</td>\n",
       "      <td>88</td>\n",
       "      <td>Colombia</td>\n",
       "      <td>banking</td>\n",
       "      <td>Finance &amp; Investments</td>\n",
       "    </tr>\n",
       "  </tbody>\n",
       "</table>\n",
       "<p>200 rows × 7 columns</p>\n",
       "</div>"
      ],
      "text/plain": [
       "     rank                      name    worth age           cont  \\\n",
       "0      1.                Jeff Bezos   $177 B  57  United States   \n",
       "1      2.                 Elon Musk   $151 B  49  United States   \n",
       "2      3.  Bernard Arnault & family   $150 B  72         France   \n",
       "3      4.                Bill Gates   $124 B  65  United States   \n",
       "4      5.           Mark Zuckerberg    $97 B  36  United States   \n",
       "..    ...                       ...      ...  ..            ...   \n",
       "195  195.           Harry Triguboff  $11.2 B  88      Australia   \n",
       "196  197.     Leonid Fedun & family  $11.1 B  65         Russia   \n",
       "197  197.                 Eyal Ofer  $11.1 B  70         Israel   \n",
       "198  197.              Evan Spiegel  $11.1 B  30  United States   \n",
       "199  200.     Luis Carlos Sarmiento    $11 B  88       Colombia   \n",
       "\n",
       "                    source                    cat  \n",
       "0                   Amazon             Technology  \n",
       "1            Tesla, SpaceX             Automotive  \n",
       "2                     LVMH       Fashion & Retail  \n",
       "3                Microsoft             Technology  \n",
       "4                 Facebook             Technology  \n",
       "..                     ...                    ...  \n",
       "195            real estate            Real Estate  \n",
       "196                    oil                 Energy  \n",
       "197  real estate, shipping            Diversified  \n",
       "198               Snapchat             Technology  \n",
       "199                banking  Finance & Investments  \n",
       "\n",
       "[200 rows x 7 columns]"
      ]
     },
     "execution_count": 94,
     "metadata": {},
     "output_type": "execute_result"
    }
   ],
   "source": [
    "for_dr"
   ]
  },
  {
   "cell_type": "code",
   "execution_count": 95,
   "metadata": {},
   "outputs": [],
   "source": [
    "time.sleep(5)\n",
    "driver.quit()"
   ]
  },
  {
   "cell_type": "markdown",
   "metadata": {},
   "source": [
    "### Question 9:"
   ]
  },
  {
   "cell_type": "code",
   "execution_count": 105,
   "metadata": {},
   "outputs": [],
   "source": [
    "from selenium import webdriver\n",
    "from selenium.webdriver.common.keys import Keys\n",
    "import time\n",
    "import pandas as pd # Importing the required libraries\n",
    "from selenium.webdriver.common.by import By\n",
    "from selenium.webdriver.support.ui import WebDriverWait\n",
    "from selenium.webdriver.support import expected_conditions as EC\n",
    "from selenium.common.exceptions import NoSuchElementException\n",
    "from selenium.webdriver import ActionChains\n"
   ]
  },
  {
   "cell_type": "code",
   "execution_count": 106,
   "metadata": {},
   "outputs": [],
   "source": [
    "PATH = \"C:\\Program Files (x86)\\chromedriver.exe\"\n",
    "\n",
    "driver = webdriver.Chrome(PATH)\n",
    "driver.get(\"https://www.youtube.com/watch?v=lXfEK8G8CUI\")\n",
    "\n",
    "time.sleep(3)\n"
   ]
  },
  {
   "cell_type": "code",
   "execution_count": 107,
   "metadata": {},
   "outputs": [],
   "source": [
    "driver.set_window_size(1024, 600)\n",
    "driver.maximize_window()"
   ]
  },
  {
   "cell_type": "code",
   "execution_count": 108,
   "metadata": {},
   "outputs": [],
   "source": [
    "for i in range(25):\n",
    "    driver.execute_script(\"window.scrollTo(0, 129999)\") \n",
    "    time.sleep(1)"
   ]
  },
  {
   "cell_type": "code",
   "execution_count": 109,
   "metadata": {},
   "outputs": [],
   "source": [
    "main = driver.find_elements_by_xpath(\"//div[@class='style-scope ytd-expander']\")\n",
    "likes = driver.find_elements_by_xpath(\"//span[@id='vote-count-middle']\")\n",
    "dates = driver.find_elements_by_xpath(\"//a[@class='yt-simple-endpoint style-scope yt-formatted-string']\")"
   ]
  },
  {
   "cell_type": "code",
   "execution_count": 110,
   "metadata": {},
   "outputs": [],
   "source": [
    "a =[]\n",
    "b =[]\n",
    "c=[]\n",
    "for i in dates:\n",
    "    a.append(i.text.replace('https://kgs.link/ImmuneBook',''))\n",
    "for i in main:\n",
    "    b.append(i.text)\n",
    "for i in likes:\n",
    "    c.append(i.text)\n",
    "    "
   ]
  },
  {
   "cell_type": "code",
   "execution_count": 111,
   "metadata": {},
   "outputs": [],
   "source": [
    "while(\"\" in a):\n",
    "    a.remove(\"\")"
   ]
  },
  {
   "cell_type": "code",
   "execution_count": 114,
   "metadata": {},
   "outputs": [],
   "source": [
    "b = b[2:]\n",
    "a = a[1:]\n",
    "a=a[:400]\n",
    "b=b[:400]\n",
    "c=c[:400]\n"
   ]
  },
  {
   "cell_type": "code",
   "execution_count": 115,
   "metadata": {},
   "outputs": [],
   "source": [
    "yt_df = pd.DataFrame({})\n",
    "yt_df['Comment'] = b \n",
    "yt_df['Time'] = a\n",
    "yt_df['Likes'] = c"
   ]
  },
  {
   "cell_type": "code",
   "execution_count": 116,
   "metadata": {},
   "outputs": [
    {
     "data": {
      "text/html": [
       "<div>\n",
       "<style scoped>\n",
       "    .dataframe tbody tr th:only-of-type {\n",
       "        vertical-align: middle;\n",
       "    }\n",
       "\n",
       "    .dataframe tbody tr th {\n",
       "        vertical-align: top;\n",
       "    }\n",
       "\n",
       "    .dataframe thead th {\n",
       "        text-align: right;\n",
       "    }\n",
       "</style>\n",
       "<table border=\"1\" class=\"dataframe\">\n",
       "  <thead>\n",
       "    <tr style=\"text-align: right;\">\n",
       "      <th></th>\n",
       "      <th>Comment</th>\n",
       "      <th>Time</th>\n",
       "      <th>Likes</th>\n",
       "    </tr>\n",
       "  </thead>\n",
       "  <tbody>\n",
       "    <tr>\n",
       "      <th>0</th>\n",
       "      <td>Amazing work..simplification non like other ev...</td>\n",
       "      <td>1 week ago</td>\n",
       "      <td>10K</td>\n",
       "    </tr>\n",
       "    <tr>\n",
       "      <th>1</th>\n",
       "      <td>Macrophage: I'm so tired\\nT-cell: no you're no...</td>\n",
       "      <td>5 days ago</td>\n",
       "      <td>4.2K</td>\n",
       "    </tr>\n",
       "    <tr>\n",
       "      <th>2</th>\n",
       "      <td>\"And the soldier feels fresh as new\"\\n\\n\\nLoca...</td>\n",
       "      <td>6 days ago</td>\n",
       "      <td>536</td>\n",
       "    </tr>\n",
       "    <tr>\n",
       "      <th>3</th>\n",
       "      <td>Neutrophil: \\n\\n\"WITNESS ME\"</td>\n",
       "      <td>4 days ago</td>\n",
       "      <td>455</td>\n",
       "    </tr>\n",
       "    <tr>\n",
       "      <th>4</th>\n",
       "      <td>As someone who studied this in university, it ...</td>\n",
       "      <td>4 days ago (edited)</td>\n",
       "      <td>204</td>\n",
       "    </tr>\n",
       "    <tr>\n",
       "      <th>...</th>\n",
       "      <td>...</td>\n",
       "      <td>...</td>\n",
       "      <td>...</td>\n",
       "    </tr>\n",
       "    <tr>\n",
       "      <th>395</th>\n",
       "      <td>I'm gonna get this book!</td>\n",
       "      <td>5 days ago</td>\n",
       "      <td></td>\n",
       "    </tr>\n",
       "    <tr>\n",
       "      <th>396</th>\n",
       "      <td>when will be the next part love ur content</td>\n",
       "      <td>1 week ago</td>\n",
       "      <td></td>\n",
       "    </tr>\n",
       "    <tr>\n",
       "      <th>397</th>\n",
       "      <td>“Did you die?”\\n\\nNeutrophils: Sadly yes, but ...</td>\n",
       "      <td>3 days ago</td>\n",
       "      <td></td>\n",
       "    </tr>\n",
       "    <tr>\n",
       "      <th>398</th>\n",
       "      <td>So, my cells just basically go:\\nT-Cells: Ayo,...</td>\n",
       "      <td>5 days ago</td>\n",
       "      <td></td>\n",
       "    </tr>\n",
       "    <tr>\n",
       "      <th>399</th>\n",
       "      <td>Can you make a video about if we found Alien l...</td>\n",
       "      <td>5 days ago</td>\n",
       "      <td>873</td>\n",
       "    </tr>\n",
       "  </tbody>\n",
       "</table>\n",
       "<p>400 rows × 3 columns</p>\n",
       "</div>"
      ],
      "text/plain": [
       "                                               Comment                 Time  \\\n",
       "0    Amazing work..simplification non like other ev...           1 week ago   \n",
       "1    Macrophage: I'm so tired\\nT-cell: no you're no...           5 days ago   \n",
       "2    \"And the soldier feels fresh as new\"\\n\\n\\nLoca...           6 days ago   \n",
       "3                         Neutrophil: \\n\\n\"WITNESS ME\"           4 days ago   \n",
       "4    As someone who studied this in university, it ...  4 days ago (edited)   \n",
       "..                                                 ...                  ...   \n",
       "395                           I'm gonna get this book!           5 days ago   \n",
       "396         when will be the next part love ur content           1 week ago   \n",
       "397  “Did you die?”\\n\\nNeutrophils: Sadly yes, but ...           3 days ago   \n",
       "398  So, my cells just basically go:\\nT-Cells: Ayo,...           5 days ago   \n",
       "399  Can you make a video about if we found Alien l...           5 days ago   \n",
       "\n",
       "    Likes  \n",
       "0     10K  \n",
       "1    4.2K  \n",
       "2     536  \n",
       "3     455  \n",
       "4     204  \n",
       "..    ...  \n",
       "395        \n",
       "396        \n",
       "397        \n",
       "398        \n",
       "399   873  \n",
       "\n",
       "[400 rows x 3 columns]"
      ]
     },
     "execution_count": 116,
     "metadata": {},
     "output_type": "execute_result"
    }
   ],
   "source": [
    "yt_df"
   ]
  },
  {
   "cell_type": "code",
   "execution_count": 117,
   "metadata": {},
   "outputs": [],
   "source": [
    "time.sleep(3)\n",
    "driver.close()"
   ]
  },
  {
   "cell_type": "markdown",
   "metadata": {},
   "source": [
    "### Question 10:"
   ]
  },
  {
   "cell_type": "code",
   "execution_count": 118,
   "metadata": {},
   "outputs": [],
   "source": [
    "from selenium import webdriver\n",
    "from selenium.webdriver.common.keys import Keys\n",
    "import time\n",
    "import pandas as pd # Importing the required libraries\n",
    "from selenium.webdriver.common.by import By\n",
    "from selenium.webdriver.support.ui import WebDriverWait\n",
    "from selenium.webdriver.support import expected_conditions as EC\n",
    "from selenium.common.exceptions import NoSuchElementException\n",
    "from selenium.webdriver import ActionChains\n"
   ]
  },
  {
   "cell_type": "code",
   "execution_count": 119,
   "metadata": {},
   "outputs": [],
   "source": [
    "PATH = \"C:\\Program Files (x86)\\chromedriver.exe\"\n",
    "\n",
    "driver = webdriver.Chrome(PATH)\n",
    "driver.get(\"https://www.hostelworld.com/\")\n",
    "\n",
    "time.sleep(3)"
   ]
  },
  {
   "cell_type": "code",
   "execution_count": 120,
   "metadata": {},
   "outputs": [],
   "source": [
    "driver.set_window_size(1024, 600)\n",
    "driver.maximize_window()"
   ]
  },
  {
   "cell_type": "code",
   "execution_count": 121,
   "metadata": {},
   "outputs": [],
   "source": [
    "search_bar =  driver.find_element_by_xpath(\"//input[@id='location-text-input-field']\")"
   ]
  },
  {
   "cell_type": "code",
   "execution_count": 122,
   "metadata": {},
   "outputs": [],
   "source": [
    "search_bar.send_keys('london')\n",
    "time.sleep(2)"
   ]
  },
  {
   "cell_type": "code",
   "execution_count": 123,
   "metadata": {},
   "outputs": [],
   "source": [
    "search_now = driver.find_element_by_xpath(\"//input[@id='search-input-field']\")"
   ]
  },
  {
   "cell_type": "code",
   "execution_count": 124,
   "metadata": {},
   "outputs": [],
   "source": [
    "search_now.send_keys('london')\n",
    "time.sleep(3)"
   ]
  },
  {
   "cell_type": "code",
   "execution_count": 125,
   "metadata": {},
   "outputs": [],
   "source": [
    "pops = driver.find_elements_by_xpath(\"//li[@tabindex='-1']\")"
   ]
  },
  {
   "cell_type": "code",
   "execution_count": 126,
   "metadata": {},
   "outputs": [],
   "source": [
    "pops[1].click()\n",
    "time.sleep(3)"
   ]
  },
  {
   "cell_type": "code",
   "execution_count": 127,
   "metadata": {},
   "outputs": [],
   "source": [
    "search_but = driver.find_element_by_xpath(\"//button[@id='search-button']\")"
   ]
  },
  {
   "cell_type": "code",
   "execution_count": 128,
   "metadata": {},
   "outputs": [],
   "source": [
    "search_but.click()\n",
    "time.sleep(5)"
   ]
  },
  {
   "cell_type": "code",
   "execution_count": 129,
   "metadata": {},
   "outputs": [],
   "source": [
    "time.sleep(3)\n",
    "for_urls = driver.find_elements_by_xpath(\"//h2[@class='title title-6']/a\")"
   ]
  },
  {
   "cell_type": "code",
   "execution_count": 130,
   "metadata": {},
   "outputs": [],
   "source": [
    "urls = []\n",
    "for url in for_urls:\n",
    "    urls.append(url.get_attribute('href'))  "
   ]
  },
  {
   "cell_type": "code",
   "execution_count": 131,
   "metadata": {},
   "outputs": [],
   "source": [
    "name = []\n",
    "dist = []\n",
    "rats = []\n",
    "no_rats = []\n",
    "housing =[]\n",
    "facilities = []\n",
    "desc  = []\n",
    "\n",
    "pvt = []\n",
    "drm = []\n"
   ]
  },
  {
   "cell_type": "code",
   "execution_count": 132,
   "metadata": {},
   "outputs": [],
   "source": [
    "dists = driver.find_elements_by_xpath(\"//span[@class='description']\")\n",
    "house = driver.find_elements_by_xpath(\"//div[@class='price-col']\")\n",
    "names = driver.find_elements_by_xpath(\"//h2[@class='title title-6']/a\")\n",
    "\n",
    "\n",
    "for i in names:\n",
    "    name.append(i.text)\n",
    "for i in dists:\n",
    "    dist.append(i.text)\n",
    "for i in house:\n",
    "    housing.append(i.text)\n",
    "\n",
    "\n",
    "for i in range(0,len(housing),2):\n",
    "    pvt.append(housing[i].replace('\\n', ' '))\n",
    "for i in range(1,len(housing),2):\n",
    "    drm.append(housing[i].replace('\\n', ' '))\n",
    "    "
   ]
  },
  {
   "cell_type": "code",
   "execution_count": 133,
   "metadata": {},
   "outputs": [],
   "source": [
    "time.sleep(2)\n",
    "for link in urls:\n",
    "    driver.get(link)\n",
    "    try:\n",
    "        element = WebDriverWait(driver, 10).until(\n",
    "            EC.presence_of_element_located((By.ID, \"ms-hero-image-container\"))\n",
    "        )\n",
    "    except:\n",
    "        driver.quit()\n",
    "            \n",
    "    try:\n",
    "        ratingss = driver.find_element_by_xpath(\"//div[@class='score orange big']\")\n",
    "        rats.append(ratingss.get_attribute(\"textContent\").replace('\\n',''))\n",
    "    except NoSuchElementException:\n",
    "        rats.append('-')\n",
    "        \n",
    "    try:\n",
    "        nos = driver.find_element_by_xpath(\"//div[@class='reviews']\")\n",
    "        no_rats.append(nos.get_attribute(\"textContent\").replace('\\n',''))\n",
    "    except NoSuchElementException:\n",
    "        no_rats.append('-')\n",
    "        \n",
    "    try: \n",
    "        descriptions = driver.find_element_by_xpath(\"//div[@class='content collapse-content']\")\n",
    "        desc.append(descriptions.text)\n",
    "    except NoSuchElementException:\n",
    "        desc.append('-')\n",
    "        \n",
    "    try:\n",
    "        facils = driver.find_element_by_xpath(\"//div[@class='facilities-container']\")\n",
    "        facilities.append(facils.text.replace('\\n',' '))\n",
    "    except NoSuchElementException:\n",
    "        facilities.append('-')"
   ]
  },
  {
   "cell_type": "code",
   "execution_count": 134,
   "metadata": {},
   "outputs": [],
   "source": [
    "hos_df = pd.DataFrame({})\n",
    "hos_df['Hostel Name'] = name\n",
    "hos_df['Distance from city centre'] = dist\n",
    "hos_df['Price private'] = pvt\n",
    "hos_df['Price dorm'] = drm\n",
    "hos_df['Rating'] = rats\n",
    "hos_df['Total ratings'] = no_rats\n",
    "hos_df['Description'] = desc\n",
    "hos_df['Facilities'] = facilities"
   ]
  },
  {
   "cell_type": "code",
   "execution_count": 135,
   "metadata": {},
   "outputs": [
    {
     "data": {
      "text/html": [
       "<div>\n",
       "<style scoped>\n",
       "    .dataframe tbody tr th:only-of-type {\n",
       "        vertical-align: middle;\n",
       "    }\n",
       "\n",
       "    .dataframe tbody tr th {\n",
       "        vertical-align: top;\n",
       "    }\n",
       "\n",
       "    .dataframe thead th {\n",
       "        text-align: right;\n",
       "    }\n",
       "</style>\n",
       "<table border=\"1\" class=\"dataframe\">\n",
       "  <thead>\n",
       "    <tr style=\"text-align: right;\">\n",
       "      <th></th>\n",
       "      <th>Hostel Name</th>\n",
       "      <th>Distance from city centre</th>\n",
       "      <th>Price private</th>\n",
       "      <th>Price dorm</th>\n",
       "      <th>Rating</th>\n",
       "      <th>Total ratings</th>\n",
       "      <th>Description</th>\n",
       "      <th>Facilities</th>\n",
       "    </tr>\n",
       "  </thead>\n",
       "  <tbody>\n",
       "    <tr>\n",
       "      <th>0</th>\n",
       "      <td>London Waterloo Hostel</td>\n",
       "      <td>Hostel - 0.7km from city centre</td>\n",
       "      <td>No Privates Available</td>\n",
       "      <td>Dorms From Rs1460</td>\n",
       "      <td>7.5</td>\n",
       "      <td>2409 Total Reviews</td>\n",
       "      <td>COVID-19 Policy Update\\n\\nIn response to Coron...</td>\n",
       "      <td>Facilities Free Free Breakfast Linen Included ...</td>\n",
       "    </tr>\n",
       "    <tr>\n",
       "      <th>1</th>\n",
       "      <td>Barmy Badger Backpackers</td>\n",
       "      <td>Hostel - 5.5km from city centre</td>\n",
       "      <td>No Privates Available</td>\n",
       "      <td>Dorms From Rs2129</td>\n",
       "      <td>10</td>\n",
       "      <td>1653 Total Reviews</td>\n",
       "      <td>The Badger is unique for London in that we hav...</td>\n",
       "      <td>Facilities Free Free Breakfast Linen Included ...</td>\n",
       "    </tr>\n",
       "    <tr>\n",
       "      <th>2</th>\n",
       "      <td>Wombat's The City Hostel London</td>\n",
       "      <td>Hostel - 3.6km from city centre</td>\n",
       "      <td>Privates From Rs8439</td>\n",
       "      <td>Dorms From Rs1874</td>\n",
       "      <td>9.2</td>\n",
       "      <td>13143 Total Reviews</td>\n",
       "      <td>Wombat's The City Hostel London is definitely ...</td>\n",
       "      <td>Facilities Free Linen Included Free City Maps ...</td>\n",
       "    </tr>\n",
       "    <tr>\n",
       "      <th>3</th>\n",
       "      <td>Prime Backpackers Angel</td>\n",
       "      <td>Hostel - 3.6km from city centre</td>\n",
       "      <td>No Privates Available</td>\n",
       "      <td>Dorms From Rs2398</td>\n",
       "      <td>10</td>\n",
       "      <td>513 Total Reviews</td>\n",
       "      <td>The hostel is housed in a historic building in...</td>\n",
       "      <td>Facilities Free Linen Included Free City Maps ...</td>\n",
       "    </tr>\n",
       "    <tr>\n",
       "      <th>4</th>\n",
       "      <td>St Christopher's Village</td>\n",
       "      <td>Hostel - 1.8km from city centre</td>\n",
       "      <td>Privates From Rs3852</td>\n",
       "      <td>Dorms From Rs1358</td>\n",
       "      <td>8.9</td>\n",
       "      <td>10830 Total Reviews</td>\n",
       "      <td>COVID 19 Policy Update.\\nIn response to Corona...</td>\n",
       "      <td>Facilities Free Linen Included Free City Maps ...</td>\n",
       "    </tr>\n",
       "    <tr>\n",
       "      <th>5</th>\n",
       "      <td>PubLove @ The Steam Engine, Waterloo</td>\n",
       "      <td>Hostel - 0.5km from city centre</td>\n",
       "      <td>No Privates Available</td>\n",
       "      <td>Dorms From Rs1520</td>\n",
       "      <td>9.0</td>\n",
       "      <td>190 Total Reviews</td>\n",
       "      <td>The heart &amp; soul of London backpacking\\nPull u...</td>\n",
       "      <td>Facilities Free Linen Included Free City Maps ...</td>\n",
       "    </tr>\n",
       "    <tr>\n",
       "      <th>6</th>\n",
       "      <td>PubLove @ The Crown, Battersea</td>\n",
       "      <td>Hostel - 4.7km from city centre</td>\n",
       "      <td>Privates From Rs8612</td>\n",
       "      <td>Dorms From Rs1520</td>\n",
       "      <td>6.7</td>\n",
       "      <td>208 Total Reviews</td>\n",
       "      <td>Do London like a local.\\nStay just outside the...</td>\n",
       "      <td>Facilities Free Linen Included Free City Maps ...</td>\n",
       "    </tr>\n",
       "    <tr>\n",
       "      <th>7</th>\n",
       "      <td>Safestay London Elephant &amp; Castle</td>\n",
       "      <td>Hostel - 1.7km from city centre</td>\n",
       "      <td>Privates From Rs5473</td>\n",
       "      <td>Dorms From Rs1824</td>\n",
       "      <td>8.1</td>\n",
       "      <td>3952 Total Reviews</td>\n",
       "      <td>Safestay at Elephant &amp; Castle is ideal if you ...</td>\n",
       "      <td>Facilities Free Linen Included Free City Maps ...</td>\n",
       "    </tr>\n",
       "    <tr>\n",
       "      <th>8</th>\n",
       "      <td>Urbany Hostel London</td>\n",
       "      <td>Hostel - 5.4km from city centre</td>\n",
       "      <td>Privates From Rs4332</td>\n",
       "      <td>Dorms From Rs1764</td>\n",
       "      <td>10</td>\n",
       "      <td>106 Total Reviews</td>\n",
       "      <td>Welcome to Urbany Hostel London, our first int...</td>\n",
       "      <td>Facilities Free Linen Included Free WiFi Gener...</td>\n",
       "    </tr>\n",
       "    <tr>\n",
       "      <th>9</th>\n",
       "      <td>PubLove @ The Green Man, Paddington</td>\n",
       "      <td>Hostel - 4.3km from city centre</td>\n",
       "      <td>Privates From Rs10646</td>\n",
       "      <td>Dorms From Rs1520</td>\n",
       "      <td>-</td>\n",
       "      <td>392 Total Reviews</td>\n",
       "      <td>Where it all began - PubLove was born here in ...</td>\n",
       "      <td>Facilities Free Linen Included Free City Maps ...</td>\n",
       "    </tr>\n",
       "    <tr>\n",
       "      <th>10</th>\n",
       "      <td>Mornington Camden</td>\n",
       "      <td>Hostel - 4.1km from city centre</td>\n",
       "      <td>No Privates Available</td>\n",
       "      <td>Dorms From Rs3178</td>\n",
       "      <td>10</td>\n",
       "      <td>41 Total Reviews</td>\n",
       "      <td>Mornington Camden Hostel is a high class spaci...</td>\n",
       "      <td>Facilities Free Linen Included Free City Maps ...</td>\n",
       "    </tr>\n",
       "    <tr>\n",
       "      <th>11</th>\n",
       "      <td>PubLove @ The Rose &amp; Crown</td>\n",
       "      <td>Hostel - 1.6km from city centre</td>\n",
       "      <td>No Privates Available</td>\n",
       "      <td>Dorms From Rs1520</td>\n",
       "      <td>7.4</td>\n",
       "      <td>99 Total Reviews</td>\n",
       "      <td>Food &amp; culture lovers, assemble!\\nThe Rose &amp; C...</td>\n",
       "      <td>Facilities Free Linen Included Free City Maps ...</td>\n",
       "    </tr>\n",
       "    <tr>\n",
       "      <th>12</th>\n",
       "      <td>Well Street Hall</td>\n",
       "      <td>Bed and Breakfast - 6.7km from city centre</td>\n",
       "      <td>Privates From Rs4257</td>\n",
       "      <td>No Dorms Available</td>\n",
       "      <td>-</td>\n",
       "      <td>0 Total Reviews</td>\n",
       "      <td>Looking for a Bed &amp; Breakfast with the best pr...</td>\n",
       "      <td>Facilities Free Free Breakfast Linen Included ...</td>\n",
       "    </tr>\n",
       "    <tr>\n",
       "      <th>13</th>\n",
       "      <td>New Cross Inn Hostel</td>\n",
       "      <td>Hostel - 6.1km from city centre</td>\n",
       "      <td>Privates From Rs3120</td>\n",
       "      <td>Dorms From Rs1213</td>\n",
       "      <td>7.0</td>\n",
       "      <td>1005 Total Reviews</td>\n",
       "      <td>Welcome to New Cross Inn Hostel!\\n\\nA Friendly...</td>\n",
       "      <td>Facilities Free Free Breakfast Linen Included ...</td>\n",
       "    </tr>\n",
       "    <tr>\n",
       "      <th>14</th>\n",
       "      <td>Strand Continental</td>\n",
       "      <td>Hostel - 1.3km from city centre</td>\n",
       "      <td>Privates From Rs4561</td>\n",
       "      <td>Dorms From Rs1916</td>\n",
       "      <td>8.3</td>\n",
       "      <td>773 Total Reviews</td>\n",
       "      <td>Welcome to one of London's cheapest, friendlie...</td>\n",
       "      <td>Facilities Free Free Breakfast General Common ...</td>\n",
       "    </tr>\n",
       "    <tr>\n",
       "      <th>15</th>\n",
       "      <td>St Christopher's Oasis-Female Only</td>\n",
       "      <td>Hostel - 1.8km from city centre</td>\n",
       "      <td>No Privates Available</td>\n",
       "      <td>Dorms From Rs1443</td>\n",
       "      <td>9.1</td>\n",
       "      <td>594 Total Reviews</td>\n",
       "      <td>COVID 19 Policy Update.\\nIn response to Corona...</td>\n",
       "      <td>Facilities Free Linen Included Free City Maps ...</td>\n",
       "    </tr>\n",
       "    <tr>\n",
       "      <th>16</th>\n",
       "      <td>Astor Museum Inn</td>\n",
       "      <td>Hostel - 2.2km from city centre</td>\n",
       "      <td>No Privates Available</td>\n",
       "      <td>Dorms From Rs1723</td>\n",
       "      <td>9.5</td>\n",
       "      <td>8714 Total Reviews</td>\n",
       "      <td>With the British Museum literally on its doors...</td>\n",
       "      <td>Facilities Free Linen Included Free City Maps ...</td>\n",
       "    </tr>\n",
       "    <tr>\n",
       "      <th>17</th>\n",
       "      <td>Astor Kensington</td>\n",
       "      <td>Hostel - 4.9km from city centre</td>\n",
       "      <td>Privates From Rs7095</td>\n",
       "      <td>Dorms From Rs1419</td>\n",
       "      <td>8.7</td>\n",
       "      <td>6326 Total Reviews</td>\n",
       "      <td>Located a short walk from Notting Hill, Hyde P...</td>\n",
       "      <td>Facilities Free Linen Included Free City Maps ...</td>\n",
       "    </tr>\n",
       "    <tr>\n",
       "      <th>18</th>\n",
       "      <td>Mapesbury Hostel</td>\n",
       "      <td>Hostel - 8.2km from city centre</td>\n",
       "      <td>Privates From Rs4561</td>\n",
       "      <td>No Dorms Available</td>\n",
       "      <td>-</td>\n",
       "      <td>357 Total Reviews</td>\n",
       "      <td>The Mapesbury Hostel offers budget accommodati...</td>\n",
       "      <td>Facilities Free Linen Included Free WiFi Free ...</td>\n",
       "    </tr>\n",
       "    <tr>\n",
       "      <th>19</th>\n",
       "      <td>Hootananny Hostel</td>\n",
       "      <td>Hostel - 5km from city centre</td>\n",
       "      <td>No Privates Available</td>\n",
       "      <td>Dorms From Rs1637</td>\n",
       "      <td>8.0</td>\n",
       "      <td>1406 Total Reviews</td>\n",
       "      <td>Hootananny is a lively hostel with spacious ro...</td>\n",
       "      <td>Facilities Free Free Breakfast Linen Included ...</td>\n",
       "    </tr>\n",
       "    <tr>\n",
       "      <th>20</th>\n",
       "      <td>Astor Hyde Park</td>\n",
       "      <td>Hostel - 4.3km from city centre</td>\n",
       "      <td>No Privates Available</td>\n",
       "      <td>Dorms From Rs1419</td>\n",
       "      <td>9.1</td>\n",
       "      <td>11326 Total Reviews</td>\n",
       "      <td>Located in the most beautiful and charming nei...</td>\n",
       "      <td>Facilities Free Linen Included Free City Maps ...</td>\n",
       "    </tr>\n",
       "    <tr>\n",
       "      <th>21</th>\n",
       "      <td>Phoenix Hostel</td>\n",
       "      <td>Hostel - 4.2km from city centre</td>\n",
       "      <td>Privates From Rs2220</td>\n",
       "      <td>Dorms From Rs1581</td>\n",
       "      <td>8.2</td>\n",
       "      <td>3421 Total Reviews</td>\n",
       "      <td>*Please note we are operating on LIMITED recep...</td>\n",
       "      <td>Facilities Free Linen Included Free City Maps ...</td>\n",
       "    </tr>\n",
       "    <tr>\n",
       "      <th>22</th>\n",
       "      <td>247london Hostel and Private Rooms</td>\n",
       "      <td>Hostel - 8.2km from city centre</td>\n",
       "      <td>Privates From Rs5169</td>\n",
       "      <td>No Dorms Available</td>\n",
       "      <td>6.6</td>\n",
       "      <td>443 Total Reviews</td>\n",
       "      <td>247london Hostel and Private Rooms is a home a...</td>\n",
       "      <td>Facilities Free Linen Included Free WiFi Free ...</td>\n",
       "    </tr>\n",
       "    <tr>\n",
       "      <th>23</th>\n",
       "      <td>Burlington Residence</td>\n",
       "      <td>Hostel - 7.1km from city centre</td>\n",
       "      <td>No Privates Available</td>\n",
       "      <td>Dorms From Rs2068</td>\n",
       "      <td>9.8</td>\n",
       "      <td>26 Total Reviews</td>\n",
       "      <td>Situated in South West London, close to Balham...</td>\n",
       "      <td>Facilities Free Free Breakfast Linen Included ...</td>\n",
       "    </tr>\n",
       "    <tr>\n",
       "      <th>24</th>\n",
       "      <td>SoHostel</td>\n",
       "      <td>Hostel - 2km from city centre</td>\n",
       "      <td>No Privates Available</td>\n",
       "      <td>Dorms From Rs2027</td>\n",
       "      <td>8.6</td>\n",
       "      <td>3961 Total Reviews</td>\n",
       "      <td>We have implemented our Staying Safe Together ...</td>\n",
       "      <td>Facilities Free Linen Included Free City Maps ...</td>\n",
       "    </tr>\n",
       "    <tr>\n",
       "      <th>25</th>\n",
       "      <td>Clink261</td>\n",
       "      <td>Hostel - 3.2km from city centre</td>\n",
       "      <td>Privates From Rs5419</td>\n",
       "      <td>Dorms From Rs1335</td>\n",
       "      <td>7.6</td>\n",
       "      <td>3172 Total Reviews</td>\n",
       "      <td>Clink261 is a comfortable, centrally located h...</td>\n",
       "      <td>Facilities Free Linen Included Free City Maps ...</td>\n",
       "    </tr>\n",
       "    <tr>\n",
       "      <th>26</th>\n",
       "      <td>Generator London</td>\n",
       "      <td>Hostel - 3km from city centre</td>\n",
       "      <td>Privates From Rs8007</td>\n",
       "      <td>Dorms From Rs1926</td>\n",
       "      <td>7.6</td>\n",
       "      <td>6737 Total Reviews</td>\n",
       "      <td>Generator London is a design hotel-hostel loca...</td>\n",
       "      <td>Facilities Free Linen Included Free City Maps ...</td>\n",
       "    </tr>\n",
       "    <tr>\n",
       "      <th>27</th>\n",
       "      <td>PubLove @ The White Ferry, Victoria</td>\n",
       "      <td>Hostel - 2.4km from city centre</td>\n",
       "      <td>No Privates Available</td>\n",
       "      <td>Dorms From Rs1520</td>\n",
       "      <td>8.9</td>\n",
       "      <td>134 Total Reviews</td>\n",
       "      <td>Walk to the river, turn left, and just keep wa...</td>\n",
       "      <td>Facilities Free Linen Included Free City Maps ...</td>\n",
       "    </tr>\n",
       "    <tr>\n",
       "      <th>28</th>\n",
       "      <td>Smart Russell Square Hostel</td>\n",
       "      <td>Hostel - 2.6km from city centre</td>\n",
       "      <td>No Privates Available</td>\n",
       "      <td>Dorms From Rs1161</td>\n",
       "      <td>7.5</td>\n",
       "      <td>9504 Total Reviews</td>\n",
       "      <td>Nestled in the heart of London, walking distan...</td>\n",
       "      <td>Facilities Free Linen Included Free City Maps ...</td>\n",
       "    </tr>\n",
       "    <tr>\n",
       "      <th>29</th>\n",
       "      <td>Keystone House Kings Cross</td>\n",
       "      <td>Hostel - 3.5km from city centre</td>\n",
       "      <td>Privates From Rs4221</td>\n",
       "      <td>No Dorms Available</td>\n",
       "      <td>9.1</td>\n",
       "      <td>8111 Total Reviews</td>\n",
       "      <td>Keystone House is located in the heart of Lond...</td>\n",
       "      <td>Facilities Free Linen Included Free City Maps ...</td>\n",
       "    </tr>\n",
       "  </tbody>\n",
       "</table>\n",
       "</div>"
      ],
      "text/plain": [
       "                             Hostel Name  \\\n",
       "0                 London Waterloo Hostel   \n",
       "1               Barmy Badger Backpackers   \n",
       "2        Wombat's The City Hostel London   \n",
       "3                Prime Backpackers Angel   \n",
       "4               St Christopher's Village   \n",
       "5   PubLove @ The Steam Engine, Waterloo   \n",
       "6         PubLove @ The Crown, Battersea   \n",
       "7      Safestay London Elephant & Castle   \n",
       "8                   Urbany Hostel London   \n",
       "9    PubLove @ The Green Man, Paddington   \n",
       "10                     Mornington Camden   \n",
       "11            PubLove @ The Rose & Crown   \n",
       "12                      Well Street Hall   \n",
       "13                  New Cross Inn Hostel   \n",
       "14                    Strand Continental   \n",
       "15    St Christopher's Oasis-Female Only   \n",
       "16                      Astor Museum Inn   \n",
       "17                      Astor Kensington   \n",
       "18                      Mapesbury Hostel   \n",
       "19                     Hootananny Hostel   \n",
       "20                       Astor Hyde Park   \n",
       "21                        Phoenix Hostel   \n",
       "22    247london Hostel and Private Rooms   \n",
       "23                  Burlington Residence   \n",
       "24                              SoHostel   \n",
       "25                              Clink261   \n",
       "26                      Generator London   \n",
       "27   PubLove @ The White Ferry, Victoria   \n",
       "28           Smart Russell Square Hostel   \n",
       "29            Keystone House Kings Cross   \n",
       "\n",
       "                     Distance from city centre          Price private  \\\n",
       "0              Hostel - 0.7km from city centre  No Privates Available   \n",
       "1              Hostel - 5.5km from city centre  No Privates Available   \n",
       "2              Hostel - 3.6km from city centre   Privates From Rs8439   \n",
       "3              Hostel - 3.6km from city centre  No Privates Available   \n",
       "4              Hostel - 1.8km from city centre   Privates From Rs3852   \n",
       "5              Hostel - 0.5km from city centre  No Privates Available   \n",
       "6              Hostel - 4.7km from city centre   Privates From Rs8612   \n",
       "7              Hostel - 1.7km from city centre   Privates From Rs5473   \n",
       "8              Hostel - 5.4km from city centre   Privates From Rs4332   \n",
       "9              Hostel - 4.3km from city centre  Privates From Rs10646   \n",
       "10             Hostel - 4.1km from city centre  No Privates Available   \n",
       "11             Hostel - 1.6km from city centre  No Privates Available   \n",
       "12  Bed and Breakfast - 6.7km from city centre   Privates From Rs4257   \n",
       "13             Hostel - 6.1km from city centre   Privates From Rs3120   \n",
       "14             Hostel - 1.3km from city centre   Privates From Rs4561   \n",
       "15             Hostel - 1.8km from city centre  No Privates Available   \n",
       "16             Hostel - 2.2km from city centre  No Privates Available   \n",
       "17             Hostel - 4.9km from city centre   Privates From Rs7095   \n",
       "18             Hostel - 8.2km from city centre   Privates From Rs4561   \n",
       "19               Hostel - 5km from city centre  No Privates Available   \n",
       "20             Hostel - 4.3km from city centre  No Privates Available   \n",
       "21             Hostel - 4.2km from city centre   Privates From Rs2220   \n",
       "22             Hostel - 8.2km from city centre   Privates From Rs5169   \n",
       "23             Hostel - 7.1km from city centre  No Privates Available   \n",
       "24               Hostel - 2km from city centre  No Privates Available   \n",
       "25             Hostel - 3.2km from city centre   Privates From Rs5419   \n",
       "26               Hostel - 3km from city centre   Privates From Rs8007   \n",
       "27             Hostel - 2.4km from city centre  No Privates Available   \n",
       "28             Hostel - 2.6km from city centre  No Privates Available   \n",
       "29             Hostel - 3.5km from city centre   Privates From Rs4221   \n",
       "\n",
       "            Price dorm Rating        Total ratings  \\\n",
       "0    Dorms From Rs1460    7.5   2409 Total Reviews   \n",
       "1    Dorms From Rs2129     10   1653 Total Reviews   \n",
       "2    Dorms From Rs1874    9.2  13143 Total Reviews   \n",
       "3    Dorms From Rs2398     10    513 Total Reviews   \n",
       "4    Dorms From Rs1358    8.9  10830 Total Reviews   \n",
       "5    Dorms From Rs1520    9.0    190 Total Reviews   \n",
       "6    Dorms From Rs1520    6.7    208 Total Reviews   \n",
       "7    Dorms From Rs1824    8.1   3952 Total Reviews   \n",
       "8    Dorms From Rs1764     10    106 Total Reviews   \n",
       "9    Dorms From Rs1520      -    392 Total Reviews   \n",
       "10   Dorms From Rs3178     10     41 Total Reviews   \n",
       "11   Dorms From Rs1520    7.4     99 Total Reviews   \n",
       "12  No Dorms Available      -      0 Total Reviews   \n",
       "13   Dorms From Rs1213    7.0   1005 Total Reviews   \n",
       "14   Dorms From Rs1916    8.3    773 Total Reviews   \n",
       "15   Dorms From Rs1443    9.1    594 Total Reviews   \n",
       "16   Dorms From Rs1723    9.5   8714 Total Reviews   \n",
       "17   Dorms From Rs1419    8.7   6326 Total Reviews   \n",
       "18  No Dorms Available      -    357 Total Reviews   \n",
       "19   Dorms From Rs1637    8.0   1406 Total Reviews   \n",
       "20   Dorms From Rs1419    9.1  11326 Total Reviews   \n",
       "21   Dorms From Rs1581    8.2   3421 Total Reviews   \n",
       "22  No Dorms Available    6.6    443 Total Reviews   \n",
       "23   Dorms From Rs2068    9.8     26 Total Reviews   \n",
       "24   Dorms From Rs2027    8.6   3961 Total Reviews   \n",
       "25   Dorms From Rs1335    7.6   3172 Total Reviews   \n",
       "26   Dorms From Rs1926    7.6   6737 Total Reviews   \n",
       "27   Dorms From Rs1520    8.9    134 Total Reviews   \n",
       "28   Dorms From Rs1161    7.5   9504 Total Reviews   \n",
       "29  No Dorms Available    9.1   8111 Total Reviews   \n",
       "\n",
       "                                          Description  \\\n",
       "0   COVID-19 Policy Update\\n\\nIn response to Coron...   \n",
       "1   The Badger is unique for London in that we hav...   \n",
       "2   Wombat's The City Hostel London is definitely ...   \n",
       "3   The hostel is housed in a historic building in...   \n",
       "4   COVID 19 Policy Update.\\nIn response to Corona...   \n",
       "5   The heart & soul of London backpacking\\nPull u...   \n",
       "6   Do London like a local.\\nStay just outside the...   \n",
       "7   Safestay at Elephant & Castle is ideal if you ...   \n",
       "8   Welcome to Urbany Hostel London, our first int...   \n",
       "9   Where it all began - PubLove was born here in ...   \n",
       "10  Mornington Camden Hostel is a high class spaci...   \n",
       "11  Food & culture lovers, assemble!\\nThe Rose & C...   \n",
       "12  Looking for a Bed & Breakfast with the best pr...   \n",
       "13  Welcome to New Cross Inn Hostel!\\n\\nA Friendly...   \n",
       "14  Welcome to one of London's cheapest, friendlie...   \n",
       "15  COVID 19 Policy Update.\\nIn response to Corona...   \n",
       "16  With the British Museum literally on its doors...   \n",
       "17  Located a short walk from Notting Hill, Hyde P...   \n",
       "18  The Mapesbury Hostel offers budget accommodati...   \n",
       "19  Hootananny is a lively hostel with spacious ro...   \n",
       "20  Located in the most beautiful and charming nei...   \n",
       "21  *Please note we are operating on LIMITED recep...   \n",
       "22  247london Hostel and Private Rooms is a home a...   \n",
       "23  Situated in South West London, close to Balham...   \n",
       "24  We have implemented our Staying Safe Together ...   \n",
       "25  Clink261 is a comfortable, centrally located h...   \n",
       "26  Generator London is a design hotel-hostel loca...   \n",
       "27  Walk to the river, turn left, and just keep wa...   \n",
       "28  Nestled in the heart of London, walking distan...   \n",
       "29  Keystone House is located in the heart of Lond...   \n",
       "\n",
       "                                           Facilities  \n",
       "0   Facilities Free Free Breakfast Linen Included ...  \n",
       "1   Facilities Free Free Breakfast Linen Included ...  \n",
       "2   Facilities Free Linen Included Free City Maps ...  \n",
       "3   Facilities Free Linen Included Free City Maps ...  \n",
       "4   Facilities Free Linen Included Free City Maps ...  \n",
       "5   Facilities Free Linen Included Free City Maps ...  \n",
       "6   Facilities Free Linen Included Free City Maps ...  \n",
       "7   Facilities Free Linen Included Free City Maps ...  \n",
       "8   Facilities Free Linen Included Free WiFi Gener...  \n",
       "9   Facilities Free Linen Included Free City Maps ...  \n",
       "10  Facilities Free Linen Included Free City Maps ...  \n",
       "11  Facilities Free Linen Included Free City Maps ...  \n",
       "12  Facilities Free Free Breakfast Linen Included ...  \n",
       "13  Facilities Free Free Breakfast Linen Included ...  \n",
       "14  Facilities Free Free Breakfast General Common ...  \n",
       "15  Facilities Free Linen Included Free City Maps ...  \n",
       "16  Facilities Free Linen Included Free City Maps ...  \n",
       "17  Facilities Free Linen Included Free City Maps ...  \n",
       "18  Facilities Free Linen Included Free WiFi Free ...  \n",
       "19  Facilities Free Free Breakfast Linen Included ...  \n",
       "20  Facilities Free Linen Included Free City Maps ...  \n",
       "21  Facilities Free Linen Included Free City Maps ...  \n",
       "22  Facilities Free Linen Included Free WiFi Free ...  \n",
       "23  Facilities Free Free Breakfast Linen Included ...  \n",
       "24  Facilities Free Linen Included Free City Maps ...  \n",
       "25  Facilities Free Linen Included Free City Maps ...  \n",
       "26  Facilities Free Linen Included Free City Maps ...  \n",
       "27  Facilities Free Linen Included Free City Maps ...  \n",
       "28  Facilities Free Linen Included Free City Maps ...  \n",
       "29  Facilities Free Linen Included Free City Maps ...  "
      ]
     },
     "execution_count": 135,
     "metadata": {},
     "output_type": "execute_result"
    }
   ],
   "source": [
    "hos_df"
   ]
  },
  {
   "cell_type": "code",
   "execution_count": 136,
   "metadata": {},
   "outputs": [],
   "source": [
    "time.sleep(5)\n",
    "driver.quit()"
   ]
  },
  {
   "cell_type": "markdown",
   "metadata": {},
   "source": [
    "## End of assignment"
   ]
  }
 ],
 "metadata": {
  "kernelspec": {
   "display_name": "Python 3",
   "language": "python",
   "name": "python3"
  },
  "language_info": {
   "codemirror_mode": {
    "name": "ipython",
    "version": 3
   },
   "file_extension": ".py",
   "mimetype": "text/x-python",
   "name": "python",
   "nbconvert_exporter": "python",
   "pygments_lexer": "ipython3",
   "version": "3.8.5"
  }
 },
 "nbformat": 4,
 "nbformat_minor": 4
}
